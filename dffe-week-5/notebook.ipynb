{
 "nbformat": 4,
 "nbformat_minor": 0,
 "metadata": {
  "colab": {
   "provenance": []
  },
  "kernelspec": {
   "name": "python3",
   "display_name": "Python 3 (ipykernel)",
   "language": "python"
  },
  "language_info": {
   "name": "python"
  }
 },
 "cells": [
  {
   "cell_type": "code",
   "metadata": {
    "id": "7DH4-DmUonWM",
    "ExecuteTime": {
     "end_time": "2025-03-24T07:37:55.225108Z",
     "start_time": "2025-03-24T07:37:50.809789Z"
    }
   },
   "source": [
    "from tokenize import PlainToken\n",
    "\n",
    "import numpy as np\n",
    "import pandas as pd\n",
    "\n",
    "import warnings\n",
    "\n",
    "from numpy.ma.extras import column_stack\n",
    "from sympy.physics.units import frequency\n",
    "from timm.data.auto_augment import color\n",
    "\n",
    "warnings.filterwarnings('ignore')"
   ],
   "outputs": [
    {
     "name": "stderr",
     "output_type": "stream",
     "text": [
      "C:\\Users\\sammi\\anaconda3\\envs\\tensorflow-env\\lib\\site-packages\\tqdm\\auto.py:21: TqdmWarning: IProgress not found. Please update jupyter and ipywidgets. See https://ipywidgets.readthedocs.io/en/stable/user_install.html\n",
      "  from .autonotebook import tqdm as notebook_tqdm\n"
     ]
    }
   ],
   "execution_count": 1
  },
  {
   "cell_type": "markdown",
   "source": [
    "#Handling Missing Values\n",
    "\n",
    "Missing values are data points that are absent for a specific variable in a dataset. They can be represented in various ways, such as blank cells, null values, or special symbols like “NA” or “unknown.” These missing data points pose a significant challenge in data analysis and can lead to inaccurate or biased results."
   ],
   "metadata": {
    "id": "BbMXTRVI3Cdi"
   }
  },
  {
   "cell_type": "code",
   "source": [
    "# Creating a sample DataFrame with missing values\n",
    "data = {\n",
    "    'School ID': [101, 102, 103, np.nan, 105, 106, 107, 108],\n",
    "    'Name': ['Alice', 'Bob', 'Charlie', 'David', 'Eva', 'Frank', 'Grace', 'Henry'],\n",
    "    'Address': ['123 Main St', '456 Oak Ave', '789 Pine Ln', '101 Elm St', np.nan, '222 Maple Rd', '444 Cedar Blvd', '555 Birch Dr'],\n",
    "    'City': ['Los Angeles', 'New York', 'Houston', 'Los Angeles', 'Miami', np.nan, 'Houston', 'New York'],\n",
    "    'Subject': ['Math', 'English', 'Science', 'Math', 'History', 'Math', 'Science', 'English'],\n",
    "    'Marks': [85, 92, 78, 89, np.nan, 95, 80, 88],\n",
    "    'Rank': [2, 1, 4, 3, 8, 1, 5, 3],\n",
    "    'Grade': ['B', 'A', 'C', 'B', 'D', 'A', 'C', 'B']\n",
    "}\n",
    "\n",
    "df = pd.DataFrame(data)\n",
    "print(\"Sample DataFrame:\")\n",
    "\n",
    "print(df)"
   ],
   "metadata": {
    "id": "izhxbKrjotC0",
    "colab": {
     "base_uri": "https://localhost:8080/"
    },
    "outputId": "390c763a-8d56-499e-961b-25d8dd3cdd35",
    "ExecuteTime": {
     "end_time": "2025-03-24T07:37:55.255036Z",
     "start_time": "2025-03-24T07:37:55.232246Z"
    }
   },
   "outputs": [
    {
     "name": "stdout",
     "output_type": "stream",
     "text": [
      "Sample DataFrame:\n",
      "   School ID     Name         Address         City  Subject  Marks  Rank Grade\n",
      "0      101.0    Alice     123 Main St  Los Angeles     Math   85.0     2     B\n",
      "1      102.0      Bob     456 Oak Ave     New York  English   92.0     1     A\n",
      "2      103.0  Charlie     789 Pine Ln      Houston  Science   78.0     4     C\n",
      "3        NaN    David      101 Elm St  Los Angeles     Math   89.0     3     B\n",
      "4      105.0      Eva             NaN        Miami  History    NaN     8     D\n",
      "5      106.0    Frank    222 Maple Rd          NaN     Math   95.0     1     A\n",
      "6      107.0    Grace  444 Cedar Blvd      Houston  Science   80.0     5     C\n",
      "7      108.0    Henry    555 Birch Dr     New York  English   88.0     3     B\n"
     ]
    }
   ],
   "execution_count": 2
  },
  {
   "cell_type": "markdown",
   "source": [
    "##Removing Rows with Missing Values\n",
    "* Simple and efficient: Removes data points with missing values altogether.\n",
    "* Reduces sample size: Can lead to biased results if missingness is not random.\n",
    "* Not recommended for large datasets: Can discard valuable information.\n",
    "\n",
    "In this example, we are removing rows with missing values from the original DataFrame (`df`) using the `dropna()` method and then displaying the cleaned DataFrame (`df_cleaned`)."
   ],
   "metadata": {
    "id": "6WkdoT8U3z5j"
   }
  },
  {
   "cell_type": "code",
   "source": [
    "# Removing rows with missing values\n",
    "df_cleaned = df.dropna()\n",
    "\n",
    "# Displaying the DataFrame after removing missing values\n",
    "print(\"\\nDataFrame after removing rows with missing values:\")\n",
    "print(df_cleaned)"
   ],
   "metadata": {
    "colab": {
     "base_uri": "https://localhost:8080/"
    },
    "id": "-EcLo3iY3viS",
    "outputId": "00be0240-649e-488a-98dc-6b61e4c499bf",
    "ExecuteTime": {
     "end_time": "2025-03-24T07:37:55.536945Z",
     "start_time": "2025-03-24T07:37:55.525812Z"
    }
   },
   "outputs": [
    {
     "name": "stdout",
     "output_type": "stream",
     "text": [
      "\n",
      "DataFrame after removing rows with missing values:\n",
      "   School ID     Name         Address         City  Subject  Marks  Rank Grade\n",
      "0      101.0    Alice     123 Main St  Los Angeles     Math   85.0     2     B\n",
      "1      102.0      Bob     456 Oak Ave     New York  English   92.0     1     A\n",
      "2      103.0  Charlie     789 Pine Ln      Houston  Science   78.0     4     C\n",
      "6      107.0    Grace  444 Cedar Blvd      Houston  Science   80.0     5     C\n",
      "7      108.0    Henry    555 Birch Dr     New York  English   88.0     3     B\n"
     ]
    }
   ],
   "execution_count": 3
  },
  {
   "cell_type": "markdown",
   "source": [
    "## Imputation Methods\n",
    "* Replacing missing values with estimated values.\n",
    "* Preserves sample size: Doesn’t reduce data points.\n",
    "* Can introduce bias: Estimated values might not be accurate."
   ],
   "metadata": {
    "id": "yXvxsPo04HIx"
   }
  },
  {
   "cell_type": "markdown",
   "source": [
    "###Mean, Median, and Mode Imputation:\n",
    "\n",
    "* Replace missing values with the mean, median, or mode of the relevant variable.\n",
    "* Simple and efficient: Easy to implement.\n",
    "* Can be inaccurate: Doesn't consider the relationships between variables.\n",
    "\n",
    "In this example, we are explaining the imputation techniques for handling missing values in the `Marks` column of the DataFrame (`df`). It calculates and fills missing values with the mean, median, and mode of the existing values in that column, and then prints the results for observation.\n",
    "\n",
    "1. Mean Imputation: Calculates the mean of the Marks column in the DataFrame (`df`).\n",
    "* `df['Marks'].fillna(df['Marks'].mean())`: Fills missing values in the Marks column with the mean value.\n",
    "* `mean_imputation`: The result is stored in the variable mean_imputation.\n",
    "2. Median Imputation: Calculates the median of the Marks column in the DataFrame (`df`).\n",
    "* `df['Marks'].fillna(df['Marks'].median())`: Fills missing values in the Marks column with the median value.\n",
    "* `median_imputation`: The result is stored in the variable median_imputation.\n",
    "3. Mode Imputation: Calculates the mode of the Marks column in the DataFrame (`df`). The result is a Series.\n",
    "* `.iloc[0]`: Accesses the first element of the Series, which represents the mode.\n",
    "* `df['Marks'].fillna(df['Marks'].mode())`: Fills missing values in the Marks column with the mode value."
   ],
   "metadata": {
    "id": "7BbXgRJt4ecN"
   }
  },
  {
   "cell_type": "code",
   "source": [
    "#  Mean, Median, and Mode Imputation\n",
    "mean_imputation = df['Marks'].fillna(df['Marks'].mean())\n",
    "median_imputation = df['Marks'].fillna(df['Marks'].median())\n",
    "mode_imputation = df['Marks'].fillna(df['Marks'].mode().iloc[0])\n",
    "\n",
    "print(\"\\nImputation using Mean:\")\n",
    "print(mean_imputation)\n",
    "\n",
    "print(\"\\nImputation using Median:\")\n",
    "print(median_imputation)\n",
    "\n",
    "print(\"\\nImputation using Mode:\")\n",
    "print(mode_imputation)"
   ],
   "metadata": {
    "colab": {
     "base_uri": "https://localhost:8080/"
    },
    "id": "-VgH3J7j4UxF",
    "outputId": "ee8acab1-d855-4b91-d1d0-7645184164c9",
    "ExecuteTime": {
     "end_time": "2025-03-24T07:37:55.574035Z",
     "start_time": "2025-03-24T07:37:55.561002Z"
    }
   },
   "outputs": [
    {
     "name": "stdout",
     "output_type": "stream",
     "text": [
      "\n",
      "Imputation using Mean:\n",
      "0    85.000000\n",
      "1    92.000000\n",
      "2    78.000000\n",
      "3    89.000000\n",
      "4    86.714286\n",
      "5    95.000000\n",
      "6    80.000000\n",
      "7    88.000000\n",
      "Name: Marks, dtype: float64\n",
      "\n",
      "Imputation using Median:\n",
      "0    85.0\n",
      "1    92.0\n",
      "2    78.0\n",
      "3    89.0\n",
      "4    88.0\n",
      "5    95.0\n",
      "6    80.0\n",
      "7    88.0\n",
      "Name: Marks, dtype: float64\n",
      "\n",
      "Imputation using Mode:\n",
      "0    85.0\n",
      "1    92.0\n",
      "2    78.0\n",
      "3    89.0\n",
      "4    78.0\n",
      "5    95.0\n",
      "6    80.0\n",
      "7    88.0\n",
      "Name: Marks, dtype: float64\n"
     ]
    }
   ],
   "execution_count": 4
  },
  {
   "cell_type": "markdown",
   "source": [
    "###Forward and Backward Fill\n",
    "\n",
    "* Replace missing values with the previous or next non-missing value in the same variable.\n",
    "* Simple and intuitive: Preserves temporal order.\n",
    "* Can be inaccurate: Assumes missing values are close to observed values\n",
    "\n",
    "These fill methods are particularly useful when there is a logical sequence or order in the data, and missing values can be reasonably assumed to follow a pattern. The method parameter in `fillna()` allows to specify the filling strategy, and here, it’s set to `ffill` for forward fill and `bfill` for backward fill.\n",
    "\n",
    "1. Forward Fill (`forward_fill`)\n",
    "* `df['Marks'].fillna(method='ffill')`: This method fills missing values in the `Marks` column of the DataFrame (`df`) using a forward fill strategy. It replaces missing values with the last observed non-missing value in the column.\n",
    "* `forward_fill`: The result is stored in the variable `forward_fill`.\n",
    "2. Backward Fill (`backward_fill`)\n",
    "* `df['Marks'].fillna(method='bfill')`: This method fills missing values in the `Marks` column using a backward fill strategy. It replaces missing values with the next observed non-missing value in the column.\n",
    "* `backward_fill`: The result is stored in the variable `backward_fill`."
   ],
   "metadata": {
    "id": "M537D4Vh5cEs"
   }
  },
  {
   "cell_type": "code",
   "source": [
    "# Forward and Backward Fill\n",
    "forward_fill = df['Marks'].fillna(method='ffill')\n",
    "backward_fill = df['Marks'].fillna(method='bfill')\n",
    "\n",
    "print(\"\\nForward Fill:\")\n",
    "print(forward_fill)\n",
    "\n",
    "print(\"\\nBackward Fill:\")\n",
    "print(backward_fill)"
   ],
   "metadata": {
    "colab": {
     "base_uri": "https://localhost:8080/"
    },
    "id": "jSYEklVY4Gh8",
    "outputId": "99e6f0b5-a721-4120-d06c-803d6a2727c6",
    "ExecuteTime": {
     "end_time": "2025-03-24T07:37:55.605264Z",
     "start_time": "2025-03-24T07:37:55.591039Z"
    }
   },
   "outputs": [
    {
     "name": "stdout",
     "output_type": "stream",
     "text": [
      "\n",
      "Forward Fill:\n",
      "0    85.0\n",
      "1    92.0\n",
      "2    78.0\n",
      "3    89.0\n",
      "4    89.0\n",
      "5    95.0\n",
      "6    80.0\n",
      "7    88.0\n",
      "Name: Marks, dtype: float64\n",
      "\n",
      "Backward Fill:\n",
      "0    85.0\n",
      "1    92.0\n",
      "2    78.0\n",
      "3    89.0\n",
      "4    95.0\n",
      "5    95.0\n",
      "6    80.0\n",
      "7    88.0\n",
      "Name: Marks, dtype: float64\n"
     ]
    }
   ],
   "execution_count": 5
  },
  {
   "cell_type": "markdown",
   "source": [
    "###Interpolation Techniques\n",
    "\n",
    "* Estimate missing values based on surrounding data points.\n",
    "* More sophisticated than mean/median imputation: Captures relationships between variables.\n",
    "\n",
    "These interpolation techniques are useful when the relationship between data points can be reasonably assumed to follow a linear or quadratic pattern. The method parameter in the `interpolate()` method allows to specify the interpolation strategy.\n",
    "\n",
    "1. Linear Interpolation\n",
    "* `df['Marks'].interpolate(method='linear')`: This method performs linear interpolation on the `Marks` column of the DataFrame (`df`). Linear interpolation estimates missing values by considering a straight line between two adjacent non-missing values.\n",
    "* `linear_interpolation`: The result is stored in the variable linear_interpolation.\n",
    "2. Quadratic Interpolation\n",
    "* `df['Marks'].interpolate(method='quadratic')`: This method performs quadratic interpolation on the `Marks` column. Quadratic interpolation estimates missing values by considering a quadratic curve that passes through three adjacent non-missing values.\n",
    "* `quadratic_interpolation`: The result is stored in the variable quadratic_interpolation."
   ],
   "metadata": {
    "id": "ZaQZAsXs6mdP"
   }
  },
  {
   "cell_type": "code",
   "source": [
    "#  Interpolation Techniques\n",
    "linear_interpolation = df['Marks'].interpolate(method='linear')\n",
    "quadratic_interpolation = df['Marks'].interpolate(method='quadratic')\n",
    "\n",
    "print(\"\\nLinear Interpolation:\")\n",
    "print(linear_interpolation)\n",
    "\n",
    "print(\"\\nQuadratic Interpolation:\")\n",
    "print(quadratic_interpolation)"
   ],
   "metadata": {
    "colab": {
     "base_uri": "https://localhost:8080/"
    },
    "id": "6DZYMXw87vxY",
    "outputId": "693cf462-6f19-46f1-a0d4-8d73211a63e4",
    "ExecuteTime": {
     "end_time": "2025-03-24T07:37:55.631222Z",
     "start_time": "2025-03-24T07:37:55.616794Z"
    }
   },
   "outputs": [
    {
     "name": "stdout",
     "output_type": "stream",
     "text": [
      "\n",
      "Linear Interpolation:\n",
      "0    85.0\n",
      "1    92.0\n",
      "2    78.0\n",
      "3    89.0\n",
      "4    92.0\n",
      "5    95.0\n",
      "6    80.0\n",
      "7    88.0\n",
      "Name: Marks, dtype: float64\n",
      "\n",
      "Quadratic Interpolation:\n",
      "0    85.00000\n",
      "1    92.00000\n",
      "2    78.00000\n",
      "3    89.00000\n",
      "4    98.28024\n",
      "5    95.00000\n",
      "6    80.00000\n",
      "7    88.00000\n",
      "Name: Marks, dtype: float64\n"
     ]
    }
   ],
   "execution_count": 6
  },
  {
   "cell_type": "markdown",
   "source": [
    "#Detecting and Removing Outliers\n",
    "\n",
    "An outlier is a data item/object that deviates significantly from the rest of the objects in a dataset. Outliers can distort statistical analyses, affecting mean, variance, and other measures. Removal improves model performance and data accuracy. Common techniques include visualization tools (box plots, scatter plots), mathematical methods (Z-scores, IQR), and threshold-based filtering."
   ],
   "metadata": {
    "id": "RWes4h6d74pO"
   }
  },
  {
   "cell_type": "code",
   "source": [
    "# Importing\n",
    "import sklearn\n",
    "from sklearn.datasets import load_diabetes\n",
    "import matplotlib.pyplot as plt\n",
    "\n",
    "# Load the dataset\n",
    "diabetics = load_diabetes()\n",
    "\n",
    "# Create the dataframe\n",
    "column_names = diabetics.feature_names\n",
    "df_diabetics = pd.DataFrame(diabetics.data)\n",
    "df_diabetics.columns = column_names\n",
    "df_diabetics.head()"
   ],
   "metadata": {
    "colab": {
     "base_uri": "https://localhost:8080/",
     "height": 206
    },
    "id": "sPqM6Qvz9GvJ",
    "outputId": "8374c648-ddfe-4aa3-d923-102aa75541e5",
    "ExecuteTime": {
     "end_time": "2025-03-24T07:37:55.809587Z",
     "start_time": "2025-03-24T07:37:55.639684Z"
    }
   },
   "outputs": [
    {
     "data": {
      "text/plain": [
       "        age       sex       bmi        bp        s1        s2        s3  \\\n",
       "0  0.038076  0.050680  0.061696  0.021872 -0.044223 -0.034821 -0.043401   \n",
       "1 -0.001882 -0.044642 -0.051474 -0.026328 -0.008449 -0.019163  0.074412   \n",
       "2  0.085299  0.050680  0.044451 -0.005670 -0.045599 -0.034194 -0.032356   \n",
       "3 -0.089063 -0.044642 -0.011595 -0.036656  0.012191  0.024991 -0.036038   \n",
       "4  0.005383 -0.044642 -0.036385  0.021872  0.003935  0.015596  0.008142   \n",
       "\n",
       "         s4        s5        s6  \n",
       "0 -0.002592  0.019907 -0.017646  \n",
       "1 -0.039493 -0.068332 -0.092204  \n",
       "2 -0.002592  0.002861 -0.025930  \n",
       "3  0.034309  0.022688 -0.009362  \n",
       "4 -0.002592 -0.031988 -0.046641  "
      ],
      "text/html": [
       "<div>\n",
       "<style scoped>\n",
       "    .dataframe tbody tr th:only-of-type {\n",
       "        vertical-align: middle;\n",
       "    }\n",
       "\n",
       "    .dataframe tbody tr th {\n",
       "        vertical-align: top;\n",
       "    }\n",
       "\n",
       "    .dataframe thead th {\n",
       "        text-align: right;\n",
       "    }\n",
       "</style>\n",
       "<table border=\"1\" class=\"dataframe\">\n",
       "  <thead>\n",
       "    <tr style=\"text-align: right;\">\n",
       "      <th></th>\n",
       "      <th>age</th>\n",
       "      <th>sex</th>\n",
       "      <th>bmi</th>\n",
       "      <th>bp</th>\n",
       "      <th>s1</th>\n",
       "      <th>s2</th>\n",
       "      <th>s3</th>\n",
       "      <th>s4</th>\n",
       "      <th>s5</th>\n",
       "      <th>s6</th>\n",
       "    </tr>\n",
       "  </thead>\n",
       "  <tbody>\n",
       "    <tr>\n",
       "      <th>0</th>\n",
       "      <td>0.038076</td>\n",
       "      <td>0.050680</td>\n",
       "      <td>0.061696</td>\n",
       "      <td>0.021872</td>\n",
       "      <td>-0.044223</td>\n",
       "      <td>-0.034821</td>\n",
       "      <td>-0.043401</td>\n",
       "      <td>-0.002592</td>\n",
       "      <td>0.019907</td>\n",
       "      <td>-0.017646</td>\n",
       "    </tr>\n",
       "    <tr>\n",
       "      <th>1</th>\n",
       "      <td>-0.001882</td>\n",
       "      <td>-0.044642</td>\n",
       "      <td>-0.051474</td>\n",
       "      <td>-0.026328</td>\n",
       "      <td>-0.008449</td>\n",
       "      <td>-0.019163</td>\n",
       "      <td>0.074412</td>\n",
       "      <td>-0.039493</td>\n",
       "      <td>-0.068332</td>\n",
       "      <td>-0.092204</td>\n",
       "    </tr>\n",
       "    <tr>\n",
       "      <th>2</th>\n",
       "      <td>0.085299</td>\n",
       "      <td>0.050680</td>\n",
       "      <td>0.044451</td>\n",
       "      <td>-0.005670</td>\n",
       "      <td>-0.045599</td>\n",
       "      <td>-0.034194</td>\n",
       "      <td>-0.032356</td>\n",
       "      <td>-0.002592</td>\n",
       "      <td>0.002861</td>\n",
       "      <td>-0.025930</td>\n",
       "    </tr>\n",
       "    <tr>\n",
       "      <th>3</th>\n",
       "      <td>-0.089063</td>\n",
       "      <td>-0.044642</td>\n",
       "      <td>-0.011595</td>\n",
       "      <td>-0.036656</td>\n",
       "      <td>0.012191</td>\n",
       "      <td>0.024991</td>\n",
       "      <td>-0.036038</td>\n",
       "      <td>0.034309</td>\n",
       "      <td>0.022688</td>\n",
       "      <td>-0.009362</td>\n",
       "    </tr>\n",
       "    <tr>\n",
       "      <th>4</th>\n",
       "      <td>0.005383</td>\n",
       "      <td>-0.044642</td>\n",
       "      <td>-0.036385</td>\n",
       "      <td>0.021872</td>\n",
       "      <td>0.003935</td>\n",
       "      <td>0.015596</td>\n",
       "      <td>0.008142</td>\n",
       "      <td>-0.002592</td>\n",
       "      <td>-0.031988</td>\n",
       "      <td>-0.046641</td>\n",
       "    </tr>\n",
       "  </tbody>\n",
       "</table>\n",
       "</div>"
      ]
     },
     "execution_count": 7,
     "metadata": {},
     "output_type": "execute_result"
    }
   ],
   "execution_count": 7
  },
  {
   "cell_type": "markdown",
   "source": [
    "##Visualizing and Removing Outliers Using a Box Plot\n",
    "\n",
    "Boxplot summarizes sample data using 25th, 50th, and 75th percentiles. One can just get insights (quartiles, median, and outliers) into the dataset by just looking at its boxplot."
   ],
   "metadata": {
    "id": "E5zlbvvq95pq"
   }
  },
  {
   "cell_type": "code",
   "source": [
    "import seaborn as sns\n",
    "\n",
    "sns.boxplot(df_diabetics['bmi'])"
   ],
   "metadata": {
    "colab": {
     "base_uri": "https://localhost:8080/",
     "height": 428
    },
    "id": "xmb72jaa-I7X",
    "outputId": "09aa3884-3660-4a4d-990f-241ea23e18df",
    "ExecuteTime": {
     "end_time": "2025-03-24T07:37:55.912425Z",
     "start_time": "2025-03-24T07:37:55.825811Z"
    }
   },
   "outputs": [
    {
     "data": {
      "text/plain": [
       "<Axes: ylabel='bmi'>"
      ]
     },
     "execution_count": 8,
     "metadata": {},
     "output_type": "execute_result"
    },
    {
     "data": {
      "text/plain": [
       "<Figure size 640x480 with 1 Axes>"
      ],
      "image/png": "[encoded data removed]"
     },
     "metadata": {},
     "output_type": "display_data"
    }
   ],
   "execution_count": 8
  },
  {
   "cell_type": "code",
   "source": [
    "def removal_box_plot(df, column, threshold):\n",
    "    sns.boxplot(df[column])\n",
    "    plt.title(f'Original Box Plot of {column}')\n",
    "    plt.show()\n",
    "\n",
    "    removed_outliers = df[df[column] <= threshold]\n",
    "\n",
    "    sns.boxplot(removed_outliers[column])\n",
    "    plt.title(f'Box Plot without Outliers of {column}')\n",
    "    plt.show()\n",
    "    return removed_outliers\n",
    "\n",
    "\n",
    "threshold_value = 0.12\n",
    "\n",
    "no_outliers = removal_box_plot(df_diabetics, 'bmi', threshold_value)"
   ],
   "metadata": {
    "colab": {
     "base_uri": "https://localhost:8080/",
     "height": 852
    },
    "id": "J92mD58r-QPp",
    "outputId": "a12b3128-0ab7-4fe5-cacb-acb715d9e235",
    "ExecuteTime": {
     "end_time": "2025-03-24T07:37:56.034079Z",
     "start_time": "2025-03-24T07:37:55.938016Z"
    }
   },
   "outputs": [
    {
     "data": {
      "text/plain": [
       "<Figure size 640x480 with 1 Axes>"
      ],
      "image/png": "[encoded data removed]"
     },
     "metadata": {},
     "output_type": "display_data"
    },
    {
     "data": {
      "text/plain": [
       "<Figure size 640x480 with 1 Axes>"
      ],
      "image/png": "[encoded data removed]"
     },
     "metadata": {},
     "output_type": "display_data"
    }
   ],
   "execution_count": 9
  },
  {
   "cell_type": "markdown",
   "source": [
    "##Visualizing and Removing Outliers Using a Scatterplot\n",
    "\n",
    "A scatterplot is useful for detecting and removing outliers when analyzing the relationship between two numerical variables. It helps visualize data distribution, making extreme values that deviate significantly from the overall pattern easily identifiable. Outliers often appear as isolated points far from the main cluster, indicating possible data entry errors, measurement anomalies, or genuine rare occurrences."
   ],
   "metadata": {
    "id": "w2jhf1qO-9V1"
   }
  },
  {
   "cell_type": "code",
   "source": [
    "fig, ax = plt.subplots(figsize=(6, 4))\n",
    "ax.scatter(df_diabetics['bmi'], df_diabetics['bp'])\n",
    "ax.set_xlabel('(body mass index of people)')\n",
    "ax.set_ylabel('(bp of the people )')\n",
    "plt.show()\n"
   ],
   "metadata": {
    "colab": {
     "base_uri": "https://localhost:8080/",
     "height": 388
    },
    "id": "Hl8fvWyl-7VT",
    "outputId": "c7aca982-e948-409a-98a9-117935a7fe48",
    "ExecuteTime": {
     "end_time": "2025-03-24T07:37:56.128141Z",
     "start_time": "2025-03-24T07:37:56.061269Z"
    }
   },
   "outputs": [
    {
     "data": {
      "text/plain": [
       "<Figure size 600x400 with 1 Axes>"
      ],
      "image/png": "[encoded data removed]"
     },
     "metadata": {},
     "output_type": "display_data"
    }
   ],
   "execution_count": 10
  },
  {
   "cell_type": "code",
   "source": [
    "outlier_indices = np.where((df_diabetics['bmi'] > 0.12) & (df_diabetics['bp'] < 0.8))\n",
    "\n",
    "no_outliers = df_diabetics.drop(outlier_indices[0]) # extract the array from tuple\n",
    "\n",
    "# Scatter plot without outliers\n",
    "fig, ax_no_outliers = plt.subplots(figsize=(6, 4))\n",
    "ax_no_outliers.scatter(no_outliers['bmi'], no_outliers['bp'])\n",
    "ax_no_outliers.set_xlabel('(body mass index of people)')\n",
    "ax_no_outliers.set_ylabel('(bp of the people )')\n",
    "plt.show()\n"
   ],
   "metadata": {
    "colab": {
     "base_uri": "https://localhost:8080/",
     "height": 388
    },
    "id": "x6mvpkJF_bRC",
    "outputId": "076f3894-93e8-444c-ee42-f654089b2c8d",
    "ExecuteTime": {
     "end_time": "2025-03-24T07:37:56.182304Z",
     "start_time": "2025-03-24T07:37:56.132118Z"
    }
   },
   "outputs": [
    {
     "data": {
      "text/plain": [
       "<Figure size 600x400 with 1 Axes>"
      ],
      "image/png": "[encoded data removed]"
     },
     "metadata": {},
     "output_type": "display_data"
    }
   ],
   "execution_count": 11
  },
  {
   "cell_type": "markdown",
   "source": [
    "##Z-score\n",
    "\n",
    "Z-score, also known as the standard score, tells us the deviation of a data point from the mean by expressing it in terms of standard deviations above or below the mean. It gives us an idea of how far a data point is from the mean. Hence, the Z-score is measured in terms of standard deviation from the mean. For example, a Z-score of 2 indicates the value is 2 standard deviations away from the mean."
   ],
   "metadata": {
    "id": "CwfFj7mDAYuC"
   }
  },
  {
   "cell_type": "code",
   "source": [
    "from scipy import stats\n",
    "\n",
    "z = np.abs(stats.zscore(df_diabetics['age']))\n",
    "print(z)"
   ],
   "metadata": {
    "colab": {
     "base_uri": "https://localhost:8080/"
    },
    "id": "nX1Jb-k2BADk",
    "outputId": "d888bc04-8919-499e-b533-59131f115461",
    "ExecuteTime": {
     "end_time": "2025-03-24T07:37:56.203512Z",
     "start_time": "2025-03-24T07:37:56.197582Z"
    }
   },
   "outputs": [
    {
     "name": "stdout",
     "output_type": "stream",
     "text": [
      "[0.80050009 0.03956713 1.79330681 1.87244107 0.11317236 1.94881082\n",
      " 0.9560041  1.33508832 0.87686984 1.49059233 2.02518057 0.57139085\n",
      " 0.34228161 0.11317236 0.95323959 1.1087436  0.11593688 1.48782782\n",
      " 0.80326461 0.57415536 1.03237385 1.79607132 1.79607132 0.95323959\n",
      " 1.33785284 1.41422259 2.25428981 0.49778562 1.10597908 1.41145807\n",
      " 1.26148309 0.49778562 0.72413034 0.6477606  0.34228161 1.02960933\n",
      " 0.26591186 0.19230663 0.03956713 0.03956713 0.11317236 2.10155031\n",
      " 1.26148309 0.41865135 0.95323959 0.57139085 1.18511334 1.64333183\n",
      " 1.41145807 0.87963435 0.72413034 1.25871858 1.1087436  0.19230663\n",
      " 1.03237385 0.87963435 0.87963435 0.57415536 0.87686984 1.33508832\n",
      " 1.49059233 0.87963435 0.57415536 0.72689486 1.41145807 0.9560041\n",
      " 0.19230663 0.87686984 0.80050009 0.34228161 0.03956713 0.03956713\n",
      " 1.33508832 0.26591186 0.26591186 0.19230663 0.65052511 2.02518057\n",
      " 0.11317236 2.17792006 1.48782782 0.26591186 0.34504612 0.80326461\n",
      " 0.03680262 0.95323959 1.49059233 0.95323959 1.1087436  0.9560041\n",
      " 0.26591186 0.95323959 0.42141587 1.03237385 1.64333183 1.49059233\n",
      " 1.18234883 0.57415536 0.03680262 0.03956713 0.34228161 0.34228161\n",
      " 1.94881082 1.25871858 0.57415536 0.4950211  2.02518057 0.57139085\n",
      " 0.41865135 0.80050009 0.87686984 0.41865135 1.79607132 0.41865135\n",
      " 0.4950211  0.65052511 1.02960933 1.25871858 1.18511334 0.34228161\n",
      " 1.03237385 1.33508832 1.02960933 0.11317236 0.11593688 0.11593688\n",
      " 1.87244107 0.72413034 1.1087436  0.18954211 1.33785284 2.02518057\n",
      " 0.34228161 0.87963435 1.56696208 0.11593688 1.94881082 0.11317236\n",
      " 0.72413034 0.4950211  0.87686984 0.57415536 0.87686984 0.65052511\n",
      " 0.6477606  0.87963435 0.65052511 1.18511334 1.26148309 1.03237385\n",
      " 0.4950211  0.03680262 0.72689486 0.87686984 1.41145807 0.57415536\n",
      " 0.34504612 0.03956713 0.26867637 0.11593688 0.19230663 0.9560041\n",
      " 1.1087436  0.34228161 0.95323959 0.87963435 1.18511334 1.48782782\n",
      " 0.03680262 0.03956713 0.4950211  0.42141587 0.87686984 1.33785284\n",
      " 0.34228161 1.41145807 0.95323959 1.02960933 0.87686984 0.49778562\n",
      " 0.80326461 1.02960933 0.95323959 0.95323959 0.34228161 1.56696208\n",
      " 1.71970158 1.41422259 0.11317236 0.03956713 0.18954211 0.11593688\n",
      " 1.18234883 0.18954211 1.41422259 0.57139085 0.49778562 1.02960933\n",
      " 1.1087436  0.87686984 1.18234883 0.72689486 1.71693706 0.03956713\n",
      " 2.32789504 0.65052511 0.03680262 0.18954211 0.6477606  0.80050009\n",
      " 0.18954211 1.9460463  1.41145807 0.03680262 0.6477606  0.57139085\n",
      " 0.26591186 1.56419757 0.87963435 1.87244107 0.4950211  0.9560041\n",
      " 0.49778562 2.10155031 0.57415536 0.6477606  2.17792006 1.41145807\n",
      " 1.1087436  0.57415536 0.80326461 0.18954211 0.26591186 1.41145807\n",
      " 0.95323959 1.41145807 0.57139085 1.18234883 0.72413034 0.4950211\n",
      " 1.02960933 0.6477606  2.17792006 0.34228161 1.26148309 0.57415536\n",
      " 0.87686984 1.71970158 0.87963435 0.26867637 1.41145807 1.1087436\n",
      " 0.11317236 1.71693706 0.6477606  0.03680262 1.03237385 0.57415536\n",
      " 1.64056731 0.26591186 0.87686984 1.02960933 0.34504612 1.56696208\n",
      " 0.72413034 0.72689486 1.1087436  1.25871858 1.33508832 0.18954211\n",
      " 0.11317236 0.80050009 0.26591186 1.56419757 0.34228161 0.11593688\n",
      " 0.26591186 0.72689486 1.41145807 0.80050009 0.18954211 1.94881082\n",
      " 1.48782782 0.34504612 0.87686984 0.26591186 0.80326461 0.95323959\n",
      " 1.48782782 1.56696208 1.25871858 1.56419757 0.18954211 1.49059233\n",
      " 0.4950211  1.1087436  1.41145807 0.03680262 0.4950211  0.80050009\n",
      " 0.34228161 0.03956713 0.26591186 1.56419757 0.87686984 0.19230663\n",
      " 0.18954211 1.41145807 0.03680262 0.19230663 0.11593688 2.02241605\n",
      " 1.56696208 1.25871858 0.49778562 0.18954211 0.34228161 0.41865135\n",
      " 1.86967656 0.41865135 0.49778562 2.02241605 0.4950211  1.48782782\n",
      " 0.6477606  0.03956713 0.95323959 1.56419757 0.80326461 0.26867637\n",
      " 0.18954211 1.71693706 0.6477606  0.57139085 1.26148309 0.11317236\n",
      " 0.42141587 0.41865135 1.33785284 0.57139085 0.34504612 0.6477606\n",
      " 1.18234883 0.42141587 2.25428981 1.71693706 0.11317236 0.80050009\n",
      " 0.6477606  0.03680262 0.57415536 1.79607132 0.26591186 1.1087436\n",
      " 0.49778562 1.56696208 0.11593688 1.26148309 0.42141587 0.80050009\n",
      " 0.34228161 0.87686984 0.41865135 1.03237385 0.03680262 0.72413034\n",
      " 0.9560041  0.19230663 0.34504612 0.19230663 0.41865135 1.10597908\n",
      " 0.57415536 1.56696208 2.25428981 0.95323959 0.03956713 0.41865135\n",
      " 0.34228161 0.03956713 0.34228161 1.49059233 1.02960933 0.11317236\n",
      " 0.72413034 0.4950211  0.41865135 0.9560041  1.10597908 0.11593688\n",
      " 0.18954211 0.49778562 0.87963435 1.56696208 0.72413034 1.26148309\n",
      " 1.79607132 1.10597908 0.26591186 1.25871858 0.49778562 0.34228161\n",
      " 2.32789504 0.42141587 0.34504612 1.02960933 1.18511334 0.57139085\n",
      " 1.33508832 1.1087436  0.19230663 0.11317236 1.56419757 1.1087436\n",
      " 1.71693706 0.11593688 0.57415536 1.1087436  0.18954211 0.42141587\n",
      " 0.4950211  0.80050009 1.64333183 0.18954211 0.03680262 1.64333183\n",
      " 0.6477606  0.72689486 1.02960933 0.87963435 0.19230663 1.48782782\n",
      " 0.18954211 0.57415536 0.34228161 0.26867637 1.18511334 0.87686984\n",
      " 0.11593688 0.87686984 0.9560041  0.9560041 ]\n"
     ]
    }
   ],
   "execution_count": 12
  },
  {
   "cell_type": "code",
   "source": [
    "threshold_z = 2\n",
    "\n",
    "outlier_indices = np.where(z > threshold_z)[0]\n",
    "no_outliers = df_diabetics.drop(outlier_indices)\n",
    "print(\"Original DataFrame Shape:\", df_diabetics.shape)\n",
    "print(\"DataFrame Shape after Removing Outliers:\", no_outliers.shape)"
   ],
   "metadata": {
    "colab": {
     "base_uri": "https://localhost:8080/"
    },
    "id": "RbN6YmbIBCyJ",
    "outputId": "36394cab-38b0-4bd8-96f1-f34b0b1adbde",
    "ExecuteTime": {
     "end_time": "2025-03-24T07:37:56.231193Z",
     "start_time": "2025-03-24T07:37:56.216676Z"
    }
   },
   "outputs": [
    {
     "name": "stdout",
     "output_type": "stream",
     "text": [
      "Original DataFrame Shape: (442, 10)\n",
      "DataFrame Shape after Removing Outliers: (426, 10)\n"
     ]
    }
   ],
   "execution_count": 13
  },
  {
   "cell_type": "markdown",
   "source": [
    "##Interquartile Range (IQR)\n",
    "\n",
    "The interquartile range (IQR) is a simple way to measure how spread out the middle 50% of a dataset is. It's used in statistics to understand the spread of data by focusing on the central part, ignoring any extreme values or outliers. This makes the IQR a useful tool when you want to get a clear sense of where most of your data points lie, without letting unusually high or low values distort the picture.\n",
    "\n",
    "To define an outlier, base value is defined above and below dataset's normal range, namely upper and lower bounds:\n",
    "\n",
    "* `upper = Q3 + 1.5 * IQR`\n",
    "* `lower = Q1 - 1.5 * IQR`"
   ],
   "metadata": {
    "id": "WOa3NBOfBVWm"
   }
  },
  {
   "cell_type": "code",
   "source": [
    "# IQR\n",
    "# Calculate the upper and lower limits\n",
    "Q1 = df_diabetics['bmi'].quantile(0.25)\n",
    "Q3 = df_diabetics['bmi'].quantile(0.75)\n",
    "IQR = Q3 - Q1\n",
    "lower = Q1 - 1.5*IQR\n",
    "upper = Q3 + 1.5*IQR\n",
    "\n",
    "# Create arrays of Boolean values indicating the outlier rows\n",
    "upper_array = np.where(df_diabetics['bmi'] >= upper)[0]\n",
    "lower_array = np.where(df_diabetics['bmi'] <= lower)[0]\n",
    "\n",
    "# Removing the outliers\n",
    "df_diabetics.drop(index=upper_array, inplace=True)\n",
    "df_diabetics.drop(index=lower_array, inplace=True)\n",
    "\n",
    "# Print the new shape of the DataFrame\n",
    "print(\"New Shape: \", df_diabetics.shape)"
   ],
   "metadata": {
    "colab": {
     "base_uri": "https://localhost:8080/"
    },
    "id": "L4rLqUQ9CEqU",
    "outputId": "1598ab81-c270-4375-b1ad-b97eff905b7d",
    "ExecuteTime": {
     "end_time": "2025-03-24T07:37:56.258506Z",
     "start_time": "2025-03-24T07:37:56.246963Z"
    }
   },
   "outputs": [
    {
     "name": "stdout",
     "output_type": "stream",
     "text": [
      "New Shape:  (439, 10)\n"
     ]
    }
   ],
   "execution_count": 14
  },
  {
   "cell_type": "markdown",
   "source": [
    "#Feature Engineering\n",
    "\n"
   ],
   "metadata": {
    "id": "8E_QztNLC5Ct"
   }
  },
  {
   "cell_type": "markdown",
   "source": [
    "##Scaling\n",
    "\n",
    "Min-max scaling rescales values to a fixed range, typically [0,1], using the formula:\n",
    "\n",
    "$$X_{\\text{scaled}} = \\frac{X - X_{\\min}}{X_{\\max} - X_{\\min}}$$\n",
    "\n",
    "Use Min-Max Scaling When:\n",
    "* Feature values have a known range (e.g., pixel intensities [0,255], percentages [0,100]).\n",
    "* Data is not normally distributed\n",
    "* You are using distance-based models (e.g., k-NN, SVM, Neural Networks) where maintaining relative distances is important.\n",
    "* Avoid it if outliers exist, as extreme values will dominate the scaling.\n",
    "* Examples: Image processing, financial ratios, and sensor data.\n",
    "\n",
    "\n"
   ],
   "metadata": {
    "id": "7p3F8XsZEdBe"
   }
  },
  {
   "cell_type": "code",
   "source": [
    "df = pd.read_csv('https://media.geeksforgeeks.org/wp-content/uploads/20250114174407596134/SampleFile.csv')\n",
    "df.head()"
   ],
   "metadata": {
    "colab": {
     "base_uri": "https://localhost:8080/",
     "height": 206
    },
    "id": "SHf_KtaRCUMO",
    "outputId": "282e81a8-918c-499a-e0fe-fb4f0fe3e10f",
    "ExecuteTime": {
     "end_time": "2025-03-24T07:37:56.394464Z",
     "start_time": "2025-03-24T07:37:56.277318Z"
    }
   },
   "outputs": [
    {
     "data": {
      "text/plain": [
       "   LotArea  MSSubClass\n",
       "0     8450          60\n",
       "1     9600          20\n",
       "2    11250          60\n",
       "3     9550          70\n",
       "4    14260          60"
      ],
      "text/html": [
       "<div>\n",
       "<style scoped>\n",
       "    .dataframe tbody tr th:only-of-type {\n",
       "        vertical-align: middle;\n",
       "    }\n",
       "\n",
       "    .dataframe tbody tr th {\n",
       "        vertical-align: top;\n",
       "    }\n",
       "\n",
       "    .dataframe thead th {\n",
       "        text-align: right;\n",
       "    }\n",
       "</style>\n",
       "<table border=\"1\" class=\"dataframe\">\n",
       "  <thead>\n",
       "    <tr style=\"text-align: right;\">\n",
       "      <th></th>\n",
       "      <th>LotArea</th>\n",
       "      <th>MSSubClass</th>\n",
       "    </tr>\n",
       "  </thead>\n",
       "  <tbody>\n",
       "    <tr>\n",
       "      <th>0</th>\n",
       "      <td>8450</td>\n",
       "      <td>60</td>\n",
       "    </tr>\n",
       "    <tr>\n",
       "      <th>1</th>\n",
       "      <td>9600</td>\n",
       "      <td>20</td>\n",
       "    </tr>\n",
       "    <tr>\n",
       "      <th>2</th>\n",
       "      <td>11250</td>\n",
       "      <td>60</td>\n",
       "    </tr>\n",
       "    <tr>\n",
       "      <th>3</th>\n",
       "      <td>9550</td>\n",
       "      <td>70</td>\n",
       "    </tr>\n",
       "    <tr>\n",
       "      <th>4</th>\n",
       "      <td>14260</td>\n",
       "      <td>60</td>\n",
       "    </tr>\n",
       "  </tbody>\n",
       "</table>\n",
       "</div>"
      ]
     },
     "execution_count": 15,
     "metadata": {},
     "output_type": "execute_result"
    }
   ],
   "execution_count": 15
  },
  {
   "cell_type": "code",
   "source": [
    "df.shape"
   ],
   "metadata": {
    "colab": {
     "base_uri": "https://localhost:8080/"
    },
    "id": "g2l38hXHGqtB",
    "outputId": "23d8d98c-8e7b-4486-e14d-0cb25fe8f217",
    "ExecuteTime": {
     "end_time": "2025-03-24T07:37:56.434619Z",
     "start_time": "2025-03-24T07:37:56.431Z"
    }
   },
   "outputs": [
    {
     "data": {
      "text/plain": [
       "(1460, 2)"
      ]
     },
     "execution_count": 16,
     "metadata": {},
     "output_type": "execute_result"
    }
   ],
   "execution_count": 16
  },
  {
   "cell_type": "code",
   "source": [
    "# KDE plot for column LotArea\n",
    "\n",
    "sns.kdeplot(df['LotArea'], fill=True)\n",
    "\n",
    "plt.xlabel(\"LotArea\")\n",
    "plt.ylabel(\"Density\")\n",
    "plt.title(\"KDE Plot for LotArea column\")\n",
    "\n",
    "plt.show()"
   ],
   "metadata": {
    "colab": {
     "base_uri": "https://localhost:8080/",
     "height": 472
    },
    "id": "ZifjezKXzRvq",
    "outputId": "3061fff4-046c-4fd5-c717-fa0ea341e7c7",
    "ExecuteTime": {
     "end_time": "2025-03-24T07:37:56.558595Z",
     "start_time": "2025-03-24T07:37:56.464288Z"
    }
   },
   "outputs": [
    {
     "data": {
      "text/plain": [
       "<Figure size 640x480 with 1 Axes>"
      ],
      "image/png": "[encoded data removed]"
     },
     "metadata": {},
     "output_type": "display_data"
    }
   ],
   "execution_count": 17
  },
  {
   "cell_type": "code",
   "source": [
    "df['LotArea'].min()"
   ],
   "metadata": {
    "colab": {
     "base_uri": "https://localhost:8080/"
    },
    "id": "6y7SPvNC0KI-",
    "outputId": "4366ecb2-6f84-458c-d9eb-0a6fb723e79f",
    "ExecuteTime": {
     "end_time": "2025-03-24T07:37:56.574665Z",
     "start_time": "2025-03-24T07:37:56.562106Z"
    }
   },
   "outputs": [
    {
     "data": {
      "text/plain": [
       "1300"
      ]
     },
     "execution_count": 18,
     "metadata": {},
     "output_type": "execute_result"
    }
   ],
   "execution_count": 18
  },
  {
   "cell_type": "code",
   "source": [
    "df['LotArea'].max()"
   ],
   "metadata": {
    "colab": {
     "base_uri": "https://localhost:8080/"
    },
    "id": "53soZcRX0PtG",
    "outputId": "edd20b64-e8c6-4bd5-aaa2-be0ef8c184a8",
    "ExecuteTime": {
     "end_time": "2025-03-24T07:37:56.609635Z",
     "start_time": "2025-03-24T07:37:56.603807Z"
    }
   },
   "outputs": [
    {
     "data": {
      "text/plain": [
       "215245"
      ]
     },
     "execution_count": 19,
     "metadata": {},
     "output_type": "execute_result"
    }
   ],
   "execution_count": 19
  },
  {
   "cell_type": "code",
   "source": [
    "from sklearn.preprocessing import MinMaxScaler\n",
    "\n",
    "scaler = MinMaxScaler()\n",
    "scaled_data = scaler.fit_transform(df)\n",
    "scaled_df = pd.DataFrame(scaled_data,\n",
    "                         columns=df.columns)\n",
    "scaled_df.head()"
   ],
   "metadata": {
    "colab": {
     "base_uri": "https://localhost:8080/",
     "height": 206
    },
    "id": "F5alFnoWGsiS",
    "outputId": "b9df20fc-104a-484b-e51a-9190308c2c10",
    "ExecuteTime": {
     "end_time": "2025-03-24T07:37:56.631115Z",
     "start_time": "2025-03-24T07:37:56.615605Z"
    }
   },
   "outputs": [
    {
     "data": {
      "text/plain": [
       "    LotArea  MSSubClass\n",
       "0  0.033420    0.235294\n",
       "1  0.038795    0.000000\n",
       "2  0.046507    0.235294\n",
       "3  0.038561    0.294118\n",
       "4  0.060576    0.235294"
      ],
      "text/html": [
       "<div>\n",
       "<style scoped>\n",
       "    .dataframe tbody tr th:only-of-type {\n",
       "        vertical-align: middle;\n",
       "    }\n",
       "\n",
       "    .dataframe tbody tr th {\n",
       "        vertical-align: top;\n",
       "    }\n",
       "\n",
       "    .dataframe thead th {\n",
       "        text-align: right;\n",
       "    }\n",
       "</style>\n",
       "<table border=\"1\" class=\"dataframe\">\n",
       "  <thead>\n",
       "    <tr style=\"text-align: right;\">\n",
       "      <th></th>\n",
       "      <th>LotArea</th>\n",
       "      <th>MSSubClass</th>\n",
       "    </tr>\n",
       "  </thead>\n",
       "  <tbody>\n",
       "    <tr>\n",
       "      <th>0</th>\n",
       "      <td>0.033420</td>\n",
       "      <td>0.235294</td>\n",
       "    </tr>\n",
       "    <tr>\n",
       "      <th>1</th>\n",
       "      <td>0.038795</td>\n",
       "      <td>0.000000</td>\n",
       "    </tr>\n",
       "    <tr>\n",
       "      <th>2</th>\n",
       "      <td>0.046507</td>\n",
       "      <td>0.235294</td>\n",
       "    </tr>\n",
       "    <tr>\n",
       "      <th>3</th>\n",
       "      <td>0.038561</td>\n",
       "      <td>0.294118</td>\n",
       "    </tr>\n",
       "    <tr>\n",
       "      <th>4</th>\n",
       "      <td>0.060576</td>\n",
       "      <td>0.235294</td>\n",
       "    </tr>\n",
       "  </tbody>\n",
       "</table>\n",
       "</div>"
      ]
     },
     "execution_count": 20,
     "metadata": {},
     "output_type": "execute_result"
    }
   ],
   "execution_count": 20
  },
  {
   "cell_type": "code",
   "source": [
    "sns.kdeplot(scaled_df['LotArea'], fill=True)\n",
    "\n",
    "plt.xlabel(\"LotArea\")\n",
    "plt.ylabel(\"Density\")\n",
    "plt.title(\"KDE Plot for LotArea column\")\n",
    "\n",
    "plt.show()"
   ],
   "metadata": {
    "colab": {
     "base_uri": "https://localhost:8080/",
     "height": 472
    },
    "id": "kug0LwcE0bjF",
    "outputId": "5c539deb-aca9-4de7-98c8-eccc99e5992c",
    "ExecuteTime": {
     "end_time": "2025-03-24T07:37:56.870261Z",
     "start_time": "2025-03-24T07:37:56.804706Z"
    }
   },
   "outputs": [
    {
     "data": {
      "text/plain": [
       "<Figure size 640x480 with 1 Axes>"
      ],
      "image/png": "[encoded data removed]"
     },
     "metadata": {},
     "output_type": "display_data"
    }
   ],
   "execution_count": 21
  },
  {
   "cell_type": "code",
   "source": [
    "scaled_df['LotArea'].min()"
   ],
   "metadata": {
    "colab": {
     "base_uri": "https://localhost:8080/"
    },
    "id": "_EotV-dv0mFO",
    "outputId": "8267683e-389c-4211-c1c0-52eb9ad86753",
    "ExecuteTime": {
     "end_time": "2025-03-24T07:37:56.912398Z",
     "start_time": "2025-03-24T07:37:56.905217Z"
    }
   },
   "outputs": [
    {
     "data": {
      "text/plain": [
       "0.0"
      ]
     },
     "execution_count": 22,
     "metadata": {},
     "output_type": "execute_result"
    }
   ],
   "execution_count": 22
  },
  {
   "cell_type": "code",
   "source": [
    "scaled_df['LotArea'].max()"
   ],
   "metadata": {
    "colab": {
     "base_uri": "https://localhost:8080/"
    },
    "id": "NAoGa7EP0py-",
    "outputId": "8a1ba87d-c4fc-4f83-f1d4-9cd782f9a511",
    "ExecuteTime": {
     "end_time": "2025-03-24T07:37:56.936820Z",
     "start_time": "2025-03-24T07:37:56.927038Z"
    }
   },
   "outputs": [
    {
     "data": {
      "text/plain": [
       "0.9999999999999999"
      ]
     },
     "execution_count": 23,
     "metadata": {},
     "output_type": "execute_result"
    }
   ],
   "execution_count": 23
  },
  {
   "cell_type": "markdown",
   "source": [
    "StandardScaler standardizes features so that they are centered around 0 with a standard deviation of 1:\n",
    "\n",
    "$$X_{\\text{scaled}} = \\frac{X - μ}{σ}$$\n",
    "\n",
    "* Use StandardScaler when you assume your data follows a Gaussian distribution\n",
    "or when the algorithm you are using assumes zero-centered data with unit variance.\n",
    "* It is less sensitive to outliers when compared to MinMaxScaler.\n",
    "* StandardScaler does not have a fixed specified range like MinMaxScaler. However, the actual range of transformed values depends on the distribution of the original data. In a normal (Gaussian) distribution, approximately:\n",
    "\n",
    "1. 68% of the values will be between -1 and 1\n",
    "2. 95% of the values will be between -2 and 2\n",
    "3. 99.7% of the values will be between -3 and 3\n",
    "\n",
    "* So, while StandardScaler does not enforce a strict range like MinMaxScaler, most values will typically fall within [-3, 3] in normally distributed data."
   ],
   "metadata": {
    "id": "Rk5fylcb_nI1"
   }
  },
  {
   "cell_type": "code",
   "source": [
    "from sklearn.preprocessing import StandardScaler\n",
    "\n",
    "scaler2= StandardScaler()\n",
    "scaled_data2 = scaler2.fit_transform(df)\n",
    "scaled_df2 = pd.DataFrame(scaled_data2, columns=df.columns)\n",
    "\n",
    "scaled_df2.head()"
   ],
   "metadata": {
    "id": "5Po2DyzwvsGl",
    "colab": {
     "base_uri": "https://localhost:8080/",
     "height": 206
    },
    "outputId": "55691a6f-c5d6-4b83-fca1-6a3cbbd8bd9b",
    "ExecuteTime": {
     "end_time": "2025-03-24T07:37:56.971169Z",
     "start_time": "2025-03-24T07:37:56.956562Z"
    }
   },
   "outputs": [
    {
     "data": {
      "text/plain": [
       "    LotArea  MSSubClass\n",
       "0 -0.207142    0.073375\n",
       "1 -0.091886   -0.872563\n",
       "2  0.073480    0.073375\n",
       "3 -0.096897    0.309859\n",
       "4  0.375148    0.073375"
      ],
      "text/html": [
       "<div>\n",
       "<style scoped>\n",
       "    .dataframe tbody tr th:only-of-type {\n",
       "        vertical-align: middle;\n",
       "    }\n",
       "\n",
       "    .dataframe tbody tr th {\n",
       "        vertical-align: top;\n",
       "    }\n",
       "\n",
       "    .dataframe thead th {\n",
       "        text-align: right;\n",
       "    }\n",
       "</style>\n",
       "<table border=\"1\" class=\"dataframe\">\n",
       "  <thead>\n",
       "    <tr style=\"text-align: right;\">\n",
       "      <th></th>\n",
       "      <th>LotArea</th>\n",
       "      <th>MSSubClass</th>\n",
       "    </tr>\n",
       "  </thead>\n",
       "  <tbody>\n",
       "    <tr>\n",
       "      <th>0</th>\n",
       "      <td>-0.207142</td>\n",
       "      <td>0.073375</td>\n",
       "    </tr>\n",
       "    <tr>\n",
       "      <th>1</th>\n",
       "      <td>-0.091886</td>\n",
       "      <td>-0.872563</td>\n",
       "    </tr>\n",
       "    <tr>\n",
       "      <th>2</th>\n",
       "      <td>0.073480</td>\n",
       "      <td>0.073375</td>\n",
       "    </tr>\n",
       "    <tr>\n",
       "      <th>3</th>\n",
       "      <td>-0.096897</td>\n",
       "      <td>0.309859</td>\n",
       "    </tr>\n",
       "    <tr>\n",
       "      <th>4</th>\n",
       "      <td>0.375148</td>\n",
       "      <td>0.073375</td>\n",
       "    </tr>\n",
       "  </tbody>\n",
       "</table>\n",
       "</div>"
      ]
     },
     "execution_count": 24,
     "metadata": {},
     "output_type": "execute_result"
    }
   ],
   "execution_count": 24
  },
  {
   "cell_type": "code",
   "source": [
    "scaled_df2['LotArea'].min()"
   ],
   "metadata": {
    "colab": {
     "base_uri": "https://localhost:8080/"
    },
    "id": "kJSvA_631u5t",
    "outputId": "b021b474-dd96-46f2-e583-62fdeacde2e7",
    "ExecuteTime": {
     "end_time": "2025-03-24T07:37:57.030054Z",
     "start_time": "2025-03-24T07:37:57.015520Z"
    }
   },
   "outputs": [
    {
     "data": {
      "text/plain": [
       "-0.9237292282108067"
      ]
     },
     "execution_count": 25,
     "metadata": {},
     "output_type": "execute_result"
    }
   ],
   "execution_count": 25
  },
  {
   "cell_type": "code",
   "source": [
    "scaled_df2['LotArea'].max()"
   ],
   "metadata": {
    "colab": {
     "base_uri": "https://localhost:8080/"
    },
    "id": "7dQcujSR105c",
    "outputId": "6150eb24-16b8-46fd-85cb-095bc286e54f",
    "ExecuteTime": {
     "end_time": "2025-03-24T07:37:57.070229Z",
     "start_time": "2025-03-24T07:37:57.064192Z"
    }
   },
   "outputs": [
    {
     "data": {
      "text/plain": [
       "20.51827315777325"
      ]
     },
     "execution_count": 26,
     "metadata": {},
     "output_type": "execute_result"
    }
   ],
   "execution_count": 26
  },
  {
   "cell_type": "code",
   "source": [
    "# NORMALIZATION\n",
    "\n",
    "# L1 NORM : sum of all absolute values in a feature is 1 (Manhattan norm)\n",
    "\n",
    "# L2 NORM: sum of squared values equals 1 (Euclidean norm)\n",
    "\n",
    "# when using KNN or SVM\n",
    "# when you have many 0s\n",
    "# not ideal when ML models expect normal distribution\n",
    "# NLP, recommendation systems, document classification"
   ],
   "metadata": {
    "id": "en6z_rym2h0t",
    "ExecuteTime": {
     "end_time": "2025-03-24T07:37:57.085859Z",
     "start_time": "2025-03-24T07:37:57.074432Z"
    }
   },
   "outputs": [],
   "execution_count": 27
  },
  {
   "cell_type": "code",
   "source": [
    "from sklearn.preprocessing import normalize\n",
    "\n",
    "df_norm_arr = normalize(df, norm='l1')\n",
    "df_normalized = pd.DataFrame(df_norm_arr, columns=df.columns)\n",
    "\n",
    "df_normalized.head()"
   ],
   "metadata": {
    "colab": {
     "base_uri": "https://localhost:8080/",
     "height": 206
    },
    "id": "vNmCasK33876",
    "outputId": "d1b15f57-1b48-45e4-e9d9-1143cb315fdf",
    "ExecuteTime": {
     "end_time": "2025-03-24T07:37:57.130871Z",
     "start_time": "2025-03-24T07:37:57.119554Z"
    }
   },
   "outputs": [
    {
     "data": {
      "text/plain": [
       "    LotArea  MSSubClass\n",
       "0  0.992949    0.007051\n",
       "1  0.997921    0.002079\n",
       "2  0.994695    0.005305\n",
       "3  0.992723    0.007277\n",
       "4  0.995810    0.004190"
      ],
      "text/html": [
       "<div>\n",
       "<style scoped>\n",
       "    .dataframe tbody tr th:only-of-type {\n",
       "        vertical-align: middle;\n",
       "    }\n",
       "\n",
       "    .dataframe tbody tr th {\n",
       "        vertical-align: top;\n",
       "    }\n",
       "\n",
       "    .dataframe thead th {\n",
       "        text-align: right;\n",
       "    }\n",
       "</style>\n",
       "<table border=\"1\" class=\"dataframe\">\n",
       "  <thead>\n",
       "    <tr style=\"text-align: right;\">\n",
       "      <th></th>\n",
       "      <th>LotArea</th>\n",
       "      <th>MSSubClass</th>\n",
       "    </tr>\n",
       "  </thead>\n",
       "  <tbody>\n",
       "    <tr>\n",
       "      <th>0</th>\n",
       "      <td>0.992949</td>\n",
       "      <td>0.007051</td>\n",
       "    </tr>\n",
       "    <tr>\n",
       "      <th>1</th>\n",
       "      <td>0.997921</td>\n",
       "      <td>0.002079</td>\n",
       "    </tr>\n",
       "    <tr>\n",
       "      <th>2</th>\n",
       "      <td>0.994695</td>\n",
       "      <td>0.005305</td>\n",
       "    </tr>\n",
       "    <tr>\n",
       "      <th>3</th>\n",
       "      <td>0.992723</td>\n",
       "      <td>0.007277</td>\n",
       "    </tr>\n",
       "    <tr>\n",
       "      <th>4</th>\n",
       "      <td>0.995810</td>\n",
       "      <td>0.004190</td>\n",
       "    </tr>\n",
       "  </tbody>\n",
       "</table>\n",
       "</div>"
      ]
     },
     "execution_count": 28,
     "metadata": {},
     "output_type": "execute_result"
    }
   ],
   "execution_count": 28
  },
  {
   "cell_type": "code",
   "source": [
    "# FEATURE ENCODING\n",
    "\n",
    "# categorical columns can be divided into 3 groups:\n",
    "\n",
    "# 1. binary: '1'/'0' either/or: yes or no, hot or cold, alcoholic/non-alcoholic\n",
    "# 2. ordinal: low, medium, high/ small, medium, large\n",
    "# 3. nominal: cat, dog, pizza, soda"
   ],
   "metadata": {
    "id": "qX9y4-IL4tPd",
    "ExecuteTime": {
     "end_time": "2025-03-24T07:37:57.160826Z",
     "start_time": "2025-03-24T07:37:57.153069Z"
    }
   },
   "outputs": [],
   "execution_count": 29
  },
  {
   "cell_type": "code",
   "source": [
    "df = pd.read_csv('../data/EncodingData.csv')\n",
    "\n",
    "df.head(10)"
   ],
   "metadata": {
    "colab": {
     "base_uri": "https://localhost:8080/",
     "height": 363
    },
    "id": "C5PelrEi47P9",
    "outputId": "018d3cf4-7a79-47c5-ddf7-ac479796609c",
    "ExecuteTime": {
     "end_time": "2025-03-24T07:37:57.203485Z",
     "start_time": "2025-03-24T07:37:57.194375Z"
    }
   },
   "outputs": [
    {
     "data": {
      "text/plain": [
       "   id bin_1 bin_2  nom_0 ord_2\n",
       "0   0     F     N    Red   Hot\n",
       "1   1     F     Y   Blue  Warm\n",
       "2   2     F     N   Blue  Cold\n",
       "3   3     F     N  Green  Warm\n",
       "4   4     T     N    Red  Cold\n",
       "5   5     T     N  Green   Hot\n",
       "6   6     F     N    Red  Cold\n",
       "7   7     T     N    Red  Cold\n",
       "8   8     F     N   Blue  Warm\n",
       "9   9     F     Y    Red   Hot"
      ],
      "text/html": [
       "<div>\n",
       "<style scoped>\n",
       "    .dataframe tbody tr th:only-of-type {\n",
       "        vertical-align: middle;\n",
       "    }\n",
       "\n",
       "    .dataframe tbody tr th {\n",
       "        vertical-align: top;\n",
       "    }\n",
       "\n",
       "    .dataframe thead th {\n",
       "        text-align: right;\n",
       "    }\n",
       "</style>\n",
       "<table border=\"1\" class=\"dataframe\">\n",
       "  <thead>\n",
       "    <tr style=\"text-align: right;\">\n",
       "      <th></th>\n",
       "      <th>id</th>\n",
       "      <th>bin_1</th>\n",
       "      <th>bin_2</th>\n",
       "      <th>nom_0</th>\n",
       "      <th>ord_2</th>\n",
       "    </tr>\n",
       "  </thead>\n",
       "  <tbody>\n",
       "    <tr>\n",
       "      <th>0</th>\n",
       "      <td>0</td>\n",
       "      <td>F</td>\n",
       "      <td>N</td>\n",
       "      <td>Red</td>\n",
       "      <td>Hot</td>\n",
       "    </tr>\n",
       "    <tr>\n",
       "      <th>1</th>\n",
       "      <td>1</td>\n",
       "      <td>F</td>\n",
       "      <td>Y</td>\n",
       "      <td>Blue</td>\n",
       "      <td>Warm</td>\n",
       "    </tr>\n",
       "    <tr>\n",
       "      <th>2</th>\n",
       "      <td>2</td>\n",
       "      <td>F</td>\n",
       "      <td>N</td>\n",
       "      <td>Blue</td>\n",
       "      <td>Cold</td>\n",
       "    </tr>\n",
       "    <tr>\n",
       "      <th>3</th>\n",
       "      <td>3</td>\n",
       "      <td>F</td>\n",
       "      <td>N</td>\n",
       "      <td>Green</td>\n",
       "      <td>Warm</td>\n",
       "    </tr>\n",
       "    <tr>\n",
       "      <th>4</th>\n",
       "      <td>4</td>\n",
       "      <td>T</td>\n",
       "      <td>N</td>\n",
       "      <td>Red</td>\n",
       "      <td>Cold</td>\n",
       "    </tr>\n",
       "    <tr>\n",
       "      <th>5</th>\n",
       "      <td>5</td>\n",
       "      <td>T</td>\n",
       "      <td>N</td>\n",
       "      <td>Green</td>\n",
       "      <td>Hot</td>\n",
       "    </tr>\n",
       "    <tr>\n",
       "      <th>6</th>\n",
       "      <td>6</td>\n",
       "      <td>F</td>\n",
       "      <td>N</td>\n",
       "      <td>Red</td>\n",
       "      <td>Cold</td>\n",
       "    </tr>\n",
       "    <tr>\n",
       "      <th>7</th>\n",
       "      <td>7</td>\n",
       "      <td>T</td>\n",
       "      <td>N</td>\n",
       "      <td>Red</td>\n",
       "      <td>Cold</td>\n",
       "    </tr>\n",
       "    <tr>\n",
       "      <th>8</th>\n",
       "      <td>8</td>\n",
       "      <td>F</td>\n",
       "      <td>N</td>\n",
       "      <td>Blue</td>\n",
       "      <td>Warm</td>\n",
       "    </tr>\n",
       "    <tr>\n",
       "      <th>9</th>\n",
       "      <td>9</td>\n",
       "      <td>F</td>\n",
       "      <td>Y</td>\n",
       "      <td>Red</td>\n",
       "      <td>Hot</td>\n",
       "    </tr>\n",
       "  </tbody>\n",
       "</table>\n",
       "</div>"
      ]
     },
     "execution_count": 30,
     "metadata": {},
     "output_type": "execute_result"
    }
   ],
   "execution_count": 30
  },
  {
   "cell_type": "code",
   "source": [
    "df.dtypes"
   ],
   "metadata": {
    "colab": {
     "base_uri": "https://localhost:8080/",
     "height": 241
    },
    "id": "_I_RJOgZ6LYP",
    "outputId": "60c97487-d95a-417d-fa96-96c43e425e77",
    "ExecuteTime": {
     "end_time": "2025-03-24T07:37:57.239701Z",
     "start_time": "2025-03-24T07:37:57.235311Z"
    }
   },
   "outputs": [
    {
     "data": {
      "text/plain": [
       "id        int64\n",
       "bin_1    object\n",
       "bin_2    object\n",
       "nom_0    object\n",
       "ord_2    object\n",
       "dtype: object"
      ]
     },
     "execution_count": 31,
     "metadata": {},
     "output_type": "execute_result"
    }
   ],
   "execution_count": 31
  },
  {
   "cell_type": "code",
   "source": [
    "# Mapping binary features\n",
    "\n",
    "print(\"Before conversion\", df['bin_1'].unique())\n",
    "\n",
    "# strip spaces and map values\n",
    "\n",
    "df['bin_1'] = df['bin_1'].str.strip().map({'T': 1, 'F': 0})\n",
    "\n",
    "# print values after conversion\n",
    "\n",
    "print(\"After conversion:\", df['bin_1'].unique())\n",
    "\n",
    "# plot countplot\n",
    "\n",
    "custom_palette = {\"0\":\"blue\", \"1\":\"orange\"}\n",
    "plt.figure(figsize=(6,4))\n",
    "sns.countplot(x='bin_1', data=df, palette=custom_palette)\n",
    "\n",
    "plt.show()"
   ],
   "metadata": {
    "colab": {
     "base_uri": "https://localhost:8080/",
     "height": 423
    },
    "id": "MCO1kSjr6Ryu",
    "outputId": "271dfd23-aec7-4609-9350-de4fdb380a3f",
    "ExecuteTime": {
     "end_time": "2025-03-24T07:37:57.328002Z",
     "start_time": "2025-03-24T07:37:57.271410Z"
    }
   },
   "outputs": [
    {
     "name": "stdout",
     "output_type": "stream",
     "text": [
      "Before conversion ['F' 'T']\n",
      "After conversion: [0 1]\n"
     ]
    },
    {
     "data": {
      "text/plain": [
       "<Figure size 600x400 with 1 Axes>"
      ],
      "image/png": "[encoded data removed]"
     },
     "metadata": {},
     "output_type": "display_data"
    }
   ],
   "execution_count": 32
  },
  {
   "metadata": {
    "ExecuteTime": {
     "end_time": "2025-03-24T07:37:57.419346Z",
     "start_time": "2025-03-24T07:37:57.362279Z"
    }
   },
   "cell_type": "code",
   "source": [
    "# label encoding\n",
    "\n",
    "# assigning numerical values to categorical features\n",
    "from sklearn.preprocessing import LabelEncoder\n",
    "\n",
    "# create a label encoder object\n",
    "label_encoder = LabelEncoder()\n",
    "\n",
    "df1 = df.copy()\n",
    "\n",
    "df1['ord_2'] = label_encoder.fit_transform(df1['ord_2'])\n",
    "\n",
    "custom_palette = {\n",
    "    \"0\":\"blue\", \n",
    "    \"1\":\"yellow\",\n",
    "    \"2\":\"red\",\n",
    "}\n",
    "sns.set_theme(style='darkgrid')\n",
    "sns.countplot(x='ord_2', data=df1, palette=custom_palette)\n",
    "plt.show()"
   ],
   "outputs": [
    {
     "data": {
      "text/plain": [
       "<Figure size 640x480 with 1 Axes>"
      ],
      "image/png": "[encoded data removed]"
     },
     "metadata": {},
     "output_type": "display_data"
    }
   ],
   "execution_count": 33
  },
  {
   "metadata": {
    "ExecuteTime": {
     "end_time": "2025-03-24T07:37:57.446848Z",
     "start_time": "2025-03-24T07:37:57.439896Z"
    }
   },
   "cell_type": "code",
   "source": "df1.head(10)",
   "outputs": [
    {
     "data": {
      "text/plain": [
       "   id  bin_1 bin_2  nom_0  ord_2\n",
       "0   0      0     N    Red      1\n",
       "1   1      0     Y   Blue      2\n",
       "2   2      0     N   Blue      0\n",
       "3   3      0     N  Green      2\n",
       "4   4      1     N    Red      0\n",
       "5   5      1     N  Green      1\n",
       "6   6      0     N    Red      0\n",
       "7   7      1     N    Red      0\n",
       "8   8      0     N   Blue      2\n",
       "9   9      0     Y    Red      1"
      ],
      "text/html": [
       "<div>\n",
       "<style scoped>\n",
       "    .dataframe tbody tr th:only-of-type {\n",
       "        vertical-align: middle;\n",
       "    }\n",
       "\n",
       "    .dataframe tbody tr th {\n",
       "        vertical-align: top;\n",
       "    }\n",
       "\n",
       "    .dataframe thead th {\n",
       "        text-align: right;\n",
       "    }\n",
       "</style>\n",
       "<table border=\"1\" class=\"dataframe\">\n",
       "  <thead>\n",
       "    <tr style=\"text-align: right;\">\n",
       "      <th></th>\n",
       "      <th>id</th>\n",
       "      <th>bin_1</th>\n",
       "      <th>bin_2</th>\n",
       "      <th>nom_0</th>\n",
       "      <th>ord_2</th>\n",
       "    </tr>\n",
       "  </thead>\n",
       "  <tbody>\n",
       "    <tr>\n",
       "      <th>0</th>\n",
       "      <td>0</td>\n",
       "      <td>0</td>\n",
       "      <td>N</td>\n",
       "      <td>Red</td>\n",
       "      <td>1</td>\n",
       "    </tr>\n",
       "    <tr>\n",
       "      <th>1</th>\n",
       "      <td>1</td>\n",
       "      <td>0</td>\n",
       "      <td>Y</td>\n",
       "      <td>Blue</td>\n",
       "      <td>2</td>\n",
       "    </tr>\n",
       "    <tr>\n",
       "      <th>2</th>\n",
       "      <td>2</td>\n",
       "      <td>0</td>\n",
       "      <td>N</td>\n",
       "      <td>Blue</td>\n",
       "      <td>0</td>\n",
       "    </tr>\n",
       "    <tr>\n",
       "      <th>3</th>\n",
       "      <td>3</td>\n",
       "      <td>0</td>\n",
       "      <td>N</td>\n",
       "      <td>Green</td>\n",
       "      <td>2</td>\n",
       "    </tr>\n",
       "    <tr>\n",
       "      <th>4</th>\n",
       "      <td>4</td>\n",
       "      <td>1</td>\n",
       "      <td>N</td>\n",
       "      <td>Red</td>\n",
       "      <td>0</td>\n",
       "    </tr>\n",
       "    <tr>\n",
       "      <th>5</th>\n",
       "      <td>5</td>\n",
       "      <td>1</td>\n",
       "      <td>N</td>\n",
       "      <td>Green</td>\n",
       "      <td>1</td>\n",
       "    </tr>\n",
       "    <tr>\n",
       "      <th>6</th>\n",
       "      <td>6</td>\n",
       "      <td>0</td>\n",
       "      <td>N</td>\n",
       "      <td>Red</td>\n",
       "      <td>0</td>\n",
       "    </tr>\n",
       "    <tr>\n",
       "      <th>7</th>\n",
       "      <td>7</td>\n",
       "      <td>1</td>\n",
       "      <td>N</td>\n",
       "      <td>Red</td>\n",
       "      <td>0</td>\n",
       "    </tr>\n",
       "    <tr>\n",
       "      <th>8</th>\n",
       "      <td>8</td>\n",
       "      <td>0</td>\n",
       "      <td>N</td>\n",
       "      <td>Blue</td>\n",
       "      <td>2</td>\n",
       "    </tr>\n",
       "    <tr>\n",
       "      <th>9</th>\n",
       "      <td>9</td>\n",
       "      <td>0</td>\n",
       "      <td>Y</td>\n",
       "      <td>Red</td>\n",
       "      <td>1</td>\n",
       "    </tr>\n",
       "  </tbody>\n",
       "</table>\n",
       "</div>"
      ]
     },
     "execution_count": 34,
     "metadata": {},
     "output_type": "execute_result"
    }
   ],
   "execution_count": 34
  },
  {
   "metadata": {
    "ExecuteTime": {
     "end_time": "2025-03-24T07:37:57.504443Z",
     "start_time": "2025-03-24T07:37:57.489411Z"
    }
   },
   "cell_type": "code",
   "source": [
    "# one-hot encoding\n",
    "\n",
    "from sklearn.preprocessing import OneHotEncoder\n",
    "\n",
    "one_hot_encoder = OneHotEncoder()\n",
    "\n",
    "# fit and transform the data\n",
    "one_hot_encoded_data = one_hot_encoder.fit_transform(df[['nom_0']]).toarray()\n",
    "\n",
    "# create a DataFrame with the one-hot encoded data\n",
    "one_hot_encoded_df = pd.DataFrame(one_hot_encoded_data)\n",
    "\n",
    "# concatenate the original DataFrame with the one-hot encoded DataFrame\n",
    "df_one_hot_encoded = pd.concat([df1, one_hot_encoded_df], axis=1)\n",
    "df_one_hot_encoded.drop(columns=['nom_0'], axis=1, inplace=True)\n",
    "\n",
    "df_one_hot_encoded.head(10)"
   ],
   "outputs": [
    {
     "data": {
      "text/plain": [
       "   id  bin_1 bin_2  ord_2    0    1    2\n",
       "0   0      0     N      1  0.0  0.0  1.0\n",
       "1   1      0     Y      2  1.0  0.0  0.0\n",
       "2   2      0     N      0  1.0  0.0  0.0\n",
       "3   3      0     N      2  0.0  1.0  0.0\n",
       "4   4      1     N      0  0.0  0.0  1.0\n",
       "5   5      1     N      1  0.0  1.0  0.0\n",
       "6   6      0     N      0  0.0  0.0  1.0\n",
       "7   7      1     N      0  0.0  0.0  1.0\n",
       "8   8      0     N      2  1.0  0.0  0.0\n",
       "9   9      0     Y      1  0.0  0.0  1.0"
      ],
      "text/html": [
       "<div>\n",
       "<style scoped>\n",
       "    .dataframe tbody tr th:only-of-type {\n",
       "        vertical-align: middle;\n",
       "    }\n",
       "\n",
       "    .dataframe tbody tr th {\n",
       "        vertical-align: top;\n",
       "    }\n",
       "\n",
       "    .dataframe thead th {\n",
       "        text-align: right;\n",
       "    }\n",
       "</style>\n",
       "<table border=\"1\" class=\"dataframe\">\n",
       "  <thead>\n",
       "    <tr style=\"text-align: right;\">\n",
       "      <th></th>\n",
       "      <th>id</th>\n",
       "      <th>bin_1</th>\n",
       "      <th>bin_2</th>\n",
       "      <th>ord_2</th>\n",
       "      <th>0</th>\n",
       "      <th>1</th>\n",
       "      <th>2</th>\n",
       "    </tr>\n",
       "  </thead>\n",
       "  <tbody>\n",
       "    <tr>\n",
       "      <th>0</th>\n",
       "      <td>0</td>\n",
       "      <td>0</td>\n",
       "      <td>N</td>\n",
       "      <td>1</td>\n",
       "      <td>0.0</td>\n",
       "      <td>0.0</td>\n",
       "      <td>1.0</td>\n",
       "    </tr>\n",
       "    <tr>\n",
       "      <th>1</th>\n",
       "      <td>1</td>\n",
       "      <td>0</td>\n",
       "      <td>Y</td>\n",
       "      <td>2</td>\n",
       "      <td>1.0</td>\n",
       "      <td>0.0</td>\n",
       "      <td>0.0</td>\n",
       "    </tr>\n",
       "    <tr>\n",
       "      <th>2</th>\n",
       "      <td>2</td>\n",
       "      <td>0</td>\n",
       "      <td>N</td>\n",
       "      <td>0</td>\n",
       "      <td>1.0</td>\n",
       "      <td>0.0</td>\n",
       "      <td>0.0</td>\n",
       "    </tr>\n",
       "    <tr>\n",
       "      <th>3</th>\n",
       "      <td>3</td>\n",
       "      <td>0</td>\n",
       "      <td>N</td>\n",
       "      <td>2</td>\n",
       "      <td>0.0</td>\n",
       "      <td>1.0</td>\n",
       "      <td>0.0</td>\n",
       "    </tr>\n",
       "    <tr>\n",
       "      <th>4</th>\n",
       "      <td>4</td>\n",
       "      <td>1</td>\n",
       "      <td>N</td>\n",
       "      <td>0</td>\n",
       "      <td>0.0</td>\n",
       "      <td>0.0</td>\n",
       "      <td>1.0</td>\n",
       "    </tr>\n",
       "    <tr>\n",
       "      <th>5</th>\n",
       "      <td>5</td>\n",
       "      <td>1</td>\n",
       "      <td>N</td>\n",
       "      <td>1</td>\n",
       "      <td>0.0</td>\n",
       "      <td>1.0</td>\n",
       "      <td>0.0</td>\n",
       "    </tr>\n",
       "    <tr>\n",
       "      <th>6</th>\n",
       "      <td>6</td>\n",
       "      <td>0</td>\n",
       "      <td>N</td>\n",
       "      <td>0</td>\n",
       "      <td>0.0</td>\n",
       "      <td>0.0</td>\n",
       "      <td>1.0</td>\n",
       "    </tr>\n",
       "    <tr>\n",
       "      <th>7</th>\n",
       "      <td>7</td>\n",
       "      <td>1</td>\n",
       "      <td>N</td>\n",
       "      <td>0</td>\n",
       "      <td>0.0</td>\n",
       "      <td>0.0</td>\n",
       "      <td>1.0</td>\n",
       "    </tr>\n",
       "    <tr>\n",
       "      <th>8</th>\n",
       "      <td>8</td>\n",
       "      <td>0</td>\n",
       "      <td>N</td>\n",
       "      <td>2</td>\n",
       "      <td>1.0</td>\n",
       "      <td>0.0</td>\n",
       "      <td>0.0</td>\n",
       "    </tr>\n",
       "    <tr>\n",
       "      <th>9</th>\n",
       "      <td>9</td>\n",
       "      <td>0</td>\n",
       "      <td>Y</td>\n",
       "      <td>1</td>\n",
       "      <td>0.0</td>\n",
       "      <td>0.0</td>\n",
       "      <td>1.0</td>\n",
       "    </tr>\n",
       "  </tbody>\n",
       "</table>\n",
       "</div>"
      ]
     },
     "execution_count": 35,
     "metadata": {},
     "output_type": "execute_result"
    }
   ],
   "execution_count": 35
  },
  {
   "metadata": {
    "ExecuteTime": {
     "end_time": "2025-03-24T07:37:57.542997Z",
     "start_time": "2025-03-24T07:37:57.537005Z"
    }
   },
   "cell_type": "code",
   "source": [
    "# frequency encoding\n",
    "\n",
    "# frequency encoding is a technique used to convert categorical variables into numerical values based on the frequency of each category in the dataset.\n",
    "\n",
    "# use this only when the frequency of the category is important, if not, it creates noise\n",
    "\n",
    "df3 = df.copy()\n",
    "\n",
    "frequency = df3.groupby(['nom_0']).size() / len(df3)\n",
    "\n",
    "frequency.head(10)"
   ],
   "outputs": [
    {
     "data": {
      "text/plain": [
       "nom_0\n",
       "Blue     0.3\n",
       "Green    0.2\n",
       "Red      0.5\n",
       "dtype: float64"
      ]
     },
     "execution_count": 36,
     "metadata": {},
     "output_type": "execute_result"
    }
   ],
   "execution_count": 36
  },
  {
   "metadata": {
    "ExecuteTime": {
     "end_time": "2025-03-24T07:37:57.670056Z",
     "start_time": "2025-03-24T07:37:57.664418Z"
    }
   },
   "cell_type": "code",
   "source": [
    "df3.loc[:, '{}_freq_encoded'.format('nom_0')] = df3['nom_0'].map(frequency)\n",
    "df3 = df3.drop(['nom_0'], axis=1)\n",
    "frequency.plot.bar(stackee=True, color=plt.cm.)\n",
    "plt.title('Frequency Encoding')\n",
    "plt.show()"
   ],
   "outputs": [
    {
     "ename": "SyntaxError",
     "evalue": "invalid syntax (1573625864.py, line 3)",
     "output_type": "error",
     "traceback": [
      "\u001B[1;36m  Cell \u001B[1;32mIn[37], line 3\u001B[1;36m\u001B[0m\n\u001B[1;33m    frequency.plot.bar(stackee=True, color=plt.cm.)\u001B[0m\n\u001B[1;37m                                                  ^\u001B[0m\n\u001B[1;31mSyntaxError\u001B[0m\u001B[1;31m:\u001B[0m invalid syntax\n"
     ]
    }
   ],
   "execution_count": 37
  },
  {
   "metadata": {
    "ExecuteTime": {
     "end_time": "2025-03-24T07:37:57.699201800Z",
     "start_time": "2025-03-20T10:19:16.900108Z"
    }
   },
   "cell_type": "code",
   "source": [
    "# ordinal encoding\n",
    "from sklearn.preprocessing import OrdinalEncoder\n",
    "\n",
    "ordinal_encoder = OrdinalEncoder()\n",
    "\n",
    "df4 = df.copy()\n",
    "\n",
    "ordinal_encoder.fit(df4[['ord_2']])\n",
    "df4['ord_2'] = ordinal_encoder.transform(df4[['ord_2']])\n",
    "\n",
    "df4.head(10)"
   ],
   "outputs": [
    {
     "data": {
      "text/plain": [
       "   id  bin_1 bin_2  nom_0  ord_2\n",
       "0   0      0     N    Red    1.0\n",
       "1   1      0     Y   Blue    2.0\n",
       "2   2      0     N   Blue    0.0\n",
       "3   3      0     N  Green    2.0\n",
       "4   4      1     N    Red    0.0\n",
       "5   5      1     N  Green    1.0\n",
       "6   6      0     N    Red    0.0\n",
       "7   7      1     N    Red    0.0\n",
       "8   8      0     N   Blue    2.0\n",
       "9   9      0     Y    Red    1.0"
      ],
      "text/html": [
       "<div>\n",
       "<style scoped>\n",
       "    .dataframe tbody tr th:only-of-type {\n",
       "        vertical-align: middle;\n",
       "    }\n",
       "\n",
       "    .dataframe tbody tr th {\n",
       "        vertical-align: top;\n",
       "    }\n",
       "\n",
       "    .dataframe thead th {\n",
       "        text-align: right;\n",
       "    }\n",
       "</style>\n",
       "<table border=\"1\" class=\"dataframe\">\n",
       "  <thead>\n",
       "    <tr style=\"text-align: right;\">\n",
       "      <th></th>\n",
       "      <th>id</th>\n",
       "      <th>bin_1</th>\n",
       "      <th>bin_2</th>\n",
       "      <th>nom_0</th>\n",
       "      <th>ord_2</th>\n",
       "    </tr>\n",
       "  </thead>\n",
       "  <tbody>\n",
       "    <tr>\n",
       "      <th>0</th>\n",
       "      <td>0</td>\n",
       "      <td>0</td>\n",
       "      <td>N</td>\n",
       "      <td>Red</td>\n",
       "      <td>1.0</td>\n",
       "    </tr>\n",
       "    <tr>\n",
       "      <th>1</th>\n",
       "      <td>1</td>\n",
       "      <td>0</td>\n",
       "      <td>Y</td>\n",
       "      <td>Blue</td>\n",
       "      <td>2.0</td>\n",
       "    </tr>\n",
       "    <tr>\n",
       "      <th>2</th>\n",
       "      <td>2</td>\n",
       "      <td>0</td>\n",
       "      <td>N</td>\n",
       "      <td>Blue</td>\n",
       "      <td>0.0</td>\n",
       "    </tr>\n",
       "    <tr>\n",
       "      <th>3</th>\n",
       "      <td>3</td>\n",
       "      <td>0</td>\n",
       "      <td>N</td>\n",
       "      <td>Green</td>\n",
       "      <td>2.0</td>\n",
       "    </tr>\n",
       "    <tr>\n",
       "      <th>4</th>\n",
       "      <td>4</td>\n",
       "      <td>1</td>\n",
       "      <td>N</td>\n",
       "      <td>Red</td>\n",
       "      <td>0.0</td>\n",
       "    </tr>\n",
       "    <tr>\n",
       "      <th>5</th>\n",
       "      <td>5</td>\n",
       "      <td>1</td>\n",
       "      <td>N</td>\n",
       "      <td>Green</td>\n",
       "      <td>1.0</td>\n",
       "    </tr>\n",
       "    <tr>\n",
       "      <th>6</th>\n",
       "      <td>6</td>\n",
       "      <td>0</td>\n",
       "      <td>N</td>\n",
       "      <td>Red</td>\n",
       "      <td>0.0</td>\n",
       "    </tr>\n",
       "    <tr>\n",
       "      <th>7</th>\n",
       "      <td>7</td>\n",
       "      <td>1</td>\n",
       "      <td>N</td>\n",
       "      <td>Red</td>\n",
       "      <td>0.0</td>\n",
       "    </tr>\n",
       "    <tr>\n",
       "      <th>8</th>\n",
       "      <td>8</td>\n",
       "      <td>0</td>\n",
       "      <td>N</td>\n",
       "      <td>Blue</td>\n",
       "      <td>2.0</td>\n",
       "    </tr>\n",
       "    <tr>\n",
       "      <th>9</th>\n",
       "      <td>9</td>\n",
       "      <td>0</td>\n",
       "      <td>Y</td>\n",
       "      <td>Red</td>\n",
       "      <td>1.0</td>\n",
       "    </tr>\n",
       "  </tbody>\n",
       "</table>\n",
       "</div>"
      ]
     },
     "execution_count": 264,
     "metadata": {},
     "output_type": "execute_result"
    }
   ],
   "execution_count": 264
  },
  {
   "metadata": {
    "ExecuteTime": {
     "end_time": "2025-03-24T07:37:57.711214700Z",
     "start_time": "2025-03-20T10:22:04.543437Z"
    }
   },
   "cell_type": "code",
   "source": [
    "# impose an order by using manual mapping\n",
    "\n",
    "df5 = df.copy()\n",
    "\n",
    "temp_dict = {\n",
    "    'Cold': 0,\n",
    "    'Warm': 1,\n",
    "    'Hot': 2\n",
    "}\n",
    "\n",
    "df5['ord_2_encoded'] = df5['ord_2'].map(temp_dict)\n",
    "df5 = df5.drop(['ord_2'], axis=1)\n",
    "\n",
    "df5.head(10)"
   ],
   "outputs": [
    {
     "data": {
      "text/plain": [
       "   id  bin_1 bin_2  nom_0  ord_2_encoded\n",
       "0   0      0     N    Red              2\n",
       "1   1      0     Y   Blue              1\n",
       "2   2      0     N   Blue              0\n",
       "3   3      0     N  Green              1\n",
       "4   4      1     N    Red              0\n",
       "5   5      1     N  Green              2\n",
       "6   6      0     N    Red              0\n",
       "7   7      1     N    Red              0\n",
       "8   8      0     N   Blue              1\n",
       "9   9      0     Y    Red              2"
      ],
      "text/html": [
       "<div>\n",
       "<style scoped>\n",
       "    .dataframe tbody tr th:only-of-type {\n",
       "        vertical-align: middle;\n",
       "    }\n",
       "\n",
       "    .dataframe tbody tr th {\n",
       "        vertical-align: top;\n",
       "    }\n",
       "\n",
       "    .dataframe thead th {\n",
       "        text-align: right;\n",
       "    }\n",
       "</style>\n",
       "<table border=\"1\" class=\"dataframe\">\n",
       "  <thead>\n",
       "    <tr style=\"text-align: right;\">\n",
       "      <th></th>\n",
       "      <th>id</th>\n",
       "      <th>bin_1</th>\n",
       "      <th>bin_2</th>\n",
       "      <th>nom_0</th>\n",
       "      <th>ord_2_encoded</th>\n",
       "    </tr>\n",
       "  </thead>\n",
       "  <tbody>\n",
       "    <tr>\n",
       "      <th>0</th>\n",
       "      <td>0</td>\n",
       "      <td>0</td>\n",
       "      <td>N</td>\n",
       "      <td>Red</td>\n",
       "      <td>2</td>\n",
       "    </tr>\n",
       "    <tr>\n",
       "      <th>1</th>\n",
       "      <td>1</td>\n",
       "      <td>0</td>\n",
       "      <td>Y</td>\n",
       "      <td>Blue</td>\n",
       "      <td>1</td>\n",
       "    </tr>\n",
       "    <tr>\n",
       "      <th>2</th>\n",
       "      <td>2</td>\n",
       "      <td>0</td>\n",
       "      <td>N</td>\n",
       "      <td>Blue</td>\n",
       "      <td>0</td>\n",
       "    </tr>\n",
       "    <tr>\n",
       "      <th>3</th>\n",
       "      <td>3</td>\n",
       "      <td>0</td>\n",
       "      <td>N</td>\n",
       "      <td>Green</td>\n",
       "      <td>1</td>\n",
       "    </tr>\n",
       "    <tr>\n",
       "      <th>4</th>\n",
       "      <td>4</td>\n",
       "      <td>1</td>\n",
       "      <td>N</td>\n",
       "      <td>Red</td>\n",
       "      <td>0</td>\n",
       "    </tr>\n",
       "    <tr>\n",
       "      <th>5</th>\n",
       "      <td>5</td>\n",
       "      <td>1</td>\n",
       "      <td>N</td>\n",
       "      <td>Green</td>\n",
       "      <td>2</td>\n",
       "    </tr>\n",
       "    <tr>\n",
       "      <th>6</th>\n",
       "      <td>6</td>\n",
       "      <td>0</td>\n",
       "      <td>N</td>\n",
       "      <td>Red</td>\n",
       "      <td>0</td>\n",
       "    </tr>\n",
       "    <tr>\n",
       "      <th>7</th>\n",
       "      <td>7</td>\n",
       "      <td>1</td>\n",
       "      <td>N</td>\n",
       "      <td>Red</td>\n",
       "      <td>0</td>\n",
       "    </tr>\n",
       "    <tr>\n",
       "      <th>8</th>\n",
       "      <td>8</td>\n",
       "      <td>0</td>\n",
       "      <td>N</td>\n",
       "      <td>Blue</td>\n",
       "      <td>1</td>\n",
       "    </tr>\n",
       "    <tr>\n",
       "      <th>9</th>\n",
       "      <td>9</td>\n",
       "      <td>0</td>\n",
       "      <td>Y</td>\n",
       "      <td>Red</td>\n",
       "      <td>2</td>\n",
       "    </tr>\n",
       "  </tbody>\n",
       "</table>\n",
       "</div>"
      ]
     },
     "execution_count": 265,
     "metadata": {},
     "output_type": "execute_result"
    }
   ],
   "execution_count": 265
  },
  {
   "metadata": {},
   "cell_type": "code",
   "outputs": [],
   "execution_count": null,
   "source": [
    "# column transformation\n",
    "from sklearn.compose import ColumnTransformer\n",
    "from sklearn.pipeline import Pipeline\n",
    "\n",
    "# numerical columns - fill missing values with SimpleImputer, scale with StandardScaler\n",
    "# nominal columns - one-hot encode with OneHotEncoder\n",
    "# ordinal columns - ordinal encode with OrdinalEncoder with a custom order (if needed)\n",
    "\n",
    "# fetchopenml\n",
    "from sklearn.datasets import fetch_openml"
   ]
  }
 ]
}
