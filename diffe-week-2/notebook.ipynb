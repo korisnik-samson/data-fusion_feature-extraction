{
 "cells": [
  {
   "cell_type": "code",
   "id": "initial_id",
   "metadata": {
    "collapsed": true,
    "ExecuteTime": {
     "end_time": "2025-02-27T21:35:04.770244Z",
     "start_time": "2025-02-27T21:35:04.755529Z"
    }
   },
   "source": [
    "from cProfile import label\n",
    "\n",
    "from numpy.array_api import astype\n",
    "\n",
    "df_link = 'https://s3.amazonaws.com/assets.datacamp.com/production/course_1939/datasets/diabetes.csv'"
   ],
   "outputs": [],
   "execution_count": 2
  },
  {
   "metadata": {
    "ExecuteTime": {
     "end_time": "2025-02-27T21:35:04.784777Z",
     "start_time": "2025-02-27T21:35:04.778843Z"
    }
   },
   "cell_type": "code",
   "source": [
    "import numpy as np\n",
    "import pandas as pd\n",
    "import matplotlib.pyplot as plt\n",
    "import seaborn as sns\n",
    "\n",
    "import warnings\n",
    "warnings.filterwarnings('ignore')"
   ],
   "id": "5090f63e66d1e773",
   "outputs": [],
   "execution_count": 3
  },
  {
   "metadata": {
    "ExecuteTime": {
     "end_time": "2025-02-27T21:35:05.251414Z",
     "start_time": "2025-02-27T21:35:04.791798Z"
    }
   },
   "cell_type": "code",
   "source": [
    "df = pd.read_csv(df_link)\n",
    "df.head()"
   ],
   "id": "4d19998bfa7ae77a",
   "outputs": [
    {
     "data": {
      "text/plain": [
       "   pregnancies  glucose  diastolic  triceps  insulin   bmi    dpf  age  \\\n",
       "0            6      148         72       35        0  33.6  0.627   50   \n",
       "1            1       85         66       29        0  26.6  0.351   31   \n",
       "2            8      183         64        0        0  23.3  0.672   32   \n",
       "3            1       89         66       23       94  28.1  0.167   21   \n",
       "4            0      137         40       35      168  43.1  2.288   33   \n",
       "\n",
       "   diabetes  \n",
       "0         1  \n",
       "1         0  \n",
       "2         1  \n",
       "3         0  \n",
       "4         1  "
      ],
      "text/html": [
       "<div>\n",
       "<style scoped>\n",
       "    .dataframe tbody tr th:only-of-type {\n",
       "        vertical-align: middle;\n",
       "    }\n",
       "\n",
       "    .dataframe tbody tr th {\n",
       "        vertical-align: top;\n",
       "    }\n",
       "\n",
       "    .dataframe thead th {\n",
       "        text-align: right;\n",
       "    }\n",
       "</style>\n",
       "<table border=\"1\" class=\"dataframe\">\n",
       "  <thead>\n",
       "    <tr style=\"text-align: right;\">\n",
       "      <th></th>\n",
       "      <th>pregnancies</th>\n",
       "      <th>glucose</th>\n",
       "      <th>diastolic</th>\n",
       "      <th>triceps</th>\n",
       "      <th>insulin</th>\n",
       "      <th>bmi</th>\n",
       "      <th>dpf</th>\n",
       "      <th>age</th>\n",
       "      <th>diabetes</th>\n",
       "    </tr>\n",
       "  </thead>\n",
       "  <tbody>\n",
       "    <tr>\n",
       "      <th>0</th>\n",
       "      <td>6</td>\n",
       "      <td>148</td>\n",
       "      <td>72</td>\n",
       "      <td>35</td>\n",
       "      <td>0</td>\n",
       "      <td>33.6</td>\n",
       "      <td>0.627</td>\n",
       "      <td>50</td>\n",
       "      <td>1</td>\n",
       "    </tr>\n",
       "    <tr>\n",
       "      <th>1</th>\n",
       "      <td>1</td>\n",
       "      <td>85</td>\n",
       "      <td>66</td>\n",
       "      <td>29</td>\n",
       "      <td>0</td>\n",
       "      <td>26.6</td>\n",
       "      <td>0.351</td>\n",
       "      <td>31</td>\n",
       "      <td>0</td>\n",
       "    </tr>\n",
       "    <tr>\n",
       "      <th>2</th>\n",
       "      <td>8</td>\n",
       "      <td>183</td>\n",
       "      <td>64</td>\n",
       "      <td>0</td>\n",
       "      <td>0</td>\n",
       "      <td>23.3</td>\n",
       "      <td>0.672</td>\n",
       "      <td>32</td>\n",
       "      <td>1</td>\n",
       "    </tr>\n",
       "    <tr>\n",
       "      <th>3</th>\n",
       "      <td>1</td>\n",
       "      <td>89</td>\n",
       "      <td>66</td>\n",
       "      <td>23</td>\n",
       "      <td>94</td>\n",
       "      <td>28.1</td>\n",
       "      <td>0.167</td>\n",
       "      <td>21</td>\n",
       "      <td>0</td>\n",
       "    </tr>\n",
       "    <tr>\n",
       "      <th>4</th>\n",
       "      <td>0</td>\n",
       "      <td>137</td>\n",
       "      <td>40</td>\n",
       "      <td>35</td>\n",
       "      <td>168</td>\n",
       "      <td>43.1</td>\n",
       "      <td>2.288</td>\n",
       "      <td>33</td>\n",
       "      <td>1</td>\n",
       "    </tr>\n",
       "  </tbody>\n",
       "</table>\n",
       "</div>"
      ]
     },
     "execution_count": 4,
     "metadata": {},
     "output_type": "execute_result"
    }
   ],
   "execution_count": 4
  },
  {
   "metadata": {
    "ExecuteTime": {
     "end_time": "2025-02-27T21:35:05.305979Z",
     "start_time": "2025-02-27T21:35:05.294861Z"
    }
   },
   "cell_type": "code",
   "source": "df.info()",
   "id": "bc18c0238e9b651a",
   "outputs": [
    {
     "name": "stdout",
     "output_type": "stream",
     "text": [
      "<class 'pandas.core.frame.DataFrame'>\n",
      "RangeIndex: 768 entries, 0 to 767\n",
      "Data columns (total 9 columns):\n",
      " #   Column       Non-Null Count  Dtype  \n",
      "---  ------       --------------  -----  \n",
      " 0   pregnancies  768 non-null    int64  \n",
      " 1   glucose      768 non-null    int64  \n",
      " 2   diastolic    768 non-null    int64  \n",
      " 3   triceps      768 non-null    int64  \n",
      " 4   insulin      768 non-null    int64  \n",
      " 5   bmi          768 non-null    float64\n",
      " 6   dpf          768 non-null    float64\n",
      " 7   age          768 non-null    int64  \n",
      " 8   diabetes     768 non-null    int64  \n",
      "dtypes: float64(2), int64(7)\n",
      "memory usage: 54.1 KB\n"
     ]
    }
   ],
   "execution_count": 5
  },
  {
   "metadata": {
    "ExecuteTime": {
     "end_time": "2025-02-27T21:35:05.354430Z",
     "start_time": "2025-02-27T21:35:05.340264Z"
    }
   },
   "cell_type": "code",
   "source": [
    "df[['insulin', 'triceps', 'bmi']] = df[['insulin', 'triceps', 'bmi']].replace(0, np.nan)\n",
    "df.fillna(df.mean(), inplace=True)\n",
    "df.head()"
   ],
   "id": "e0c2f2391920ff38",
   "outputs": [
    {
     "data": {
      "text/plain": [
       "   pregnancies  glucose  diastolic   triceps     insulin   bmi    dpf  age  \\\n",
       "0            6      148         72  35.00000  155.548223  33.6  0.627   50   \n",
       "1            1       85         66  29.00000  155.548223  26.6  0.351   31   \n",
       "2            8      183         64  29.15342  155.548223  23.3  0.672   32   \n",
       "3            1       89         66  23.00000   94.000000  28.1  0.167   21   \n",
       "4            0      137         40  35.00000  168.000000  43.1  2.288   33   \n",
       "\n",
       "   diabetes  \n",
       "0         1  \n",
       "1         0  \n",
       "2         1  \n",
       "3         0  \n",
       "4         1  "
      ],
      "text/html": [
       "<div>\n",
       "<style scoped>\n",
       "    .dataframe tbody tr th:only-of-type {\n",
       "        vertical-align: middle;\n",
       "    }\n",
       "\n",
       "    .dataframe tbody tr th {\n",
       "        vertical-align: top;\n",
       "    }\n",
       "\n",
       "    .dataframe thead th {\n",
       "        text-align: right;\n",
       "    }\n",
       "</style>\n",
       "<table border=\"1\" class=\"dataframe\">\n",
       "  <thead>\n",
       "    <tr style=\"text-align: right;\">\n",
       "      <th></th>\n",
       "      <th>pregnancies</th>\n",
       "      <th>glucose</th>\n",
       "      <th>diastolic</th>\n",
       "      <th>triceps</th>\n",
       "      <th>insulin</th>\n",
       "      <th>bmi</th>\n",
       "      <th>dpf</th>\n",
       "      <th>age</th>\n",
       "      <th>diabetes</th>\n",
       "    </tr>\n",
       "  </thead>\n",
       "  <tbody>\n",
       "    <tr>\n",
       "      <th>0</th>\n",
       "      <td>6</td>\n",
       "      <td>148</td>\n",
       "      <td>72</td>\n",
       "      <td>35.00000</td>\n",
       "      <td>155.548223</td>\n",
       "      <td>33.6</td>\n",
       "      <td>0.627</td>\n",
       "      <td>50</td>\n",
       "      <td>1</td>\n",
       "    </tr>\n",
       "    <tr>\n",
       "      <th>1</th>\n",
       "      <td>1</td>\n",
       "      <td>85</td>\n",
       "      <td>66</td>\n",
       "      <td>29.00000</td>\n",
       "      <td>155.548223</td>\n",
       "      <td>26.6</td>\n",
       "      <td>0.351</td>\n",
       "      <td>31</td>\n",
       "      <td>0</td>\n",
       "    </tr>\n",
       "    <tr>\n",
       "      <th>2</th>\n",
       "      <td>8</td>\n",
       "      <td>183</td>\n",
       "      <td>64</td>\n",
       "      <td>29.15342</td>\n",
       "      <td>155.548223</td>\n",
       "      <td>23.3</td>\n",
       "      <td>0.672</td>\n",
       "      <td>32</td>\n",
       "      <td>1</td>\n",
       "    </tr>\n",
       "    <tr>\n",
       "      <th>3</th>\n",
       "      <td>1</td>\n",
       "      <td>89</td>\n",
       "      <td>66</td>\n",
       "      <td>23.00000</td>\n",
       "      <td>94.000000</td>\n",
       "      <td>28.1</td>\n",
       "      <td>0.167</td>\n",
       "      <td>21</td>\n",
       "      <td>0</td>\n",
       "    </tr>\n",
       "    <tr>\n",
       "      <th>4</th>\n",
       "      <td>0</td>\n",
       "      <td>137</td>\n",
       "      <td>40</td>\n",
       "      <td>35.00000</td>\n",
       "      <td>168.000000</td>\n",
       "      <td>43.1</td>\n",
       "      <td>2.288</td>\n",
       "      <td>33</td>\n",
       "      <td>1</td>\n",
       "    </tr>\n",
       "  </tbody>\n",
       "</table>\n",
       "</div>"
      ]
     },
     "execution_count": 6,
     "metadata": {},
     "output_type": "execute_result"
    }
   ],
   "execution_count": 6
  },
  {
   "metadata": {
    "ExecuteTime": {
     "end_time": "2025-02-27T21:35:05.445337Z",
     "start_time": "2025-02-27T21:35:05.437182Z"
    }
   },
   "cell_type": "code",
   "source": [
    "X = df.drop('diabetes', axis=1)\n",
    "y = df['diabetes']"
   ],
   "id": "7538685f5e990283",
   "outputs": [],
   "execution_count": 7
  },
  {
   "metadata": {
    "ExecuteTime": {
     "end_time": "2025-02-27T21:35:05.518163Z",
     "start_time": "2025-02-27T21:35:05.472081Z"
    }
   },
   "cell_type": "code",
   "source": [
    "plt.figure(figsize=(6, 6))\n",
    "plt.pie(y.value_counts(), labels=['No Diabetes (0)', 'Diabetes (1)'], autopct='%1.1f%%', colors=['lightblue', 'salmon'])\n",
    "plt.title(\"Class Distribution in Pima Indians Dataset\")\n",
    "\n",
    "plt.show()"
   ],
   "id": "65f441a144d9dfa1",
   "outputs": [
    {
     "data": {
      "text/plain": [
       "<Figure size 600x600 with 1 Axes>"
      ],
      "image/png": "[encoded data removed]"
     },
     "metadata": {},
     "output_type": "display_data"
    }
   ],
   "execution_count": 8
  },
  {
   "metadata": {
    "ExecuteTime": {
     "end_time": "2025-02-27T21:35:05.663423Z",
     "start_time": "2025-02-27T21:35:05.532749Z"
    }
   },
   "cell_type": "code",
   "source": [
    "# Logistic Regression\n",
    "\n",
    "from sklearn.model_selection import train_test_split\n",
    "from sklearn.preprocessing import StandardScaler\n",
    "from sklearn.linear_model import LogisticRegression\n",
    "from sklearn.metrics import roc_curve, auc, classification_report, accuracy_score, confusion_matrix"
   ],
   "id": "6dc9484ec8a9f0ca",
   "outputs": [],
   "execution_count": 9
  },
  {
   "metadata": {
    "ExecuteTime": {
     "end_time": "2025-02-27T21:35:05.687718Z",
     "start_time": "2025-02-27T21:35:05.676201Z"
    }
   },
   "cell_type": "code",
   "source": [
    "# Standard Scaler - ALWAYS USE A SCALER\n",
    "scaler = StandardScaler()\n",
    "X_scaled = scaler.fit_transform(X)\n",
    "\n",
    "# train test split\n",
    "X_train, X_test, y_train, y_test = train_test_split(X_scaled, y, test_size=0.3, random_state=42, stratify=y)"
   ],
   "id": "5398eadb0dc204",
   "outputs": [],
   "execution_count": 10
  },
  {
   "metadata": {
    "ExecuteTime": {
     "end_time": "2025-02-27T21:35:05.711897Z",
     "start_time": "2025-02-27T21:35:05.704233Z"
    }
   },
   "cell_type": "code",
   "source": [
    "# Train the model\n",
    "logistic_regression = LogisticRegression()"
   ],
   "id": "8677aba4ea6a5410",
   "outputs": [],
   "execution_count": 11
  },
  {
   "metadata": {
    "ExecuteTime": {
     "end_time": "2025-02-27T21:35:05.748572Z",
     "start_time": "2025-02-27T21:35:05.734669Z"
    }
   },
   "cell_type": "code",
   "source": [
    "logistic_regression.fit(X_train, y_train)\n",
    "\n",
    "# Get predicted raw probabilities for class 1 (they have diabetes)\n",
    "y_pred_pr = logistic_regression.predict_proba(X_test)[:, 1]\n",
    "\n",
    "# roc curve\n",
    "fpr, tpr, thresholds = roc_curve(y_test, y_pred_pr)\n",
    "roc_auc = auc(fpr, tpr)\n",
    "\n",
    "# find the best threshold (closest to the upper left corner of the roc graph\n",
    "optimal_idx = np.argmax(tpr - fpr)\n",
    "optimal_threshold = thresholds[optimal_idx]\n",
    "\n",
    "print(f'Optimal Threshold: {optimal_threshold:.3f}')\n",
    "print(f'At this Threshold, TPR: {tpr[optimal_idx]:.3f}, FPR: {fpr[optimal_idx]:.3f}')"
   ],
   "id": "2a9ef9b5531d051f",
   "outputs": [
    {
     "name": "stdout",
     "output_type": "stream",
     "text": [
      "Optimal Threshold: 0.218\n",
      "At this Threshold, TPR: 0.889, FPR: 0.347\n"
     ]
    }
   ],
   "execution_count": 12
  },
  {
   "metadata": {
    "ExecuteTime": {
     "end_time": "2025-02-27T21:35:05.842457Z",
     "start_time": "2025-02-27T21:35:05.770548Z"
    }
   },
   "cell_type": "code",
   "source": [
    "plt.figure(figsize=(8, 6))\n",
    "plt.plot(fpr, tpr, color='blue', lw=2, label=f'ROC CURVE (AUC = {roc_auc:.3f})')\n",
    "plt.scatter(fpr[optimal_idx], tpr[optimal_idx], color='red', label=f'Optimal Threshold ({optimal_threshold:.3f}])', zorder=3)\n",
    "plt.plot([0, 1], [0, 1], color='gray', linestyle='--')\n",
    "plt.xlabel('False Positive Rate')\n",
    "plt.ylabel('True Positive Rate')\n",
    "plt.title('ROC Curve for Diabetes Prediction')\n",
    "plt.legend([\"Baseline\"], loc='lower right')  # Added a label for the legend\n",
    "plt.show()"
   ],
   "id": "8d4c5f5df0702776",
   "outputs": [
    {
     "data": {
      "text/plain": [
       "<Figure size 800x600 with 1 Axes>"
      ],
      "image/png": "[encoded data removed]"
     },
     "metadata": {},
     "output_type": "display_data"
    }
   ],
   "execution_count": 13
  },
  {
   "metadata": {
    "ExecuteTime": {
     "end_time": "2025-02-27T21:35:05.872529Z",
     "start_time": "2025-02-27T21:35:05.859020Z"
    }
   },
   "cell_type": "code",
   "source": [
    "# apply a def threshold\n",
    "y_pred_default = (y_pred_pr >= 0.5).astype(int)\n",
    "\n",
    "# apply an optimal threshold\n",
    "y_pred_optimal = (y_pred_pr >= optimal_threshold).astype(int)\n",
    "\n",
    "# print classification reports\n",
    "print(f'\\n Classification report with default threshold \\n{classification_report(y_test, y_pred_default)}')\n",
    "print(f'\\n Classification report with default threshold \\n{classification_report(y_test, y_pred_optimal)}')\n",
    "\n",
    "# print accuracy\n",
    "print(f'\\n Accuracy with default threshold \\n{accuracy_score(y_test, y_pred_default):.3f}')\n",
    "print(f'\\n Accuracy with optimal threshold \\n{accuracy_score(y_test, y_pred_optimal):.3f}')"
   ],
   "id": "df6ec9618ff1d877",
   "outputs": [
    {
     "name": "stdout",
     "output_type": "stream",
     "text": [
      "\n",
      " Classification report with default threshold \n",
      "              precision    recall  f1-score   support\n",
      "\n",
      "           0       0.76      0.85      0.81       150\n",
      "           1       0.65      0.51      0.57        81\n",
      "\n",
      "    accuracy                           0.73       231\n",
      "   macro avg       0.71      0.68      0.69       231\n",
      "weighted avg       0.72      0.73      0.72       231\n",
      "\n",
      "\n",
      " Classification report with default threshold \n",
      "              precision    recall  f1-score   support\n",
      "\n",
      "           0       0.92      0.65      0.76       150\n",
      "           1       0.58      0.89      0.70        81\n",
      "\n",
      "    accuracy                           0.74       231\n",
      "   macro avg       0.75      0.77      0.73       231\n",
      "weighted avg       0.80      0.74      0.74       231\n",
      "\n",
      "\n",
      " Accuracy with default threshold \n",
      "0.732\n",
      "\n",
      " Accuracy with optimal threshold \n",
      "0.736\n"
     ]
    }
   ],
   "execution_count": 14
  },
  {
   "metadata": {
    "ExecuteTime": {
     "end_time": "2025-02-27T21:35:05.903104Z",
     "start_time": "2025-02-27T21:35:05.888824Z"
    }
   },
   "cell_type": "code",
   "source": [
    "# print confusion matrices\n",
    "conf_matrix_default = confusion_matrix(y_test, y_pred_default)\n",
    "conf_matrix_optimal = confusion_matrix(y_test, y_pred_optimal)\n",
    "\n",
    "print(conf_matrix_default)\n",
    "print(conf_matrix_optimal)"
   ],
   "id": "1d103bed0be0b6bd",
   "outputs": [
    {
     "name": "stdout",
     "output_type": "stream",
     "text": [
      "[[128  22]\n",
      " [ 40  41]]\n",
      "[[98 52]\n",
      " [ 9 72]]\n"
     ]
    }
   ],
   "execution_count": 15
  },
  {
   "metadata": {
    "ExecuteTime": {
     "end_time": "2025-02-27T21:35:06.063654Z",
     "start_time": "2025-02-27T21:35:05.918798Z"
    }
   },
   "cell_type": "code",
   "source": [
    "fig, axes = plt.subplots(1, 2, figsize=(12, 5))\n",
    "sns.heatmap(conf_matrix_default, annot=True, fmt='d', cmap='Blues', \n",
    "            xticklabels=[\"No Diabetes (0), Diabetes (1)\"], \n",
    "            yticklabels=[\"No Diabetes (0), Diabetes (1)\"], ax=axes[0])\n",
    "\n",
    "axes[0].set_title(\"Confusion Matrix default threshold\")\n",
    "axes[0].set_xlabel(\"Predicted Label\")\n",
    "axes[0].set_ylabel(\"True Label\")\n",
    "\n",
    "sns.heatmap(conf_matrix_optimal, annot=True, fmt='d', cmap='Blues',\n",
    "            xticklabels=[\"No Diabetes (0), Diabetes (1)\"],\n",
    "            yticklabels=[\"No Diabetes (0), Diabetes (1)\"], ax=axes[1])\n",
    "\n",
    "axes[1].set_title(\"Confusion Matrix optimal threshold\")\n",
    "axes[1].set_xlabel(\"Predicted Label\")\n",
    "axes[1].set_ylabel(\"True Label\")"
   ],
   "id": "814d9d44ab59535e",
   "outputs": [
    {
     "data": {
      "text/plain": [
       "Text(627.9949494949494, 0.5, 'True Label')"
      ]
     },
     "execution_count": 16,
     "metadata": {},
     "output_type": "execute_result"
    },
    {
     "data": {
      "text/plain": [
       "<Figure size 1200x500 with 4 Axes>"
      ],
      "image/png": "[encoded data removed]"
     },
     "metadata": {},
     "output_type": "display_data"
    }
   ],
   "execution_count": 16
  },
  {
   "metadata": {
    "ExecuteTime": {
     "end_time": "2025-02-27T21:35:06.342330Z",
     "start_time": "2025-02-27T21:35:06.076759Z"
    }
   },
   "cell_type": "code",
   "source": [
    "# Hyper\n",
    "\n",
    "from sklearn.model_selection import GridSearchCV\n",
    "\n",
    "logistic_regression2 = LogisticRegression()\n",
    "param_grid = {'C': np.logspace(-4, 4, 20)}\n",
    "\n",
    "grid_search = GridSearchCV(logistic_regression2, param_grid, cv=5, scoring='roc_auc', n_jobs=1)\n",
    "grid_search.fit(X_train, y_train)\n",
    "\n",
    "best_logistic_regression = grid_search.best_estimator_\n",
    "best_C = grid_search.best_params_['C']\n",
    "\n",
    "print(f'Best C Value found: {best_C:.4f}')"
   ],
   "id": "1d897fd7c40d592",
   "outputs": [
    {
     "name": "stdout",
     "output_type": "stream",
     "text": [
      "Best C Value found: 0.0336\n"
     ]
    }
   ],
   "execution_count": 17
  },
  {
   "metadata": {
    "ExecuteTime": {
     "end_time": "2025-02-27T21:35:06.372546Z",
     "start_time": "2025-02-27T21:35:06.367618Z"
    }
   },
   "cell_type": "code",
   "source": "# Do the same procdure for fitting",
   "id": "d2b8d7a85d88962a",
   "outputs": [],
   "execution_count": 18
  }
 ],
 "metadata": {
  "kernelspec": {
   "display_name": "Python 3",
   "language": "python",
   "name": "python3"
  },
  "language_info": {
   "codemirror_mode": {
    "name": "ipython",
    "version": 2
   },
   "file_extension": ".py",
   "mimetype": "text/x-python",
   "name": "python",
   "nbconvert_exporter": "python",
   "pygments_lexer": "ipython2",
   "version": "2.7.6"
  }
 },
 "nbformat": 4,
 "nbformat_minor": 5
}
