{
 "cells": [
  {
   "cell_type": "code",
   "id": "initial_id",
   "metadata": {
    "collapsed": true,
    "ExecuteTime": {
     "end_time": "2025-03-13T09:11:01.443390Z",
     "start_time": "2025-03-13T09:11:01.126971Z"
    }
   },
   "source": [
    "import pandas as pd\n",
    "import numpy as np\n",
    "import matplotlib.pyplot as plt\n",
    "import seaborn as sns\n",
    "\n",
    "import warnings\n",
    "\n",
    "from networkx.algorithms.bipartite.basic import color\n",
    "\n",
    "warnings.filterwarnings('ignore')"
   ],
   "outputs": [],
   "execution_count": 1
  },
  {
   "metadata": {
    "ExecuteTime": {
     "end_time": "2025-03-13T09:11:04.995005Z",
     "start_time": "2025-03-13T09:11:04.979014Z"
    }
   },
   "cell_type": "code",
   "source": [
    "data = {\n",
    "    'School ID': [101, 102, 103, np.nan, 105, 106, 107, 108],\n",
    "    'Name': ['Alice', 'Bob', 'Charlie', 'David', 'Eva', 'Frank', 'Grace', 'Henry'],\n",
    "    'Address': ['123 Main St', '456 Oak Ave', '789 Pine Ln', '101 Elm St', np.nan, '222 Maple Rd', '444 Cedar Blvd', '555 Birch Dr'],\n",
    "    'City': ['Los Angeles', 'New York', 'Houston', 'Los Angeles', 'Miami', np.nan, 'Houston', 'New York'],\n",
    "    'Subject': ['Math', 'English', 'Science', 'Math', 'History', 'Math', 'Science', 'English'],\n",
    "    'Marks': [85, 92, 78, 89, np.nan, 95, 80, 88],\n",
    "    'Rank': [2, 1, 4, 3, 8, 1, 5, 3],\n",
    "    'Grade': ['B', 'A', 'C', 'B', 'D', 'A', 'C', 'B']\n",
    "}"
   ],
   "id": "376f373280c1fd40",
   "outputs": [],
   "execution_count": 2
  },
  {
   "metadata": {
    "ExecuteTime": {
     "end_time": "2025-03-13T09:14:02.411511Z",
     "start_time": "2025-03-13T09:14:02.379838Z"
    }
   },
   "cell_type": "code",
   "source": [
    "df = pd.DataFrame(data)\n",
    "df"
   ],
   "id": "2b1f12bec5b7a1dc",
   "outputs": [
    {
     "data": {
      "text/plain": [
       "   School ID     Name         Address         City  Subject  Marks  Rank Grade\n",
       "0      101.0    Alice     123 Main St  Los Angeles     Math   85.0     2     B\n",
       "1      102.0      Bob     456 Oak Ave     New York  English   92.0     1     A\n",
       "2      103.0  Charlie     789 Pine Ln      Houston  Science   78.0     4     C\n",
       "3        NaN    David      101 Elm St  Los Angeles     Math   89.0     3     B\n",
       "4      105.0      Eva             NaN        Miami  History    NaN     8     D\n",
       "5      106.0    Frank    222 Maple Rd          NaN     Math   95.0     1     A\n",
       "6      107.0    Grace  444 Cedar Blvd      Houston  Science   80.0     5     C\n",
       "7      108.0    Henry    555 Birch Dr     New York  English   88.0     3     B"
      ],
      "text/html": [
       "<div>\n",
       "<style scoped>\n",
       "    .dataframe tbody tr th:only-of-type {\n",
       "        vertical-align: middle;\n",
       "    }\n",
       "\n",
       "    .dataframe tbody tr th {\n",
       "        vertical-align: top;\n",
       "    }\n",
       "\n",
       "    .dataframe thead th {\n",
       "        text-align: right;\n",
       "    }\n",
       "</style>\n",
       "<table border=\"1\" class=\"dataframe\">\n",
       "  <thead>\n",
       "    <tr style=\"text-align: right;\">\n",
       "      <th></th>\n",
       "      <th>School ID</th>\n",
       "      <th>Name</th>\n",
       "      <th>Address</th>\n",
       "      <th>City</th>\n",
       "      <th>Subject</th>\n",
       "      <th>Marks</th>\n",
       "      <th>Rank</th>\n",
       "      <th>Grade</th>\n",
       "    </tr>\n",
       "  </thead>\n",
       "  <tbody>\n",
       "    <tr>\n",
       "      <th>0</th>\n",
       "      <td>101.0</td>\n",
       "      <td>Alice</td>\n",
       "      <td>123 Main St</td>\n",
       "      <td>Los Angeles</td>\n",
       "      <td>Math</td>\n",
       "      <td>85.0</td>\n",
       "      <td>2</td>\n",
       "      <td>B</td>\n",
       "    </tr>\n",
       "    <tr>\n",
       "      <th>1</th>\n",
       "      <td>102.0</td>\n",
       "      <td>Bob</td>\n",
       "      <td>456 Oak Ave</td>\n",
       "      <td>New York</td>\n",
       "      <td>English</td>\n",
       "      <td>92.0</td>\n",
       "      <td>1</td>\n",
       "      <td>A</td>\n",
       "    </tr>\n",
       "    <tr>\n",
       "      <th>2</th>\n",
       "      <td>103.0</td>\n",
       "      <td>Charlie</td>\n",
       "      <td>789 Pine Ln</td>\n",
       "      <td>Houston</td>\n",
       "      <td>Science</td>\n",
       "      <td>78.0</td>\n",
       "      <td>4</td>\n",
       "      <td>C</td>\n",
       "    </tr>\n",
       "    <tr>\n",
       "      <th>3</th>\n",
       "      <td>NaN</td>\n",
       "      <td>David</td>\n",
       "      <td>101 Elm St</td>\n",
       "      <td>Los Angeles</td>\n",
       "      <td>Math</td>\n",
       "      <td>89.0</td>\n",
       "      <td>3</td>\n",
       "      <td>B</td>\n",
       "    </tr>\n",
       "    <tr>\n",
       "      <th>4</th>\n",
       "      <td>105.0</td>\n",
       "      <td>Eva</td>\n",
       "      <td>NaN</td>\n",
       "      <td>Miami</td>\n",
       "      <td>History</td>\n",
       "      <td>NaN</td>\n",
       "      <td>8</td>\n",
       "      <td>D</td>\n",
       "    </tr>\n",
       "    <tr>\n",
       "      <th>5</th>\n",
       "      <td>106.0</td>\n",
       "      <td>Frank</td>\n",
       "      <td>222 Maple Rd</td>\n",
       "      <td>NaN</td>\n",
       "      <td>Math</td>\n",
       "      <td>95.0</td>\n",
       "      <td>1</td>\n",
       "      <td>A</td>\n",
       "    </tr>\n",
       "    <tr>\n",
       "      <th>6</th>\n",
       "      <td>107.0</td>\n",
       "      <td>Grace</td>\n",
       "      <td>444 Cedar Blvd</td>\n",
       "      <td>Houston</td>\n",
       "      <td>Science</td>\n",
       "      <td>80.0</td>\n",
       "      <td>5</td>\n",
       "      <td>C</td>\n",
       "    </tr>\n",
       "    <tr>\n",
       "      <th>7</th>\n",
       "      <td>108.0</td>\n",
       "      <td>Henry</td>\n",
       "      <td>555 Birch Dr</td>\n",
       "      <td>New York</td>\n",
       "      <td>English</td>\n",
       "      <td>88.0</td>\n",
       "      <td>3</td>\n",
       "      <td>B</td>\n",
       "    </tr>\n",
       "  </tbody>\n",
       "</table>\n",
       "</div>"
      ]
     },
     "execution_count": 3,
     "metadata": {},
     "output_type": "execute_result"
    }
   ],
   "execution_count": 3
  },
  {
   "metadata": {},
   "cell_type": "code",
   "outputs": [],
   "execution_count": null,
   "source": "",
   "id": "673da0af18d50caf"
  }
 ],
 "metadata": {
  "kernelspec": {
   "display_name": "Python 3",
   "language": "python",
   "name": "python3"
  },
  "language_info": {
   "codemirror_mode": {
    "name": "ipython",
    "version": 2
   },
   "file_extension": ".py",
   "mimetype": "text/x-python",
   "name": "python",
   "nbconvert_exporter": "python",
   "pygments_lexer": "ipython2",
   "version": "2.7.6"
  }
 },
 "nbformat": 4,
 "nbformat_minor": 5
}
