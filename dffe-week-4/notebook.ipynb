{
 "cells": [
  {
   "cell_type": "code",
   "id": "initial_id",
   "metadata": {
    "collapsed": true,
    "ExecuteTime": {
     "end_time": "2025-03-13T09:56:42.157073Z",
     "start_time": "2025-03-13T09:56:39.813387Z"
    }
   },
   "source": [
    "from os import removedirs\n",
    "\n",
    "import pandas as pd\n",
    "import numpy as np\n",
    "import matplotlib.pyplot as plt\n",
    "import seaborn as sns\n",
    "\n",
    "import warnings\n",
    "\n",
    "from torch.nn.functional import threshold\n",
    "\n",
    "warnings.filterwarnings('ignore')"
   ],
   "outputs": [],
   "execution_count": 57
  },
  {
   "metadata": {
    "ExecuteTime": {
     "end_time": "2025-03-13T09:56:42.173145Z",
     "start_time": "2025-03-13T09:56:42.157073Z"
    }
   },
   "cell_type": "code",
   "source": [
    "def round_floats(dataframe: pd.DataFrame) -> pd.DataFrame:\n",
    "    \"\"\"\n",
    "    Replace floating point numbers with more than one decimal place\n",
    "    with their one decimal place approximation in a DataFrame.\n",
    "    \n",
    "    :param dataframe: \n",
    "    :param df: Input pandas DataFrame\n",
    "    :return: Modified pandas DataFrame with rounded float values\n",
    "    \"\"\"\n",
    "    return dataframe.applymap(lambda x: round(x, 1) if isinstance(x, float) and round(x, 10) != round(x, 1) else x)"
   ],
   "id": "371834db2b9e17b0",
   "outputs": [],
   "execution_count": 58
  },
  {
   "metadata": {
    "ExecuteTime": {
     "end_time": "2025-03-13T09:56:42.207795Z",
     "start_time": "2025-03-13T09:56:42.189044Z"
    }
   },
   "cell_type": "code",
   "source": [
    "data = {\n",
    "    'School ID': [101, 102, 103, np.nan, 105, 106, 107, 108],\n",
    "    'Name': ['Alice', 'Bob', 'Charlie', 'David', 'Eva', 'Frank', 'Grace', 'Henry'],\n",
    "    'Address': ['123 Main St', '456 Oak Ave', '789 Pine Ln', '101 Elm St', np.nan, '222 Maple Rd', '444 Cedar Blvd', '555 Birch Dr'],\n",
    "    'City': ['Los Angeles', 'New York', 'Houston', 'Los Angeles', 'Miami', np.nan, 'Houston', 'New York'],\n",
    "    'Subject': ['Math', 'English', 'Science', 'Math', 'History', 'Math', 'Science', 'English'],\n",
    "    'Marks': [85, 92, 78, 89, np.nan, 95, 80, 88],\n",
    "    'Rank': [2, 1, 4, 3, 8, 1, 5, 3],\n",
    "    'Grade': ['B', 'A', 'C', 'B', 'D', 'A', 'C', 'B']\n",
    "}"
   ],
   "id": "376f373280c1fd40",
   "outputs": [],
   "execution_count": 59
  },
  {
   "metadata": {
    "ExecuteTime": {
     "end_time": "2025-03-13T09:56:42.239643Z",
     "start_time": "2025-03-13T09:56:42.223662Z"
    }
   },
   "cell_type": "code",
   "source": [
    "df = pd.DataFrame(data)\n",
    "df"
   ],
   "id": "2b1f12bec5b7a1dc",
   "outputs": [
    {
     "data": {
      "text/plain": [
       "   School ID     Name         Address         City  Subject  Marks  Rank Grade\n",
       "0      101.0    Alice     123 Main St  Los Angeles     Math   85.0     2     B\n",
       "1      102.0      Bob     456 Oak Ave     New York  English   92.0     1     A\n",
       "2      103.0  Charlie     789 Pine Ln      Houston  Science   78.0     4     C\n",
       "3        NaN    David      101 Elm St  Los Angeles     Math   89.0     3     B\n",
       "4      105.0      Eva             NaN        Miami  History    NaN     8     D\n",
       "5      106.0    Frank    222 Maple Rd          NaN     Math   95.0     1     A\n",
       "6      107.0    Grace  444 Cedar Blvd      Houston  Science   80.0     5     C\n",
       "7      108.0    Henry    555 Birch Dr     New York  English   88.0     3     B"
      ],
      "text/html": [
       "<div>\n",
       "<style scoped>\n",
       "    .dataframe tbody tr th:only-of-type {\n",
       "        vertical-align: middle;\n",
       "    }\n",
       "\n",
       "    .dataframe tbody tr th {\n",
       "        vertical-align: top;\n",
       "    }\n",
       "\n",
       "    .dataframe thead th {\n",
       "        text-align: right;\n",
       "    }\n",
       "</style>\n",
       "<table border=\"1\" class=\"dataframe\">\n",
       "  <thead>\n",
       "    <tr style=\"text-align: right;\">\n",
       "      <th></th>\n",
       "      <th>School ID</th>\n",
       "      <th>Name</th>\n",
       "      <th>Address</th>\n",
       "      <th>City</th>\n",
       "      <th>Subject</th>\n",
       "      <th>Marks</th>\n",
       "      <th>Rank</th>\n",
       "      <th>Grade</th>\n",
       "    </tr>\n",
       "  </thead>\n",
       "  <tbody>\n",
       "    <tr>\n",
       "      <th>0</th>\n",
       "      <td>101.0</td>\n",
       "      <td>Alice</td>\n",
       "      <td>123 Main St</td>\n",
       "      <td>Los Angeles</td>\n",
       "      <td>Math</td>\n",
       "      <td>85.0</td>\n",
       "      <td>2</td>\n",
       "      <td>B</td>\n",
       "    </tr>\n",
       "    <tr>\n",
       "      <th>1</th>\n",
       "      <td>102.0</td>\n",
       "      <td>Bob</td>\n",
       "      <td>456 Oak Ave</td>\n",
       "      <td>New York</td>\n",
       "      <td>English</td>\n",
       "      <td>92.0</td>\n",
       "      <td>1</td>\n",
       "      <td>A</td>\n",
       "    </tr>\n",
       "    <tr>\n",
       "      <th>2</th>\n",
       "      <td>103.0</td>\n",
       "      <td>Charlie</td>\n",
       "      <td>789 Pine Ln</td>\n",
       "      <td>Houston</td>\n",
       "      <td>Science</td>\n",
       "      <td>78.0</td>\n",
       "      <td>4</td>\n",
       "      <td>C</td>\n",
       "    </tr>\n",
       "    <tr>\n",
       "      <th>3</th>\n",
       "      <td>NaN</td>\n",
       "      <td>David</td>\n",
       "      <td>101 Elm St</td>\n",
       "      <td>Los Angeles</td>\n",
       "      <td>Math</td>\n",
       "      <td>89.0</td>\n",
       "      <td>3</td>\n",
       "      <td>B</td>\n",
       "    </tr>\n",
       "    <tr>\n",
       "      <th>4</th>\n",
       "      <td>105.0</td>\n",
       "      <td>Eva</td>\n",
       "      <td>NaN</td>\n",
       "      <td>Miami</td>\n",
       "      <td>History</td>\n",
       "      <td>NaN</td>\n",
       "      <td>8</td>\n",
       "      <td>D</td>\n",
       "    </tr>\n",
       "    <tr>\n",
       "      <th>5</th>\n",
       "      <td>106.0</td>\n",
       "      <td>Frank</td>\n",
       "      <td>222 Maple Rd</td>\n",
       "      <td>NaN</td>\n",
       "      <td>Math</td>\n",
       "      <td>95.0</td>\n",
       "      <td>1</td>\n",
       "      <td>A</td>\n",
       "    </tr>\n",
       "    <tr>\n",
       "      <th>6</th>\n",
       "      <td>107.0</td>\n",
       "      <td>Grace</td>\n",
       "      <td>444 Cedar Blvd</td>\n",
       "      <td>Houston</td>\n",
       "      <td>Science</td>\n",
       "      <td>80.0</td>\n",
       "      <td>5</td>\n",
       "      <td>C</td>\n",
       "    </tr>\n",
       "    <tr>\n",
       "      <th>7</th>\n",
       "      <td>108.0</td>\n",
       "      <td>Henry</td>\n",
       "      <td>555 Birch Dr</td>\n",
       "      <td>New York</td>\n",
       "      <td>English</td>\n",
       "      <td>88.0</td>\n",
       "      <td>3</td>\n",
       "      <td>B</td>\n",
       "    </tr>\n",
       "  </tbody>\n",
       "</table>\n",
       "</div>"
      ]
     },
     "execution_count": 60,
     "metadata": {},
     "output_type": "execute_result"
    }
   ],
   "execution_count": 60
  },
  {
   "metadata": {
    "ExecuteTime": {
     "end_time": "2025-03-13T09:56:42.291730Z",
     "start_time": "2025-03-13T09:56:42.275981Z"
    }
   },
   "cell_type": "code",
   "source": [
    "# Data cleaning\n",
    "# Drop rows with missing values\n",
    "\n",
    "df_cleaned = df.dropna()\n",
    "\n",
    "print(\"\\nCleaned DataFrame:\")\n",
    "df_cleaned"
   ],
   "id": "673da0af18d50caf",
   "outputs": [
    {
     "name": "stdout",
     "output_type": "stream",
     "text": [
      "\n",
      "Cleaned DataFrame:\n"
     ]
    },
    {
     "data": {
      "text/plain": [
       "   School ID     Name         Address         City  Subject  Marks  Rank Grade\n",
       "0      101.0    Alice     123 Main St  Los Angeles     Math   85.0     2     B\n",
       "1      102.0      Bob     456 Oak Ave     New York  English   92.0     1     A\n",
       "2      103.0  Charlie     789 Pine Ln      Houston  Science   78.0     4     C\n",
       "6      107.0    Grace  444 Cedar Blvd      Houston  Science   80.0     5     C\n",
       "7      108.0    Henry    555 Birch Dr     New York  English   88.0     3     B"
      ],
      "text/html": [
       "<div>\n",
       "<style scoped>\n",
       "    .dataframe tbody tr th:only-of-type {\n",
       "        vertical-align: middle;\n",
       "    }\n",
       "\n",
       "    .dataframe tbody tr th {\n",
       "        vertical-align: top;\n",
       "    }\n",
       "\n",
       "    .dataframe thead th {\n",
       "        text-align: right;\n",
       "    }\n",
       "</style>\n",
       "<table border=\"1\" class=\"dataframe\">\n",
       "  <thead>\n",
       "    <tr style=\"text-align: right;\">\n",
       "      <th></th>\n",
       "      <th>School ID</th>\n",
       "      <th>Name</th>\n",
       "      <th>Address</th>\n",
       "      <th>City</th>\n",
       "      <th>Subject</th>\n",
       "      <th>Marks</th>\n",
       "      <th>Rank</th>\n",
       "      <th>Grade</th>\n",
       "    </tr>\n",
       "  </thead>\n",
       "  <tbody>\n",
       "    <tr>\n",
       "      <th>0</th>\n",
       "      <td>101.0</td>\n",
       "      <td>Alice</td>\n",
       "      <td>123 Main St</td>\n",
       "      <td>Los Angeles</td>\n",
       "      <td>Math</td>\n",
       "      <td>85.0</td>\n",
       "      <td>2</td>\n",
       "      <td>B</td>\n",
       "    </tr>\n",
       "    <tr>\n",
       "      <th>1</th>\n",
       "      <td>102.0</td>\n",
       "      <td>Bob</td>\n",
       "      <td>456 Oak Ave</td>\n",
       "      <td>New York</td>\n",
       "      <td>English</td>\n",
       "      <td>92.0</td>\n",
       "      <td>1</td>\n",
       "      <td>A</td>\n",
       "    </tr>\n",
       "    <tr>\n",
       "      <th>2</th>\n",
       "      <td>103.0</td>\n",
       "      <td>Charlie</td>\n",
       "      <td>789 Pine Ln</td>\n",
       "      <td>Houston</td>\n",
       "      <td>Science</td>\n",
       "      <td>78.0</td>\n",
       "      <td>4</td>\n",
       "      <td>C</td>\n",
       "    </tr>\n",
       "    <tr>\n",
       "      <th>6</th>\n",
       "      <td>107.0</td>\n",
       "      <td>Grace</td>\n",
       "      <td>444 Cedar Blvd</td>\n",
       "      <td>Houston</td>\n",
       "      <td>Science</td>\n",
       "      <td>80.0</td>\n",
       "      <td>5</td>\n",
       "      <td>C</td>\n",
       "    </tr>\n",
       "    <tr>\n",
       "      <th>7</th>\n",
       "      <td>108.0</td>\n",
       "      <td>Henry</td>\n",
       "      <td>555 Birch Dr</td>\n",
       "      <td>New York</td>\n",
       "      <td>English</td>\n",
       "      <td>88.0</td>\n",
       "      <td>3</td>\n",
       "      <td>B</td>\n",
       "    </tr>\n",
       "  </tbody>\n",
       "</table>\n",
       "</div>"
      ]
     },
     "execution_count": 61,
     "metadata": {},
     "output_type": "execute_result"
    }
   ],
   "execution_count": 61
  },
  {
   "metadata": {
    "ExecuteTime": {
     "end_time": "2025-03-13T09:56:42.370691Z",
     "start_time": "2025-03-13T09:56:42.355025Z"
    }
   },
   "cell_type": "code",
   "source": [
    "# mean, median, mode imputation\n",
    "\n",
    "# First on the Marks column\n",
    "\n",
    "mean_imputation = df['Marks'].fillna(df['Marks'].mean())\n",
    "median_imputation = df['Marks'].fillna(df['Marks'].median())\n",
    "mode_imputation = df['Marks'].fillna(df['Marks'].mode())\n",
    "\n",
    "print(\"\\nMean Imputation:\")\n",
    "# mean_imputation = round_floats(mean_imputation)\n",
    "mean_imputation"
   ],
   "id": "dfe6df02e7ffceb8",
   "outputs": [
    {
     "name": "stdout",
     "output_type": "stream",
     "text": [
      "\n",
      "Mean Imputation:\n"
     ]
    },
    {
     "data": {
      "text/plain": [
       "0    85.000000\n",
       "1    92.000000\n",
       "2    78.000000\n",
       "3    89.000000\n",
       "4    86.714286\n",
       "5    95.000000\n",
       "6    80.000000\n",
       "7    88.000000\n",
       "Name: Marks, dtype: float64"
      ]
     },
     "execution_count": 62,
     "metadata": {},
     "output_type": "execute_result"
    }
   ],
   "execution_count": 62
  },
  {
   "metadata": {
    "ExecuteTime": {
     "end_time": "2025-03-13T09:56:42.450421Z",
     "start_time": "2025-03-13T09:56:42.434610Z"
    }
   },
   "cell_type": "code",
   "source": [
    "print(\"\\nMedian Imputation:\")\n",
    "median_imputation"
   ],
   "id": "c75b7bc7181d8c0d",
   "outputs": [
    {
     "name": "stdout",
     "output_type": "stream",
     "text": [
      "\n",
      "Median Imputation:\n"
     ]
    },
    {
     "data": {
      "text/plain": [
       "0    85.0\n",
       "1    92.0\n",
       "2    78.0\n",
       "3    89.0\n",
       "4    88.0\n",
       "5    95.0\n",
       "6    80.0\n",
       "7    88.0\n",
       "Name: Marks, dtype: float64"
      ]
     },
     "execution_count": 63,
     "metadata": {},
     "output_type": "execute_result"
    }
   ],
   "execution_count": 63
  },
  {
   "metadata": {
    "ExecuteTime": {
     "end_time": "2025-03-13T09:56:42.529899Z",
     "start_time": "2025-03-13T09:56:42.514266Z"
    }
   },
   "cell_type": "code",
   "source": [
    "print(\"\\nMode Imputation:\")\n",
    "mode_imputation"
   ],
   "id": "33e96fbaa975de98",
   "outputs": [
    {
     "name": "stdout",
     "output_type": "stream",
     "text": [
      "\n",
      "Mode Imputation:\n"
     ]
    },
    {
     "data": {
      "text/plain": [
       "0    85.0\n",
       "1    92.0\n",
       "2    78.0\n",
       "3    89.0\n",
       "4    89.0\n",
       "5    95.0\n",
       "6    80.0\n",
       "7    88.0\n",
       "Name: Marks, dtype: float64"
      ]
     },
     "execution_count": 64,
     "metadata": {},
     "output_type": "execute_result"
    }
   ],
   "execution_count": 64
  },
  {
   "metadata": {
    "ExecuteTime": {
     "end_time": "2025-03-13T09:56:42.602686Z",
     "start_time": "2025-03-13T09:56:42.594742Z"
    }
   },
   "cell_type": "code",
   "source": [
    "# forward fill and backward fill\n",
    "\n",
    "forward_fill = df['Marks'].fillna(method='ffill')\n",
    "backward_fill = df['Marks'].fillna(method='ffill')"
   ],
   "id": "f2e6298c6e387ab3",
   "outputs": [],
   "execution_count": 65
  },
  {
   "metadata": {
    "ExecuteTime": {
     "end_time": "2025-03-13T09:56:42.666259Z",
     "start_time": "2025-03-13T09:56:42.650132Z"
    }
   },
   "cell_type": "code",
   "source": "forward_fill",
   "id": "efd132020f1eb7be",
   "outputs": [
    {
     "data": {
      "text/plain": [
       "0    85.0\n",
       "1    92.0\n",
       "2    78.0\n",
       "3    89.0\n",
       "4    89.0\n",
       "5    95.0\n",
       "6    80.0\n",
       "7    88.0\n",
       "Name: Marks, dtype: float64"
      ]
     },
     "execution_count": 66,
     "metadata": {},
     "output_type": "execute_result"
    }
   ],
   "execution_count": 66
  },
  {
   "metadata": {
    "ExecuteTime": {
     "end_time": "2025-03-13T09:56:42.701944Z",
     "start_time": "2025-03-13T09:56:42.694724Z"
    }
   },
   "cell_type": "code",
   "source": "backward_fill",
   "id": "84f34ddc9367ef41",
   "outputs": [
    {
     "data": {
      "text/plain": [
       "0    85.0\n",
       "1    92.0\n",
       "2    78.0\n",
       "3    89.0\n",
       "4    89.0\n",
       "5    95.0\n",
       "6    80.0\n",
       "7    88.0\n",
       "Name: Marks, dtype: float64"
      ]
     },
     "execution_count": 67,
     "metadata": {},
     "output_type": "execute_result"
    }
   ],
   "execution_count": 67
  },
  {
   "metadata": {
    "ExecuteTime": {
     "end_time": "2025-03-13T09:56:42.773462Z",
     "start_time": "2025-03-13T09:56:42.757783Z"
    }
   },
   "cell_type": "code",
   "source": [
    "# Interpolation\n",
    "\n",
    "# Interpolation is a method of estimating unknown values that fall within the range of known values.\n",
    "# It is often used for time series data or when the data points are evenly spaced.\n",
    "# In this case, we will use linear interpolation to fill in the missing values in the Marks column.\n",
    "\n",
    "# Linear interpolation\n",
    "linear_interpolation = df['Marks'].interpolate(method='linear')\n",
    "\n",
    "# Quadratic interpolation\n",
    "quadratic_interpolation = df['Marks'].interpolate(method='quadratic')\n",
    "\n",
    "# Polynomial interpolation\n",
    "polynomial_interpolation = df['Marks'].interpolate(method='polynomial', order=2)"
   ],
   "id": "68b8d7fee60a026d",
   "outputs": [],
   "execution_count": 68
  },
  {
   "metadata": {
    "ExecuteTime": {
     "end_time": "2025-03-13T09:56:42.821607Z",
     "start_time": "2025-03-13T09:56:42.805479Z"
    }
   },
   "cell_type": "code",
   "source": "linear_interpolation",
   "id": "b2e2de144433b588",
   "outputs": [
    {
     "data": {
      "text/plain": [
       "0    85.0\n",
       "1    92.0\n",
       "2    78.0\n",
       "3    89.0\n",
       "4    92.0\n",
       "5    95.0\n",
       "6    80.0\n",
       "7    88.0\n",
       "Name: Marks, dtype: float64"
      ]
     },
     "execution_count": 69,
     "metadata": {},
     "output_type": "execute_result"
    }
   ],
   "execution_count": 69
  },
  {
   "metadata": {
    "ExecuteTime": {
     "end_time": "2025-03-13T09:56:42.886934Z",
     "start_time": "2025-03-13T09:56:42.871260Z"
    }
   },
   "cell_type": "code",
   "source": "quadratic_interpolation",
   "id": "7322e186fbac5088",
   "outputs": [
    {
     "data": {
      "text/plain": [
       "0    85.00000\n",
       "1    92.00000\n",
       "2    78.00000\n",
       "3    89.00000\n",
       "4    98.28024\n",
       "5    95.00000\n",
       "6    80.00000\n",
       "7    88.00000\n",
       "Name: Marks, dtype: float64"
      ]
     },
     "execution_count": 70,
     "metadata": {},
     "output_type": "execute_result"
    }
   ],
   "execution_count": 70
  },
  {
   "metadata": {
    "ExecuteTime": {
     "end_time": "2025-03-13T09:56:42.958831Z",
     "start_time": "2025-03-13T09:56:42.943141Z"
    }
   },
   "cell_type": "code",
   "source": [
    "# Outlier detection and removal\n",
    "\n",
    "import sklearn\n",
    "from sklearn.datasets import load_diabetes\n",
    "\n",
    "diabetes = load_diabetes()\n",
    "\n",
    "diabetes_df = pd.DataFrame(data=diabetes.data, columns=diabetes.feature_names)\n",
    "#diabetes_df['target'] = diabetes.target\n",
    "#diabetes_df['target'] = diabetes_df['target'].astype(float)\n",
    "\n",
    "diabetes_df.head()"
   ],
   "id": "dd3160405386d63f",
   "outputs": [
    {
     "data": {
      "text/plain": [
       "        age       sex       bmi        bp        s1        s2        s3  \\\n",
       "0  0.038076  0.050680  0.061696  0.021872 -0.044223 -0.034821 -0.043401   \n",
       "1 -0.001882 -0.044642 -0.051474 -0.026328 -0.008449 -0.019163  0.074412   \n",
       "2  0.085299  0.050680  0.044451 -0.005670 -0.045599 -0.034194 -0.032356   \n",
       "3 -0.089063 -0.044642 -0.011595 -0.036656  0.012191  0.024991 -0.036038   \n",
       "4  0.005383 -0.044642 -0.036385  0.021872  0.003935  0.015596  0.008142   \n",
       "\n",
       "         s4        s5        s6  \n",
       "0 -0.002592  0.019907 -0.017646  \n",
       "1 -0.039493 -0.068332 -0.092204  \n",
       "2 -0.002592  0.002861 -0.025930  \n",
       "3  0.034309  0.022688 -0.009362  \n",
       "4 -0.002592 -0.031988 -0.046641  "
      ],
      "text/html": [
       "<div>\n",
       "<style scoped>\n",
       "    .dataframe tbody tr th:only-of-type {\n",
       "        vertical-align: middle;\n",
       "    }\n",
       "\n",
       "    .dataframe tbody tr th {\n",
       "        vertical-align: top;\n",
       "    }\n",
       "\n",
       "    .dataframe thead th {\n",
       "        text-align: right;\n",
       "    }\n",
       "</style>\n",
       "<table border=\"1\" class=\"dataframe\">\n",
       "  <thead>\n",
       "    <tr style=\"text-align: right;\">\n",
       "      <th></th>\n",
       "      <th>age</th>\n",
       "      <th>sex</th>\n",
       "      <th>bmi</th>\n",
       "      <th>bp</th>\n",
       "      <th>s1</th>\n",
       "      <th>s2</th>\n",
       "      <th>s3</th>\n",
       "      <th>s4</th>\n",
       "      <th>s5</th>\n",
       "      <th>s6</th>\n",
       "    </tr>\n",
       "  </thead>\n",
       "  <tbody>\n",
       "    <tr>\n",
       "      <th>0</th>\n",
       "      <td>0.038076</td>\n",
       "      <td>0.050680</td>\n",
       "      <td>0.061696</td>\n",
       "      <td>0.021872</td>\n",
       "      <td>-0.044223</td>\n",
       "      <td>-0.034821</td>\n",
       "      <td>-0.043401</td>\n",
       "      <td>-0.002592</td>\n",
       "      <td>0.019907</td>\n",
       "      <td>-0.017646</td>\n",
       "    </tr>\n",
       "    <tr>\n",
       "      <th>1</th>\n",
       "      <td>-0.001882</td>\n",
       "      <td>-0.044642</td>\n",
       "      <td>-0.051474</td>\n",
       "      <td>-0.026328</td>\n",
       "      <td>-0.008449</td>\n",
       "      <td>-0.019163</td>\n",
       "      <td>0.074412</td>\n",
       "      <td>-0.039493</td>\n",
       "      <td>-0.068332</td>\n",
       "      <td>-0.092204</td>\n",
       "    </tr>\n",
       "    <tr>\n",
       "      <th>2</th>\n",
       "      <td>0.085299</td>\n",
       "      <td>0.050680</td>\n",
       "      <td>0.044451</td>\n",
       "      <td>-0.005670</td>\n",
       "      <td>-0.045599</td>\n",
       "      <td>-0.034194</td>\n",
       "      <td>-0.032356</td>\n",
       "      <td>-0.002592</td>\n",
       "      <td>0.002861</td>\n",
       "      <td>-0.025930</td>\n",
       "    </tr>\n",
       "    <tr>\n",
       "      <th>3</th>\n",
       "      <td>-0.089063</td>\n",
       "      <td>-0.044642</td>\n",
       "      <td>-0.011595</td>\n",
       "      <td>-0.036656</td>\n",
       "      <td>0.012191</td>\n",
       "      <td>0.024991</td>\n",
       "      <td>-0.036038</td>\n",
       "      <td>0.034309</td>\n",
       "      <td>0.022688</td>\n",
       "      <td>-0.009362</td>\n",
       "    </tr>\n",
       "    <tr>\n",
       "      <th>4</th>\n",
       "      <td>0.005383</td>\n",
       "      <td>-0.044642</td>\n",
       "      <td>-0.036385</td>\n",
       "      <td>0.021872</td>\n",
       "      <td>0.003935</td>\n",
       "      <td>0.015596</td>\n",
       "      <td>0.008142</td>\n",
       "      <td>-0.002592</td>\n",
       "      <td>-0.031988</td>\n",
       "      <td>-0.046641</td>\n",
       "    </tr>\n",
       "  </tbody>\n",
       "</table>\n",
       "</div>"
      ]
     },
     "execution_count": 71,
     "metadata": {},
     "output_type": "execute_result"
    }
   ],
   "execution_count": 71
  },
  {
   "metadata": {
    "ExecuteTime": {
     "end_time": "2025-03-13T09:56:43.069468Z",
     "start_time": "2025-03-13T09:56:43.022050Z"
    }
   },
   "cell_type": "code",
   "source": [
    "# Boxplot\n",
    "\n",
    "sns.boxplot(diabetes_df['bmi'])"
   ],
   "id": "479779bcce45fba8",
   "outputs": [
    {
     "data": {
      "text/plain": [
       "<Axes: ylabel='bmi'>"
      ]
     },
     "execution_count": 72,
     "metadata": {},
     "output_type": "execute_result"
    },
    {
     "data": {
      "text/plain": [
       "<Figure size 640x480 with 1 Axes>"
      ],
      "image/png": "[encoded data removed]"
     },
     "metadata": {},
     "output_type": "display_data"
    }
   ],
   "execution_count": 72
  },
  {
   "metadata": {
    "ExecuteTime": {
     "end_time": "2025-03-13T09:56:43.148739Z",
     "start_time": "2025-03-13T09:56:43.122452Z"
    }
   },
   "cell_type": "code",
   "source": [
    "def removal_outliers(dataframe: pd.DataFrame, column: str, threshold: float) -> pd.DataFrame:\n",
    "    \"\"\"\n",
    "    Remove outliers from a DataFrame based on the Z-score method.\n",
    "    \n",
    "    :param df: Input pandas DataFrame\n",
    "    :param column: Column name to check for outliers\n",
    "    :param threshold: Z-score threshold for identifying outliers\n",
    "    :return: DataFrame with outliers removed\n",
    "    \"\"\"\n",
    "    z_scores = (dataframe[column] - dataframe[column].mean()) / dataframe[column].std()\n",
    "    return dataframe[(z_scores < threshold) & (z_scores > -threshold)]"
   ],
   "id": "6af2a2589eea4c7e",
   "outputs": [],
   "execution_count": 73
  },
  {
   "metadata": {
    "ExecuteTime": {
     "end_time": "2025-03-13T09:56:43.208996Z",
     "start_time": "2025-03-13T09:56:43.201476Z"
    }
   },
   "cell_type": "code",
   "source": [
    "def removal_box_plot(dataframe: pd.DataFrame, column: str, threshold: float) -> pd.DataFrame:\n",
    "    sns.boxplot(data=dataframe[column])\n",
    "    \n",
    "    plt.title(f\"Original Box plot of column {column}\")\n",
    "    plt.show()\n",
    "    \n",
    "    removed_outliers = dataframe[dataframe[column] <= threshold]\n",
    "    sns.boxplot(data=removed_outliers[column])\n",
    "    plt.title(f\"Box plot of column {column} after outlier removal\")\n",
    "    plt.show()\n",
    "    \n",
    "    return removed_outliers"
   ],
   "id": "30dfa3a65f3dce59",
   "outputs": [],
   "execution_count": 74
  },
  {
   "metadata": {
    "ExecuteTime": {
     "end_time": "2025-03-13T09:56:43.344868Z",
     "start_time": "2025-03-13T09:56:43.208996Z"
    }
   },
   "cell_type": "code",
   "source": [
    "threshold_value = 0.12\n",
    "no_outliers = removal_box_plot(diabetes_df, 'bmi', threshold_value)"
   ],
   "id": "bad57ad2f25c931c",
   "outputs": [
    {
     "data": {
      "text/plain": [
       "<Figure size 640x480 with 1 Axes>"
      ],
      "image/png": "[encoded data removed]"
     },
     "metadata": {},
     "output_type": "display_data"
    },
    {
     "data": {
      "text/plain": [
       "<Figure size 640x480 with 1 Axes>"
      ],
      "image/png": "[encoded data removed]"
     },
     "metadata": {},
     "output_type": "display_data"
    }
   ],
   "execution_count": 75
  },
  {
   "metadata": {
    "ExecuteTime": {
     "end_time": "2025-03-13T10:02:45.176731Z",
     "start_time": "2025-03-13T10:02:45.112047Z"
    }
   },
   "cell_type": "code",
   "source": [
    "# Scatter plot\n",
    "fig, ax = plt.subplots(figsize=(6, 4))\n",
    "\n",
    "ax.scatter(diabetes_df['bmi'], diabetes_df['bp'])\n",
    "ax.set_xlabel('BMI')\n",
    "ax.set_ylabel('Blood Pressure')\n",
    "\n",
    "ax.set_title('Scatter plot of BMI vs Blood Pressure')\n",
    "\n",
    "plt.show()"
   ],
   "id": "7a5eb7dfcf7cf63",
   "outputs": [
    {
     "data": {
      "text/plain": [
       "<Figure size 600x400 with 1 Axes>"
      ],
      "image/png": "[encoded data removed]"
     },
     "metadata": {},
     "output_type": "display_data"
    }
   ],
   "execution_count": 76
  },
  {
   "metadata": {
    "ExecuteTime": {
     "end_time": "2025-03-13T10:08:06.805722Z",
     "start_time": "2025-03-13T10:08:06.741842Z"
    }
   },
   "cell_type": "code",
   "source": [
    "outlier_indices = np.where((diabetes_df['bmi'] > 0.12) & (diabetes_df['bp'] < 0.8))\n",
    "\n",
    "no_outliers = diabetes_df.drop(outlier_indices[0])\n",
    "\n",
    "fig, ax_no_outliers = plt.subplots(figsize=(6, 4))\n",
    "ax_no_outliers.scatter(no_outliers['bmi'], no_outliers['bp'])\n",
    "ax_no_outliers.set_xlabel('BMI')\n",
    "ax_no_outliers.set_ylabel('Blood Pressure')\n",
    "\n",
    "ax_no_outliers.set_title('Scatter plot of BMI vs Blood Pressure')\n",
    "\n",
    "plt.show()"
   ],
   "id": "525da0756fa8bb2a",
   "outputs": [
    {
     "data": {
      "text/plain": [
       "<Figure size 600x400 with 1 Axes>"
      ],
      "image/png": "[encoded data removed]"
     },
     "metadata": {},
     "output_type": "display_data"
    }
   ],
   "execution_count": 78
  },
  {
   "metadata": {
    "ExecuteTime": {
     "end_time": "2025-03-13T10:09:38.386897Z",
     "start_time": "2025-03-13T10:09:38.370986Z"
    }
   },
   "cell_type": "code",
   "source": [
    "from scipy import stats\n",
    "\n",
    "# Z-score method\n",
    "z_scores = np.abs(stats.zscore(diabetes_df['age']))\n",
    "z_scores"
   ],
   "id": "2b3a19c1461d40dd",
   "outputs": [
    {
     "data": {
      "text/plain": [
       "array([0.80050009, 0.03956713, 1.79330681, 1.87244107, 0.11317236,\n",
       "       1.94881082, 0.9560041 , 1.33508832, 0.87686984, 1.49059233,\n",
       "       2.02518057, 0.57139085, 0.34228161, 0.11317236, 0.95323959,\n",
       "       1.1087436 , 0.11593688, 1.48782782, 0.80326461, 0.57415536,\n",
       "       1.03237385, 1.79607132, 1.79607132, 0.95323959, 1.33785284,\n",
       "       1.41422259, 2.25428981, 0.49778562, 1.10597908, 1.41145807,\n",
       "       1.26148309, 0.49778562, 0.72413034, 0.6477606 , 0.34228161,\n",
       "       1.02960933, 0.26591186, 0.19230663, 0.03956713, 0.03956713,\n",
       "       0.11317236, 2.10155031, 1.26148309, 0.41865135, 0.95323959,\n",
       "       0.57139085, 1.18511334, 1.64333183, 1.41145807, 0.87963435,\n",
       "       0.72413034, 1.25871858, 1.1087436 , 0.19230663, 1.03237385,\n",
       "       0.87963435, 0.87963435, 0.57415536, 0.87686984, 1.33508832,\n",
       "       1.49059233, 0.87963435, 0.57415536, 0.72689486, 1.41145807,\n",
       "       0.9560041 , 0.19230663, 0.87686984, 0.80050009, 0.34228161,\n",
       "       0.03956713, 0.03956713, 1.33508832, 0.26591186, 0.26591186,\n",
       "       0.19230663, 0.65052511, 2.02518057, 0.11317236, 2.17792006,\n",
       "       1.48782782, 0.26591186, 0.34504612, 0.80326461, 0.03680262,\n",
       "       0.95323959, 1.49059233, 0.95323959, 1.1087436 , 0.9560041 ,\n",
       "       0.26591186, 0.95323959, 0.42141587, 1.03237385, 1.64333183,\n",
       "       1.49059233, 1.18234883, 0.57415536, 0.03680262, 0.03956713,\n",
       "       0.34228161, 0.34228161, 1.94881082, 1.25871858, 0.57415536,\n",
       "       0.4950211 , 2.02518057, 0.57139085, 0.41865135, 0.80050009,\n",
       "       0.87686984, 0.41865135, 1.79607132, 0.41865135, 0.4950211 ,\n",
       "       0.65052511, 1.02960933, 1.25871858, 1.18511334, 0.34228161,\n",
       "       1.03237385, 1.33508832, 1.02960933, 0.11317236, 0.11593688,\n",
       "       0.11593688, 1.87244107, 0.72413034, 1.1087436 , 0.18954211,\n",
       "       1.33785284, 2.02518057, 0.34228161, 0.87963435, 1.56696208,\n",
       "       0.11593688, 1.94881082, 0.11317236, 0.72413034, 0.4950211 ,\n",
       "       0.87686984, 0.57415536, 0.87686984, 0.65052511, 0.6477606 ,\n",
       "       0.87963435, 0.65052511, 1.18511334, 1.26148309, 1.03237385,\n",
       "       0.4950211 , 0.03680262, 0.72689486, 0.87686984, 1.41145807,\n",
       "       0.57415536, 0.34504612, 0.03956713, 0.26867637, 0.11593688,\n",
       "       0.19230663, 0.9560041 , 1.1087436 , 0.34228161, 0.95323959,\n",
       "       0.87963435, 1.18511334, 1.48782782, 0.03680262, 0.03956713,\n",
       "       0.4950211 , 0.42141587, 0.87686984, 1.33785284, 0.34228161,\n",
       "       1.41145807, 0.95323959, 1.02960933, 0.87686984, 0.49778562,\n",
       "       0.80326461, 1.02960933, 0.95323959, 0.95323959, 0.34228161,\n",
       "       1.56696208, 1.71970158, 1.41422259, 0.11317236, 0.03956713,\n",
       "       0.18954211, 0.11593688, 1.18234883, 0.18954211, 1.41422259,\n",
       "       0.57139085, 0.49778562, 1.02960933, 1.1087436 , 0.87686984,\n",
       "       1.18234883, 0.72689486, 1.71693706, 0.03956713, 2.32789504,\n",
       "       0.65052511, 0.03680262, 0.18954211, 0.6477606 , 0.80050009,\n",
       "       0.18954211, 1.9460463 , 1.41145807, 0.03680262, 0.6477606 ,\n",
       "       0.57139085, 0.26591186, 1.56419757, 0.87963435, 1.87244107,\n",
       "       0.4950211 , 0.9560041 , 0.49778562, 2.10155031, 0.57415536,\n",
       "       0.6477606 , 2.17792006, 1.41145807, 1.1087436 , 0.57415536,\n",
       "       0.80326461, 0.18954211, 0.26591186, 1.41145807, 0.95323959,\n",
       "       1.41145807, 0.57139085, 1.18234883, 0.72413034, 0.4950211 ,\n",
       "       1.02960933, 0.6477606 , 2.17792006, 0.34228161, 1.26148309,\n",
       "       0.57415536, 0.87686984, 1.71970158, 0.87963435, 0.26867637,\n",
       "       1.41145807, 1.1087436 , 0.11317236, 1.71693706, 0.6477606 ,\n",
       "       0.03680262, 1.03237385, 0.57415536, 1.64056731, 0.26591186,\n",
       "       0.87686984, 1.02960933, 0.34504612, 1.56696208, 0.72413034,\n",
       "       0.72689486, 1.1087436 , 1.25871858, 1.33508832, 0.18954211,\n",
       "       0.11317236, 0.80050009, 0.26591186, 1.56419757, 0.34228161,\n",
       "       0.11593688, 0.26591186, 0.72689486, 1.41145807, 0.80050009,\n",
       "       0.18954211, 1.94881082, 1.48782782, 0.34504612, 0.87686984,\n",
       "       0.26591186, 0.80326461, 0.95323959, 1.48782782, 1.56696208,\n",
       "       1.25871858, 1.56419757, 0.18954211, 1.49059233, 0.4950211 ,\n",
       "       1.1087436 , 1.41145807, 0.03680262, 0.4950211 , 0.80050009,\n",
       "       0.34228161, 0.03956713, 0.26591186, 1.56419757, 0.87686984,\n",
       "       0.19230663, 0.18954211, 1.41145807, 0.03680262, 0.19230663,\n",
       "       0.11593688, 2.02241605, 1.56696208, 1.25871858, 0.49778562,\n",
       "       0.18954211, 0.34228161, 0.41865135, 1.86967656, 0.41865135,\n",
       "       0.49778562, 2.02241605, 0.4950211 , 1.48782782, 0.6477606 ,\n",
       "       0.03956713, 0.95323959, 1.56419757, 0.80326461, 0.26867637,\n",
       "       0.18954211, 1.71693706, 0.6477606 , 0.57139085, 1.26148309,\n",
       "       0.11317236, 0.42141587, 0.41865135, 1.33785284, 0.57139085,\n",
       "       0.34504612, 0.6477606 , 1.18234883, 0.42141587, 2.25428981,\n",
       "       1.71693706, 0.11317236, 0.80050009, 0.6477606 , 0.03680262,\n",
       "       0.57415536, 1.79607132, 0.26591186, 1.1087436 , 0.49778562,\n",
       "       1.56696208, 0.11593688, 1.26148309, 0.42141587, 0.80050009,\n",
       "       0.34228161, 0.87686984, 0.41865135, 1.03237385, 0.03680262,\n",
       "       0.72413034, 0.9560041 , 0.19230663, 0.34504612, 0.19230663,\n",
       "       0.41865135, 1.10597908, 0.57415536, 1.56696208, 2.25428981,\n",
       "       0.95323959, 0.03956713, 0.41865135, 0.34228161, 0.03956713,\n",
       "       0.34228161, 1.49059233, 1.02960933, 0.11317236, 0.72413034,\n",
       "       0.4950211 , 0.41865135, 0.9560041 , 1.10597908, 0.11593688,\n",
       "       0.18954211, 0.49778562, 0.87963435, 1.56696208, 0.72413034,\n",
       "       1.26148309, 1.79607132, 1.10597908, 0.26591186, 1.25871858,\n",
       "       0.49778562, 0.34228161, 2.32789504, 0.42141587, 0.34504612,\n",
       "       1.02960933, 1.18511334, 0.57139085, 1.33508832, 1.1087436 ,\n",
       "       0.19230663, 0.11317236, 1.56419757, 1.1087436 , 1.71693706,\n",
       "       0.11593688, 0.57415536, 1.1087436 , 0.18954211, 0.42141587,\n",
       "       0.4950211 , 0.80050009, 1.64333183, 0.18954211, 0.03680262,\n",
       "       1.64333183, 0.6477606 , 0.72689486, 1.02960933, 0.87963435,\n",
       "       0.19230663, 1.48782782, 0.18954211, 0.57415536, 0.34228161,\n",
       "       0.26867637, 1.18511334, 0.87686984, 0.11593688, 0.87686984,\n",
       "       0.9560041 , 0.9560041 ])"
      ]
     },
     "execution_count": 79,
     "metadata": {},
     "output_type": "execute_result"
    }
   ],
   "execution_count": 79
  },
  {
   "metadata": {
    "ExecuteTime": {
     "end_time": "2025-03-13T10:14:14.897486Z",
     "start_time": "2025-03-13T10:14:14.881821Z"
    }
   },
   "cell_type": "code",
   "source": [
    "z_threshold = 2\n",
    "\n",
    "outlier_indices_z = np.where(z_scores > z_threshold)[0]\n",
    "no_outliers_z = diabetes_df.drop(outlier_indices_z)\n",
    "\n",
    "print(f\"Original dataframe shape: {diabetes_df.shape} \\n\\nvs \\n\\nNo outliers shape: {no_outliers_z.shape}\")"
   ],
   "id": "130b0e919db9a86",
   "outputs": [
    {
     "name": "stdout",
     "output_type": "stream",
     "text": [
      "Original dataframe shape: (442, 10) \n",
      "\n",
      "vs \n",
      "\n",
      "No outliers shape: (426, 10)\n"
     ]
    }
   ],
   "execution_count": 83
  },
  {
   "metadata": {
    "ExecuteTime": {
     "end_time": "2025-03-13T10:20:16.363898Z",
     "start_time": "2025-03-13T10:20:16.347815Z"
    }
   },
   "cell_type": "code",
   "source": [
    "# IQR\n",
    "\n",
    "# Upper Bound: Q3 + 1.5 * IQR\n",
    "# Lower Bound: Q1 - 1.5 * IQR\n",
    "\n",
    "Q1 = diabetes_df['age'].quantile(0.25)\n",
    "Q3 = diabetes_df['age'].quantile(0.75)\n",
    "\n",
    "IQR = Q3 - Q1\n",
    "\n",
    "upper_bound = Q3 + 1.5 * IQR\n",
    "lower_bound = Q1 - 1.5 * IQR\n",
    "\n",
    "# Create arrays of boolean values indicating whether each value is an outlier\n",
    "upper_array = np.where(diabetes_df['bmi'] >= upper_bound)[0]\n",
    "lower_array = np.where(diabetes_df['bmi'] <= lower_bound)[0]\n",
    "\n",
    "# remove the outliers\n",
    "diabetes_df.drop(index=upper_array, inplace=True)\n",
    "diabetes_df.drop(index=lower_array, inplace=True)\n",
    "\n",
    "# Print the shape of the DataFrame after removing outliers\n",
    "print(f\"Original dataframe shape: {diabetes_df.shape} \\n\\nvs \\n\\nNo outliers shape: {no_outliers_z.shape}\")"
   ],
   "id": "3a5557cd99a18f31",
   "outputs": [
    {
     "name": "stdout",
     "output_type": "stream",
     "text": [
      "Original dataframe shape: (440, 10) \n",
      "\n",
      "vs \n",
      "\n",
      "No outliers shape: (426, 10)\n"
     ]
    }
   ],
   "execution_count": 84
  },
  {
   "metadata": {
    "ExecuteTime": {
     "end_time": "2025-03-13T10:24:37.100027Z",
     "start_time": "2025-03-13T10:24:37.086550Z"
    }
   },
   "cell_type": "code",
   "source": [
    "# Feature engineering\n",
    "# Feature engineering is the process of using domain knowledge to extract features from raw data\n",
    "# that make machine learning algorithms work. It is a crucial step in the data preprocessing pipeline.\n",
    "# It can significantly improve the performance of machine learning models.\n",
    "# Feature engineering can include:\n",
    "# - Creating new features from existing ones\n",
    "# - Transforming features (e.g., scaling, normalization)\n",
    "# - Encoding categorical variables\n",
    "# - Handling missing values\n",
    "# - Removing irrelevant features\n",
    "# - Feature selection\n",
    "# - Feature extraction\n",
    "# - Feature construction\n",
    "# - Feature transformation\n",
    "# - Feature scaling\n",
    "# - Feature normalization\n",
    "# - Feature discretization\n",
    "# - Feature binning"
   ],
   "id": "9f78bc8b4ee77749",
   "outputs": [],
   "execution_count": 85
  },
  {
   "metadata": {
    "ExecuteTime": {
     "end_time": "2025-03-13T10:28:59.014527Z",
     "start_time": "2025-03-13T10:28:58.439137Z"
    }
   },
   "cell_type": "code",
   "source": [
    "# Scaling\n",
    "\n",
    "# Distanced based algorithms (e.g., KNN, SVM, NNS) are sensitive to the scale of the features.\n",
    "\n",
    "new_df = pd.read_csv('https://media.geeksforgeeks.org/wp-content/uploads/20250114174407596134/SampleFile.csv')\n",
    "new_df.head()"
   ],
   "id": "f20a8fb21393b6ac",
   "outputs": [
    {
     "data": {
      "text/plain": [
       "   LotArea  MSSubClass\n",
       "0     8450          60\n",
       "1     9600          20\n",
       "2    11250          60\n",
       "3     9550          70\n",
       "4    14260          60"
      ],
      "text/html": [
       "<div>\n",
       "<style scoped>\n",
       "    .dataframe tbody tr th:only-of-type {\n",
       "        vertical-align: middle;\n",
       "    }\n",
       "\n",
       "    .dataframe tbody tr th {\n",
       "        vertical-align: top;\n",
       "    }\n",
       "\n",
       "    .dataframe thead th {\n",
       "        text-align: right;\n",
       "    }\n",
       "</style>\n",
       "<table border=\"1\" class=\"dataframe\">\n",
       "  <thead>\n",
       "    <tr style=\"text-align: right;\">\n",
       "      <th></th>\n",
       "      <th>LotArea</th>\n",
       "      <th>MSSubClass</th>\n",
       "    </tr>\n",
       "  </thead>\n",
       "  <tbody>\n",
       "    <tr>\n",
       "      <th>0</th>\n",
       "      <td>8450</td>\n",
       "      <td>60</td>\n",
       "    </tr>\n",
       "    <tr>\n",
       "      <th>1</th>\n",
       "      <td>9600</td>\n",
       "      <td>20</td>\n",
       "    </tr>\n",
       "    <tr>\n",
       "      <th>2</th>\n",
       "      <td>11250</td>\n",
       "      <td>60</td>\n",
       "    </tr>\n",
       "    <tr>\n",
       "      <th>3</th>\n",
       "      <td>9550</td>\n",
       "      <td>70</td>\n",
       "    </tr>\n",
       "    <tr>\n",
       "      <th>4</th>\n",
       "      <td>14260</td>\n",
       "      <td>60</td>\n",
       "    </tr>\n",
       "  </tbody>\n",
       "</table>\n",
       "</div>"
      ]
     },
     "execution_count": 86,
     "metadata": {},
     "output_type": "execute_result"
    }
   ],
   "execution_count": 86
  },
  {
   "metadata": {
    "ExecuteTime": {
     "end_time": "2025-03-13T10:29:14.423913Z",
     "start_time": "2025-03-13T10:29:14.407979Z"
    }
   },
   "cell_type": "code",
   "source": "new_df.shape",
   "id": "c90ae473fa93ec25",
   "outputs": [
    {
     "data": {
      "text/plain": [
       "(1460, 2)"
      ]
     },
     "execution_count": 87,
     "metadata": {},
     "output_type": "execute_result"
    }
   ],
   "execution_count": 87
  },
  {
   "metadata": {
    "ExecuteTime": {
     "end_time": "2025-03-13T10:29:39.426530Z",
     "start_time": "2025-03-13T10:29:39.410731Z"
    }
   },
   "cell_type": "code",
   "source": "new_df.describe()",
   "id": "c7ab4511bdf2408a",
   "outputs": [
    {
     "data": {
      "text/plain": [
       "             LotArea   MSSubClass\n",
       "count    1460.000000  1460.000000\n",
       "mean    10516.828082    56.897260\n",
       "std      9981.264932    42.300571\n",
       "min      1300.000000    20.000000\n",
       "25%      7553.500000    20.000000\n",
       "50%      9478.500000    50.000000\n",
       "75%     11601.500000    70.000000\n",
       "max    215245.000000   190.000000"
      ],
      "text/html": [
       "<div>\n",
       "<style scoped>\n",
       "    .dataframe tbody tr th:only-of-type {\n",
       "        vertical-align: middle;\n",
       "    }\n",
       "\n",
       "    .dataframe tbody tr th {\n",
       "        vertical-align: top;\n",
       "    }\n",
       "\n",
       "    .dataframe thead th {\n",
       "        text-align: right;\n",
       "    }\n",
       "</style>\n",
       "<table border=\"1\" class=\"dataframe\">\n",
       "  <thead>\n",
       "    <tr style=\"text-align: right;\">\n",
       "      <th></th>\n",
       "      <th>LotArea</th>\n",
       "      <th>MSSubClass</th>\n",
       "    </tr>\n",
       "  </thead>\n",
       "  <tbody>\n",
       "    <tr>\n",
       "      <th>count</th>\n",
       "      <td>1460.000000</td>\n",
       "      <td>1460.000000</td>\n",
       "    </tr>\n",
       "    <tr>\n",
       "      <th>mean</th>\n",
       "      <td>10516.828082</td>\n",
       "      <td>56.897260</td>\n",
       "    </tr>\n",
       "    <tr>\n",
       "      <th>std</th>\n",
       "      <td>9981.264932</td>\n",
       "      <td>42.300571</td>\n",
       "    </tr>\n",
       "    <tr>\n",
       "      <th>min</th>\n",
       "      <td>1300.000000</td>\n",
       "      <td>20.000000</td>\n",
       "    </tr>\n",
       "    <tr>\n",
       "      <th>25%</th>\n",
       "      <td>7553.500000</td>\n",
       "      <td>20.000000</td>\n",
       "    </tr>\n",
       "    <tr>\n",
       "      <th>50%</th>\n",
       "      <td>9478.500000</td>\n",
       "      <td>50.000000</td>\n",
       "    </tr>\n",
       "    <tr>\n",
       "      <th>75%</th>\n",
       "      <td>11601.500000</td>\n",
       "      <td>70.000000</td>\n",
       "    </tr>\n",
       "    <tr>\n",
       "      <th>max</th>\n",
       "      <td>215245.000000</td>\n",
       "      <td>190.000000</td>\n",
       "    </tr>\n",
       "  </tbody>\n",
       "</table>\n",
       "</div>"
      ]
     },
     "execution_count": 90,
     "metadata": {},
     "output_type": "execute_result"
    }
   ],
   "execution_count": 90
  },
  {
   "metadata": {
    "ExecuteTime": {
     "end_time": "2025-03-13T10:31:32.498942Z",
     "start_time": "2025-03-13T10:31:32.482859Z"
    }
   },
   "cell_type": "code",
   "source": [
    "from sklearn.preprocessing import MinMaxScaler\n",
    "\n",
    "scaler = MinMaxScaler()\n",
    "scale_data = scaler.fit_transform(new_df)\n",
    "scale_df = pd.DataFrame(scale_data, columns=new_df.columns)\n",
    "\n",
    "scale_df.head()"
   ],
   "id": "4e20b9ae77a47477",
   "outputs": [
    {
     "data": {
      "text/plain": [
       "    LotArea  MSSubClass\n",
       "0  0.033420    0.235294\n",
       "1  0.038795    0.000000\n",
       "2  0.046507    0.235294\n",
       "3  0.038561    0.294118\n",
       "4  0.060576    0.235294"
      ],
      "text/html": [
       "<div>\n",
       "<style scoped>\n",
       "    .dataframe tbody tr th:only-of-type {\n",
       "        vertical-align: middle;\n",
       "    }\n",
       "\n",
       "    .dataframe tbody tr th {\n",
       "        vertical-align: top;\n",
       "    }\n",
       "\n",
       "    .dataframe thead th {\n",
       "        text-align: right;\n",
       "    }\n",
       "</style>\n",
       "<table border=\"1\" class=\"dataframe\">\n",
       "  <thead>\n",
       "    <tr style=\"text-align: right;\">\n",
       "      <th></th>\n",
       "      <th>LotArea</th>\n",
       "      <th>MSSubClass</th>\n",
       "    </tr>\n",
       "  </thead>\n",
       "  <tbody>\n",
       "    <tr>\n",
       "      <th>0</th>\n",
       "      <td>0.033420</td>\n",
       "      <td>0.235294</td>\n",
       "    </tr>\n",
       "    <tr>\n",
       "      <th>1</th>\n",
       "      <td>0.038795</td>\n",
       "      <td>0.000000</td>\n",
       "    </tr>\n",
       "    <tr>\n",
       "      <th>2</th>\n",
       "      <td>0.046507</td>\n",
       "      <td>0.235294</td>\n",
       "    </tr>\n",
       "    <tr>\n",
       "      <th>3</th>\n",
       "      <td>0.038561</td>\n",
       "      <td>0.294118</td>\n",
       "    </tr>\n",
       "    <tr>\n",
       "      <th>4</th>\n",
       "      <td>0.060576</td>\n",
       "      <td>0.235294</td>\n",
       "    </tr>\n",
       "  </tbody>\n",
       "</table>\n",
       "</div>"
      ]
     },
     "execution_count": 91,
     "metadata": {},
     "output_type": "execute_result"
    }
   ],
   "execution_count": 91
  },
  {
   "metadata": {},
   "cell_type": "code",
   "outputs": [],
   "execution_count": null,
   "source": "",
   "id": "3e0e429238ed0c66"
  }
 ],
 "metadata": {
  "kernelspec": {
   "display_name": "Python 3",
   "language": "python",
   "name": "python3"
  },
  "language_info": {
   "codemirror_mode": {
    "name": "ipython",
    "version": 2
   },
   "file_extension": ".py",
   "mimetype": "text/x-python",
   "name": "python",
   "nbconvert_exporter": "python",
   "pygments_lexer": "ipython2",
   "version": "2.7.6"
  }
 },
 "nbformat": 4,
 "nbformat_minor": 5
}
