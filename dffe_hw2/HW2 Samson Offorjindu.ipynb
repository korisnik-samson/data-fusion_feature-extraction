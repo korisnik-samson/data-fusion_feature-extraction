{
 "cells": [
  {
   "metadata": {},
   "cell_type": "markdown",
   "source": [
    "# MNIST Data Analysis and Classification\n",
    "\n",
    "### Columns\n",
    "- **Response - Labels**: The digit represented by the image (0-9).\n",
    "- **Feature I - Intensity**: The pixel intensity.\n",
    "- **Feature II - Symmetry**: The pixel symmetry."
   ],
   "id": "22a0c904d93d7f49"
  },
  {
   "cell_type": "code",
   "id": "initial_id",
   "metadata": {
    "collapsed": true,
    "ExecuteTime": {
     "end_time": "2025-05-03T16:55:40.222717Z",
     "start_time": "2025-05-03T16:55:40.016605Z"
    }
   },
   "source": [
    "import numpy as np\n",
    "import pandas as pd\n",
    "import matplotlib.pyplot as plt\n",
    "import math\n",
    "\n",
    "from pandas.conftest import axis_1\n",
    "\n",
    "import linear_models as models\n",
    "import data_util as utils"
   ],
   "outputs": [],
   "execution_count": 1
  },
  {
   "metadata": {
    "ExecuteTime": {
     "end_time": "2025-05-03T18:18:22.070509Z",
     "start_time": "2025-05-03T18:18:21.939655Z"
    }
   },
   "cell_type": "code",
   "source": [
    "# info = pd.read_csv('data/MNIST_info.txt')\n",
    "train_data = np.loadtxt('data/MNIST_train.txt')\n",
    "test_data = np.loadtxt('data/MNIST_test.txt')\n",
    "\n",
    "# Label extraction\n",
    "train_labels = train_data[:, 0].astype(int)\n",
    "test_labels = test_data[:, 0].astype(int)"
   ],
   "id": "1a718dc1179cadfb",
   "outputs": [],
   "execution_count": 37
  },
  {
   "metadata": {
    "ExecuteTime": {
     "end_time": "2025-05-03T18:18:22.822047Z",
     "start_time": "2025-05-03T18:18:22.809862Z"
    }
   },
   "cell_type": "code",
   "source": "train_data",
   "id": "c8c4c15dca646d52",
   "outputs": [
    {
     "data": {
      "text/plain": [
       "array([[ 6.   , -1.   , -1.   , ..., -1.   , -1.   , -1.   ],\n",
       "       [ 5.   , -1.   , -1.   , ..., -0.671, -0.828, -1.   ],\n",
       "       [ 4.   , -1.   , -1.   , ..., -1.   , -1.   , -1.   ],\n",
       "       ...,\n",
       "       [ 3.   , -1.   , -1.   , ..., -1.   , -1.   , -1.   ],\n",
       "       [ 0.   , -1.   , -1.   , ..., -1.   , -1.   , -1.   ],\n",
       "       [ 1.   , -1.   , -1.   , ..., -1.   , -1.   , -1.   ]])"
      ]
     },
     "execution_count": 38,
     "metadata": {},
     "output_type": "execute_result"
    }
   ],
   "execution_count": 38
  },
  {
   "metadata": {
    "ExecuteTime": {
     "end_time": "2025-05-03T18:18:25.573385Z",
     "start_time": "2025-05-03T18:18:25.564798Z"
    }
   },
   "cell_type": "code",
   "source": "print(f'Training data labels: {train_labels}\\nTesting data labels: {test_labels}')",
   "id": "a85c8f7dcc370fcb",
   "outputs": [
    {
     "name": "stdout",
     "output_type": "stream",
     "text": [
      "Training data labels: [6 5 4 ... 3 0 1]\n",
      "Testing data labels: [9 6 3 ... 4 0 1]\n"
     ]
    }
   ],
   "execution_count": 39
  },
  {
   "metadata": {
    "ExecuteTime": {
     "end_time": "2025-05-03T18:18:28.391550Z",
     "start_time": "2025-05-03T18:18:28.385467Z"
    }
   },
   "cell_type": "code",
   "source": [
    "train_pixels = train_data[:, 1:]\n",
    "test_pixels = test_data[:, 1:]"
   ],
   "id": "4f7de29b7f991272",
   "outputs": [],
   "execution_count": 40
  },
  {
   "metadata": {
    "ExecuteTime": {
     "end_time": "2025-05-03T18:18:31.942921Z",
     "start_time": "2025-05-03T18:18:31.939385Z"
    }
   },
   "cell_type": "code",
   "source": "print(f'Training pixels: {train_pixels}\\nTesting pixels: {test_pixels}')",
   "id": "c5c26431a9c1eabd",
   "outputs": [
    {
     "name": "stdout",
     "output_type": "stream",
     "text": [
      "Training pixels: [[-1.    -1.    -1.    ... -1.    -1.    -1.   ]\n",
      " [-1.    -1.    -1.    ... -0.671 -0.828 -1.   ]\n",
      " [-1.    -1.    -1.    ... -1.    -1.    -1.   ]\n",
      " ...\n",
      " [-1.    -1.    -1.    ... -1.    -1.    -1.   ]\n",
      " [-1.    -1.    -1.    ... -1.    -1.    -1.   ]\n",
      " [-1.    -1.    -1.    ... -1.    -1.    -1.   ]]\n",
      "Testing pixels: [[-1. -1. -1. ... -1. -1. -1.]\n",
      " [-1. -1. -1. ... -1. -1. -1.]\n",
      " [-1. -1. -1. ... -1. -1. -1.]\n",
      " ...\n",
      " [-1. -1. -1. ... -1. -1. -1.]\n",
      " [-1. -1. -1. ... -1. -1. -1.]\n",
      " [-1. -1. -1. ... -1. -1. -1.]]\n"
     ]
    }
   ],
   "execution_count": 41
  },
  {
   "metadata": {
    "ExecuteTime": {
     "end_time": "2025-05-03T18:18:32.609674Z",
     "start_time": "2025-05-03T18:18:32.599467Z"
    }
   },
   "cell_type": "code",
   "source": [
    "train_intensities = np.mean(train_pixels, axis=1)\n",
    "test_intensities = np.mean(test_pixels, axis=1)"
   ],
   "id": "57960a5a26e30c38",
   "outputs": [],
   "execution_count": 42
  },
  {
   "metadata": {
    "ExecuteTime": {
     "end_time": "2025-05-03T18:18:33.203478Z",
     "start_time": "2025-05-03T18:18:33.190447Z"
    }
   },
   "cell_type": "code",
   "source": "print(f'Pixel data intensities: {train_intensities}\\n\\nPixel Testing data intensities: {test_intensities}')",
   "id": "fa87f6f245f0c3a7",
   "outputs": [
    {
     "name": "stdout",
     "output_type": "stream",
     "text": [
      "Pixel data intensities: [-0.31781641 -0.11173828 -0.53799609 ... -0.21258984  0.19517969\n",
      " -0.44755859]\n",
      "\n",
      "Pixel Testing data intensities: [-0.45564453 -0.46973437 -0.32814844 ... -0.38228516  0.01994141\n",
      " -0.62204687]\n"
     ]
    }
   ],
   "execution_count": 43
  },
  {
   "metadata": {
    "ExecuteTime": {
     "end_time": "2025-05-03T18:15:34.255132Z",
     "start_time": "2025-05-03T18:15:34.249425Z"
    }
   },
   "cell_type": "code",
   "source": [
    "def calculate_symmetry(pixels):\n",
    "    \"\"\"\n",
    "    Calculate the symmetry of the pixel data.\n",
    "    \"\"\"\n",
    "    # Reshape the pixel data to 16x16\n",
    "    pixels = pixels.reshape(-1, 16, 16)\n",
    "\n",
    "    # Calculate absolute difference between left and right halves (flipped)\n",
    "    left_half = pixels[:, :, :8]\n",
    "    right_half = pixels[:, :, 8:16]\n",
    "    right_half_flipped = np.flip(right_half, axis=2)\n",
    "\n",
    "    # Symmetry calculation with mean absolute error\n",
    "    symmetry = 1 - np.mean(np.abs(left_half - right_half_flipped), axis=(1, 2))\n",
    "    \n",
    "    return symmetry"
   ],
   "id": "c8ce4a6d6245eff8",
   "outputs": [],
   "execution_count": 33
  },
  {
   "metadata": {
    "ExecuteTime": {
     "end_time": "2025-05-03T18:15:35.139917Z",
     "start_time": "2025-05-03T18:15:35.129208Z"
    }
   },
   "cell_type": "code",
   "source": [
    "train_symmetry = calculate_symmetry(train_pixels)\n",
    "test_symmetry = calculate_symmetry(test_pixels)"
   ],
   "id": "9c4429064852d0b7",
   "outputs": [],
   "execution_count": 34
  },
  {
   "metadata": {
    "ExecuteTime": {
     "end_time": "2025-05-03T18:15:52.212065Z",
     "start_time": "2025-05-03T18:15:52.206085Z"
    }
   },
   "cell_type": "code",
   "source": [
    "train_df = pd.DataFrame({\n",
    "    'Label': train_labels,\n",
    "    'Intensity': train_intensities,\n",
    "    'Symmetry': train_symmetry\n",
    "})\n",
    "\n",
    "test_df = pd.DataFrame({\n",
    "    'Label': test_labels,\n",
    "    'Intensity': test_intensities,\n",
    "    'Symmetry': test_symmetry\n",
    "})"
   ],
   "id": "f0dc2307ec87fee",
   "outputs": [],
   "execution_count": 35
  },
  {
   "metadata": {
    "ExecuteTime": {
     "end_time": "2025-05-03T18:15:59.466348Z",
     "start_time": "2025-05-03T18:15:59.454330Z"
    }
   },
   "cell_type": "code",
   "source": "train_df.head(10)",
   "id": "30c09e5c546a900c",
   "outputs": [
    {
     "data": {
      "text/plain": [
       "   Label  Intensity  Symmetry\n",
       "0    6.0  -0.317816  0.620789\n",
       "1    5.0  -0.111738  0.466273\n",
       "2    4.0  -0.537996  0.556992\n",
       "3    7.0  -0.599449  0.702945\n",
       "4    3.0  -0.416129  0.651055\n",
       "5    6.0  -0.574430  0.493344\n",
       "6    3.0  -0.593242  0.508094\n",
       "7    1.0  -0.753914  0.882563\n",
       "8    0.0  -0.420918  0.562133\n",
       "9    1.0  -0.772281  0.837703"
      ],
      "text/html": [
       "<div>\n",
       "<style scoped>\n",
       "    .dataframe tbody tr th:only-of-type {\n",
       "        vertical-align: middle;\n",
       "    }\n",
       "\n",
       "    .dataframe tbody tr th {\n",
       "        vertical-align: top;\n",
       "    }\n",
       "\n",
       "    .dataframe thead th {\n",
       "        text-align: right;\n",
       "    }\n",
       "</style>\n",
       "<table border=\"1\" class=\"dataframe\">\n",
       "  <thead>\n",
       "    <tr style=\"text-align: right;\">\n",
       "      <th></th>\n",
       "      <th>Label</th>\n",
       "      <th>Intensity</th>\n",
       "      <th>Symmetry</th>\n",
       "    </tr>\n",
       "  </thead>\n",
       "  <tbody>\n",
       "    <tr>\n",
       "      <th>0</th>\n",
       "      <td>6.0</td>\n",
       "      <td>-0.317816</td>\n",
       "      <td>0.620789</td>\n",
       "    </tr>\n",
       "    <tr>\n",
       "      <th>1</th>\n",
       "      <td>5.0</td>\n",
       "      <td>-0.111738</td>\n",
       "      <td>0.466273</td>\n",
       "    </tr>\n",
       "    <tr>\n",
       "      <th>2</th>\n",
       "      <td>4.0</td>\n",
       "      <td>-0.537996</td>\n",
       "      <td>0.556992</td>\n",
       "    </tr>\n",
       "    <tr>\n",
       "      <th>3</th>\n",
       "      <td>7.0</td>\n",
       "      <td>-0.599449</td>\n",
       "      <td>0.702945</td>\n",
       "    </tr>\n",
       "    <tr>\n",
       "      <th>4</th>\n",
       "      <td>3.0</td>\n",
       "      <td>-0.416129</td>\n",
       "      <td>0.651055</td>\n",
       "    </tr>\n",
       "    <tr>\n",
       "      <th>5</th>\n",
       "      <td>6.0</td>\n",
       "      <td>-0.574430</td>\n",
       "      <td>0.493344</td>\n",
       "    </tr>\n",
       "    <tr>\n",
       "      <th>6</th>\n",
       "      <td>3.0</td>\n",
       "      <td>-0.593242</td>\n",
       "      <td>0.508094</td>\n",
       "    </tr>\n",
       "    <tr>\n",
       "      <th>7</th>\n",
       "      <td>1.0</td>\n",
       "      <td>-0.753914</td>\n",
       "      <td>0.882563</td>\n",
       "    </tr>\n",
       "    <tr>\n",
       "      <th>8</th>\n",
       "      <td>0.0</td>\n",
       "      <td>-0.420918</td>\n",
       "      <td>0.562133</td>\n",
       "    </tr>\n",
       "    <tr>\n",
       "      <th>9</th>\n",
       "      <td>1.0</td>\n",
       "      <td>-0.772281</td>\n",
       "      <td>0.837703</td>\n",
       "    </tr>\n",
       "  </tbody>\n",
       "</table>\n",
       "</div>"
      ]
     },
     "execution_count": 36,
     "metadata": {},
     "output_type": "execute_result"
    }
   ],
   "execution_count": 36
  },
  {
   "metadata": {
    "ExecuteTime": {
     "end_time": "2025-05-03T18:21:36.233457Z",
     "start_time": "2025-05-03T18:21:36.221196Z"
    }
   },
   "cell_type": "code",
   "source": "test_df.head(10)",
   "id": "358c4bf972777f4a",
   "outputs": [
    {
     "data": {
      "text/plain": [
       "   Label  Intensity  Symmetry\n",
       "0    9.0  -0.455645  0.480117\n",
       "1    6.0  -0.469734  0.452781\n",
       "2    3.0  -0.328148  0.493016\n",
       "3    6.0  -0.470301  0.522570\n",
       "4    6.0  -0.309324  0.309367\n",
       "5    0.0  -0.295230  0.668836\n",
       "6    0.0  -0.344187  0.708172\n",
       "7    0.0  -0.299211  0.811203\n",
       "8    6.0  -0.354484  0.467203\n",
       "9    9.0  -0.621277  0.721664"
      ],
      "text/html": [
       "<div>\n",
       "<style scoped>\n",
       "    .dataframe tbody tr th:only-of-type {\n",
       "        vertical-align: middle;\n",
       "    }\n",
       "\n",
       "    .dataframe tbody tr th {\n",
       "        vertical-align: top;\n",
       "    }\n",
       "\n",
       "    .dataframe thead th {\n",
       "        text-align: right;\n",
       "    }\n",
       "</style>\n",
       "<table border=\"1\" class=\"dataframe\">\n",
       "  <thead>\n",
       "    <tr style=\"text-align: right;\">\n",
       "      <th></th>\n",
       "      <th>Label</th>\n",
       "      <th>Intensity</th>\n",
       "      <th>Symmetry</th>\n",
       "    </tr>\n",
       "  </thead>\n",
       "  <tbody>\n",
       "    <tr>\n",
       "      <th>0</th>\n",
       "      <td>9.0</td>\n",
       "      <td>-0.455645</td>\n",
       "      <td>0.480117</td>\n",
       "    </tr>\n",
       "    <tr>\n",
       "      <th>1</th>\n",
       "      <td>6.0</td>\n",
       "      <td>-0.469734</td>\n",
       "      <td>0.452781</td>\n",
       "    </tr>\n",
       "    <tr>\n",
       "      <th>2</th>\n",
       "      <td>3.0</td>\n",
       "      <td>-0.328148</td>\n",
       "      <td>0.493016</td>\n",
       "    </tr>\n",
       "    <tr>\n",
       "      <th>3</th>\n",
       "      <td>6.0</td>\n",
       "      <td>-0.470301</td>\n",
       "      <td>0.522570</td>\n",
       "    </tr>\n",
       "    <tr>\n",
       "      <th>4</th>\n",
       "      <td>6.0</td>\n",
       "      <td>-0.309324</td>\n",
       "      <td>0.309367</td>\n",
       "    </tr>\n",
       "    <tr>\n",
       "      <th>5</th>\n",
       "      <td>0.0</td>\n",
       "      <td>-0.295230</td>\n",
       "      <td>0.668836</td>\n",
       "    </tr>\n",
       "    <tr>\n",
       "      <th>6</th>\n",
       "      <td>0.0</td>\n",
       "      <td>-0.344187</td>\n",
       "      <td>0.708172</td>\n",
       "    </tr>\n",
       "    <tr>\n",
       "      <th>7</th>\n",
       "      <td>0.0</td>\n",
       "      <td>-0.299211</td>\n",
       "      <td>0.811203</td>\n",
       "    </tr>\n",
       "    <tr>\n",
       "      <th>8</th>\n",
       "      <td>6.0</td>\n",
       "      <td>-0.354484</td>\n",
       "      <td>0.467203</td>\n",
       "    </tr>\n",
       "    <tr>\n",
       "      <th>9</th>\n",
       "      <td>9.0</td>\n",
       "      <td>-0.621277</td>\n",
       "      <td>0.721664</td>\n",
       "    </tr>\n",
       "  </tbody>\n",
       "</table>\n",
       "</div>"
      ]
     },
     "execution_count": 44,
     "metadata": {},
     "output_type": "execute_result"
    }
   ],
   "execution_count": 44
  },
  {
   "metadata": {
    "ExecuteTime": {
     "end_time": "2025-05-03T18:22:25.632007Z",
     "start_time": "2025-05-03T18:22:25.625879Z"
    }
   },
   "cell_type": "code",
   "source": [
    "train_counts = train_df['Label'].value_counts()\n",
    "test_counts = test_df['Label'].value_counts()\n",
    "\n",
    "print(f'Training data counts: {train_counts}\\nTesting data counts: {test_counts}')"
   ],
   "id": "b1ed3f27184a85f5",
   "outputs": [
    {
     "name": "stdout",
     "output_type": "stream",
     "text": [
      "Training data counts: Label\n",
      "0.0    1194\n",
      "1.0    1005\n",
      "2.0     731\n",
      "6.0     664\n",
      "3.0     658\n",
      "4.0     652\n",
      "7.0     645\n",
      "9.0     644\n",
      "5.0     556\n",
      "8.0     542\n",
      "Name: count, dtype: int64\n",
      "Testing data counts: Label\n",
      "0.0    359\n",
      "1.0    264\n",
      "4.0    200\n",
      "2.0    198\n",
      "9.0    177\n",
      "6.0    170\n",
      "3.0    166\n",
      "8.0    166\n",
      "5.0    160\n",
      "7.0    147\n",
      "Name: count, dtype: int64\n"
     ]
    }
   ],
   "execution_count": 47
  },
  {
   "metadata": {
    "ExecuteTime": {
     "end_time": "2025-05-03T18:31:53.789735Z",
     "start_time": "2025-05-03T18:31:53.783661Z"
    }
   },
   "cell_type": "code",
   "source": [
    "# For checking the distribution of labels in the training and testing data\n",
    "# This was more of a sanity check to ensure the data was loaded correctly\n",
    "# And also because the series was not in order\n",
    "\n",
    "train_counts = np.bincount(train_labels)\n",
    "test_counts = np.bincount(test_labels)\n",
    "\n",
    "# print(f'Training data counts: {train_counts}\\nTesting data counts: {test_counts}')"
   ],
   "id": "ac4901b6c68b4ff9",
   "outputs": [],
   "execution_count": 51
  },
  {
   "metadata": {},
   "cell_type": "markdown",
   "source": "# Problem 1",
   "id": "b3dddcac9a0bfbe6"
  },
  {
   "metadata": {},
   "cell_type": "markdown",
   "source": "## (A) Plotting for the distribution of labels in the training and testing data",
   "id": "b8f5aa3900c0c128"
  },
  {
   "metadata": {
    "ExecuteTime": {
     "end_time": "2025-05-03T18:31:55.892673Z",
     "start_time": "2025-05-03T18:31:55.750221Z"
    }
   },
   "cell_type": "code",
   "source": [
    "# Plotting for the distribution of labels in the training and testing data\n",
    "fig, (axis_1, axis_2) = plt.subplots(1, 2, figsize=(15, 6))\n",
    "\n",
    "digits = np.arange(10)\n",
    "axis_1.bar(digits, train_counts, color='orange', edgecolor='black')\n",
    "axis_1.set_xticks(digits)\n",
    "axis_1.set_xlabel('Digit')\n",
    "axis_1.set_ylabel('Frequency')\n",
    "axis_1.set_title('Training Data Distribution')\n",
    "\n",
    "for i, count in enumerate(train_counts):\n",
    "    axis_1.text(i, count + 10, str(count), ha='center', va='bottom')\n",
    "    \n",
    "axis_2.bar(digits, test_counts, color='blue', edgecolor='black')\n",
    "axis_2.set_xticks(digits)\n",
    "axis_2.set_xlabel('Digit')\n",
    "axis_2.set_ylabel('Frequency')\n",
    "axis_2.set_title('Testing Data Distribution')\n",
    "\n",
    "for i, count in enumerate(test_counts):\n",
    "    axis_2.text(i, count + 10, str(count), ha='center', va='bottom')\n",
    "    \n",
    "plt.suptitle('MNIST Data Distribution', fontsize=16)\n",
    "    \n",
    "plt.tight_layout()\n",
    "plt.show()"
   ],
   "id": "aaffb8699a461e82",
   "outputs": [
    {
     "data": {
      "text/plain": [
       "<Figure size 1500x600 with 2 Axes>"
      ],
      "image/png": "[encoded data removed]"
     },
     "metadata": {},
     "output_type": "display_data"
    }
   ],
   "execution_count": 52
  },
  {
   "metadata": {},
   "cell_type": "markdown",
   "source": "## (B) Plotting the pixel intensity and symmetry for each digit",
   "id": "4e7ea4714d81be6d"
  },
  {
   "metadata": {
    "ExecuteTime": {
     "end_time": "2025-05-03T18:44:36.654404Z",
     "start_time": "2025-05-03T18:44:36.363402Z"
    }
   },
   "cell_type": "code",
   "source": [
    "# Train (Symmetry & Intensity) Plots\n",
    "\n",
    "fig, axes = plt.subplots(2, 2, figsize=(14, 10))\n",
    "\n",
    "axes[0, 0].hist(train_intensities, bins=50, color='orange', edgecolor='black')\n",
    "axes[0, 0].set_title('Training set Pixel Intensity Distribution')\n",
    "axes[0, 0].set_xlabel('Pixel Intensity')\n",
    "axes[0, 0].set_ylabel('Frequency')\n",
    "\n",
    "axes[0, 1].hist(train_symmetry, bins=50, color='blue', edgecolor='black')\n",
    "axes[0, 1].set_title('Training set Pixel Symmetry Distribution')\n",
    "axes[0, 1].set_xlabel('Pixel Symmetry')\n",
    "axes[0, 1].set_ylabel('Frequency')\n",
    "\n",
    "# Test (Symmetry & Intensity) Plots\n",
    "\n",
    "axes[1, 0].hist(test_intensities, bins=50, color='orange', edgecolor='black')\n",
    "axes[1, 0].set_title('Test set Pixel Intensity Distribution')\n",
    "axes[1, 0].set_xlabel('Pixel Intensity')\n",
    "axes[1, 0].set_ylabel('Frequency')\n",
    "\n",
    "axes[1, 1].hist(test_symmetry, bins=50, color='blue', edgecolor='black')\n",
    "axes[1, 1].set_title('TEst set Pixel Symmetry Distribution')\n",
    "axes[1, 1].set_xlabel('Pixel Symmetry')\n",
    "axes[1, 1].set_ylabel('Frequency')"
   ],
   "id": "47db34e4b5769f60",
   "outputs": [
    {
     "data": {
      "text/plain": [
       "Text(0, 0.5, 'Frequency')"
      ]
     },
     "execution_count": 60,
     "metadata": {},
     "output_type": "execute_result"
    },
    {
     "data": {
      "text/plain": [
       "<Figure size 1400x1000 with 4 Axes>"
      ],
      "image/png": "[encoded data removed]"
     },
     "metadata": {},
     "output_type": "display_data"
    }
   ],
   "execution_count": 60
  },
  {
   "metadata": {
    "ExecuteTime": {
     "end_time": "2025-05-03T18:45:03.005208Z",
     "start_time": "2025-05-03T18:45:02.992999Z"
    }
   },
   "cell_type": "code",
   "source": [
    "# Print summary statistics\n",
    "print(\"===== Summary Statistics =====\")\n",
    "print(\"\\nTraining Set:\")\n",
    "print(f\"Intensity - Mean: {np.mean(train_intensities):.4f}, Median: {np.median(train_intensities):.4f}, Std: {np.std(train_intensities):.4f}\")\n",
    "print(f\"Symmetry - Mean: {np.mean(train_symmetry):.4f}, Median: {np.median(train_symmetry):.4f}, Std: {np.std(train_symmetry):.4f}\")\n",
    "\n",
    "print(\"\\nTest Set:\")\n",
    "print(f\"Intensity - Mean: {np.mean(test_intensities):.4f}, Median: {np.median(test_intensities):.4f}, Std: {np.std(test_intensities):.4f}\")\n",
    "print(f\"Symmetry - Mean: {np.mean(test_symmetry):.4f}, Median: {np.median(test_symmetry):.4f}, Std: {np.std(test_symmetry):.4f}\")\n"
   ],
   "id": "d0fd23c030c44267",
   "outputs": [
    {
     "name": "stdout",
     "output_type": "stream",
     "text": [
      "===== Summary Statistics =====\n",
      "\n",
      "Training Set:\n",
      "Intensity - Mean: -0.4910, Median: -0.5094, Std: 0.1859\n",
      "Symmetry - Mean: 0.6116, Median: 0.6045, Std: 0.1791\n",
      "\n",
      "Test Set:\n",
      "Intensity - Mean: -0.4648, Median: -0.4877, Std: 0.1990\n",
      "Symmetry - Mean: 0.6055, Median: 0.5999, Std: 0.1799\n"
     ]
    }
   ],
   "execution_count": 61
  },
  {
   "metadata": {
    "ExecuteTime": {
     "end_time": "2025-05-03T18:47:50.850878Z",
     "start_time": "2025-05-03T18:47:50.844777Z"
    }
   },
   "cell_type": "code",
   "source": [
    "train_data_binaries = train_labels.copy()\n",
    "test_data_binaries = test_labels.copy()\n",
    "\n",
    "print(f'Training data labels: {train_data_binaries}\\nTesting data labels: {test_data_binaries}')"
   ],
   "id": "d68b0aaa617e52d3",
   "outputs": [
    {
     "name": "stdout",
     "output_type": "stream",
     "text": [
      "Training data labels: [6 5 4 ... 3 0 1]\n",
      "Testing data labels: [9 6 3 ... 4 0 1]\n"
     ]
    }
   ],
   "execution_count": 62
  },
  {
   "metadata": {
    "ExecuteTime": {
     "end_time": "2025-05-03T18:49:41.211832Z",
     "start_time": "2025-05-03T18:49:41.200795Z"
    }
   },
   "cell_type": "code",
   "source": [
    "train_data_binaries = np.where(train_data_binaries == 1, 1, -1)\n",
    "test_data_binaries = np.where(test_data_binaries == 1, 1, -1)\n",
    "\n",
    "print(f'Training data labels: {train_data_binaries}\\nTesting data labels: {test_data_binaries}')"
   ],
   "id": "d1b552a2580eaf54",
   "outputs": [
    {
     "name": "stdout",
     "output_type": "stream",
     "text": [
      "Training data labels: [-1 -1 -1 ... -1 -1  1]\n",
      "Testing data labels: [-1 -1 -1 ... -1 -1  1]\n"
     ]
    }
   ],
   "execution_count": 64
  },
  {
   "metadata": {},
   "cell_type": "code",
   "outputs": [],
   "execution_count": null,
   "source": "",
   "id": "74c24f177811f685"
  }
 ],
 "metadata": {
  "kernelspec": {
   "display_name": "Python 3",
   "language": "python",
   "name": "python3"
  },
  "language_info": {
   "codemirror_mode": {
    "name": "ipython",
    "version": 2
   },
   "file_extension": ".py",
   "mimetype": "text/x-python",
   "name": "python",
   "nbconvert_exporter": "python",
   "pygments_lexer": "ipython2",
   "version": "2.7.6"
  }
 },
 "nbformat": 4,
 "nbformat_minor": 5
}
